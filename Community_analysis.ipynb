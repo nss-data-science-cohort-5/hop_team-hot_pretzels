{
 "cells": [
  {
   "cell_type": "code",
   "execution_count": 520,
   "id": "71967b07",
   "metadata": {},
   "outputs": [],
   "source": [
    "import pandas as pd\n",
    "import matplotlib.pyplot as plt\n",
    "import plotly.express as px\n",
    "import numpy as np\n",
    "import seaborn as sns"
   ]
  },
  {
   "cell_type": "code",
   "execution_count": 2,
   "id": "68f2a4a8",
   "metadata": {},
   "outputs": [],
   "source": [
    "referrals_big = pd.read_csv('data/referrals_big.csv')"
   ]
  },
  {
   "cell_type": "code",
   "execution_count": 3,
   "id": "faf19260",
   "metadata": {},
   "outputs": [],
   "source": [
    "pd.set_option('display.max_columns', 100)"
   ]
  },
  {
   "cell_type": "code",
   "execution_count": 4,
   "id": "3ac5a970",
   "metadata": {},
   "outputs": [],
   "source": [
    "referrals_big = referrals_big[referrals_big['entity_from'] == 1.0]"
   ]
  },
  {
   "cell_type": "code",
   "execution_count": 5,
   "id": "bb600285",
   "metadata": {
    "scrolled": true
   },
   "outputs": [],
   "source": [
    "referrals_big.to_csv('data/referrals_big_filtered')"
   ]
  },
  {
   "cell_type": "code",
   "execution_count": 329,
   "id": "1fa70a53",
   "metadata": {},
   "outputs": [],
   "source": [
    "classification_exclusions = ['Radiology', 'Emergency Medicine', 'Pathology', 'Clinical Medical Laboratory', 'Physiological Laboratory','Anesthesiology']"
   ]
  },
  {
   "cell_type": "code",
   "execution_count": null,
   "id": "e4043e4d",
   "metadata": {},
   "outputs": [],
   "source": []
  },
  {
   "cell_type": "code",
   "execution_count": 331,
   "id": "f6674da5",
   "metadata": {
    "scrolled": true
   },
   "outputs": [],
   "source": [
    "referrals_big_filtered = referrals_big[(~referrals_big['classification_from'].isin(classification_exclusions)) & \n",
    "              (~referrals_big['classification_to'].isin(classification_exclusions))]"
   ]
  },
  {
   "cell_type": "code",
   "execution_count": 6,
   "id": "28ca9f79",
   "metadata": {},
   "outputs": [],
   "source": [
    "pd.set_option('display.float_format', lambda x: '%.0f' % x)\n",
    "\n",
    "comm2 = pd.read_csv('data/communities2')"
   ]
  },
  {
   "cell_type": "code",
   "execution_count": 7,
   "id": "c01140be",
   "metadata": {},
   "outputs": [],
   "source": [
    "to_comm2 = comm2[comm2['from_npi'].isna()].drop(columns = ['from_npi']).rename(columns={'communityId':'to_communityid'})"
   ]
  },
  {
   "cell_type": "code",
   "execution_count": 8,
   "id": "87126f24",
   "metadata": {},
   "outputs": [],
   "source": [
    "from_comm2 = comm2[comm2['to_npi'].isna()].drop(columns = ['to_npi']).rename(columns={'communityId':'from_communityid'})"
   ]
  },
  {
   "cell_type": "code",
   "execution_count": 9,
   "id": "1ae0eee7",
   "metadata": {},
   "outputs": [],
   "source": [
    "to_comm2['to_npi']=to_comm2['to_npi'].astype(int)\n",
    "from_comm2['from_npi']=from_comm2['from_npi'].astype(int)"
   ]
  },
  {
   "cell_type": "code",
   "execution_count": 10,
   "id": "4fb6dcda",
   "metadata": {},
   "outputs": [],
   "source": [
    "tax_hop_comm = pd.merge(referrals_big,to_comm2, on = 'to_npi')"
   ]
  },
  {
   "cell_type": "code",
   "execution_count": 11,
   "id": "573b9351",
   "metadata": {},
   "outputs": [],
   "source": [
    "tax_hop_comm = pd.merge(tax_hop_comm, from_comm2, on = 'from_npi')"
   ]
  },
  {
   "cell_type": "code",
   "execution_count": 12,
   "id": "25b00a75",
   "metadata": {},
   "outputs": [],
   "source": [
    "tax_hop_comm['organization_to'] = tax_hop_comm['organization_to'].fillna('none')"
   ]
  },
  {
   "cell_type": "code",
   "execution_count": 13,
   "id": "50e8bf31",
   "metadata": {},
   "outputs": [
    {
     "data": {
      "text/plain": [
       "array([12834,  9794], dtype=int64)"
      ]
     },
     "execution_count": 13,
     "metadata": {},
     "output_type": "execute_result"
    }
   ],
   "source": [
    "tax_hop_comm[tax_hop_comm['organization_to'].str.contains('VANDERBILT')]['to_communityid'].unique()"
   ]
  },
  {
   "cell_type": "code",
   "execution_count": 14,
   "id": "d63f32fa",
   "metadata": {},
   "outputs": [],
   "source": [
    "vanderbilt_communities = [12834,  9794]"
   ]
  },
  {
   "cell_type": "code",
   "execution_count": 15,
   "id": "34f1d218",
   "metadata": {},
   "outputs": [
    {
     "data": {
      "text/plain": [
       "19738"
      ]
     },
     "execution_count": 15,
     "metadata": {},
     "output_type": "execute_result"
    }
   ],
   "source": [
    "tax_hop_comm[~tax_hop_comm['from_communityid'].isin(vanderbilt_communities)]['from_npi'].nunique()"
   ]
  },
  {
   "cell_type": "code",
   "execution_count": 16,
   "id": "da5a2145",
   "metadata": {},
   "outputs": [
    {
     "data": {
      "text/plain": [
       "3578"
      ]
     },
     "execution_count": 16,
     "metadata": {},
     "output_type": "execute_result"
    }
   ],
   "source": [
    "tax_hop_comm[tax_hop_comm['from_communityid'].isin(vanderbilt_communities)]['from_npi'].nunique()"
   ]
  },
  {
   "cell_type": "markdown",
   "id": "4645ec7b",
   "metadata": {},
   "source": [
    "19738 doctors outside of vandy communities, 3578 in vandy community"
   ]
  },
  {
   "cell_type": "code",
   "execution_count": 24,
   "id": "ddb64bb0",
   "metadata": {},
   "outputs": [],
   "source": [
    "hospital_comms = tax_hop_comm[tax_hop_comm['classification_to'].str.contains('Hospital')]"
   ]
  },
  {
   "cell_type": "code",
   "execution_count": 25,
   "id": "5bfdbb02",
   "metadata": {},
   "outputs": [
    {
     "data": {
      "text/html": [
       "<div>\n",
       "<style scoped>\n",
       "    .dataframe tbody tr th:only-of-type {\n",
       "        vertical-align: middle;\n",
       "    }\n",
       "\n",
       "    .dataframe tbody tr th {\n",
       "        vertical-align: top;\n",
       "    }\n",
       "\n",
       "    .dataframe thead th {\n",
       "        text-align: right;\n",
       "    }\n",
       "</style>\n",
       "<table border=\"1\" class=\"dataframe\">\n",
       "  <thead>\n",
       "    <tr style=\"text-align: right;\">\n",
       "      <th></th>\n",
       "      <th>patient_count</th>\n",
       "    </tr>\n",
       "    <tr>\n",
       "      <th>organization_to</th>\n",
       "      <th></th>\n",
       "    </tr>\n",
       "  </thead>\n",
       "  <tbody>\n",
       "    <tr>\n",
       "      <th>HCA HEALTH SERVICES OF TENNESSEE, INC.</th>\n",
       "      <td>334284</td>\n",
       "    </tr>\n",
       "    <tr>\n",
       "      <th>MAURY REGIONAL HOSPITAL</th>\n",
       "      <td>167597</td>\n",
       "    </tr>\n",
       "    <tr>\n",
       "      <th>SAINT THOMAS RUTHERFORD HOSPITAL</th>\n",
       "      <td>84959</td>\n",
       "    </tr>\n",
       "    <tr>\n",
       "      <th>none</th>\n",
       "      <td>80607</td>\n",
       "    </tr>\n",
       "    <tr>\n",
       "      <th>HTI MEMORIAL HOSPITAL CORPORATION</th>\n",
       "      <td>78942</td>\n",
       "    </tr>\n",
       "    <tr>\n",
       "      <th>SUMNER REGIONAL MEDICAL CENTER LLC</th>\n",
       "      <td>58770</td>\n",
       "    </tr>\n",
       "    <tr>\n",
       "      <th>HENDERSONVILLE HOSPITAL CORPORATION</th>\n",
       "      <td>53740</td>\n",
       "    </tr>\n",
       "    <tr>\n",
       "      <th>VANDERBILT UNIVERSITY MEDICAL CENTER</th>\n",
       "      <td>51909</td>\n",
       "    </tr>\n",
       "    <tr>\n",
       "      <th>CENTRAL TENNESSEE HOSPITAL CORPORATION</th>\n",
       "      <td>42097</td>\n",
       "    </tr>\n",
       "    <tr>\n",
       "      <th>MIDDLE TENNESSEE HOSPITALIST</th>\n",
       "      <td>37731</td>\n",
       "    </tr>\n",
       "  </tbody>\n",
       "</table>\n",
       "</div>"
      ],
      "text/plain": [
       "                                        patient_count\n",
       "organization_to                                      \n",
       "HCA HEALTH SERVICES OF TENNESSEE, INC.         334284\n",
       "MAURY REGIONAL HOSPITAL                        167597\n",
       "SAINT THOMAS RUTHERFORD HOSPITAL                84959\n",
       "none                                            80607\n",
       "HTI MEMORIAL HOSPITAL CORPORATION               78942\n",
       "SUMNER REGIONAL MEDICAL CENTER LLC              58770\n",
       "HENDERSONVILLE HOSPITAL CORPORATION             53740\n",
       "VANDERBILT UNIVERSITY MEDICAL CENTER            51909\n",
       "CENTRAL TENNESSEE HOSPITAL CORPORATION          42097\n",
       "MIDDLE TENNESSEE HOSPITALIST                    37731"
      ]
     },
     "execution_count": 25,
     "metadata": {},
     "output_type": "execute_result"
    }
   ],
   "source": [
    "pd.DataFrame(hospital_comms[~hospital_comms['from_communityid'].isin(vanderbilt_communities)]\n",
    "             .groupby('organization_to')\n",
    "             ['patient_count'].sum()).sort_values('patient_count', ascending = False).head(10)"
   ]
  },
  {
   "cell_type": "markdown",
   "id": "6998d4fe",
   "metadata": {},
   "source": [
    "Largest hospital outside of the vanderbilt community is HCA. Explore the doctors outside of vanderbilt community that still refer to vanderbilt. Could be an interesting insight because they already refer to vanderbilt hospitals. Also look at specializations"
   ]
  },
  {
   "cell_type": "code",
   "execution_count": 26,
   "id": "fe7f1e67",
   "metadata": {},
   "outputs": [
    {
     "name": "stderr",
     "output_type": "stream",
     "text": [
      "<ipython-input-26-a1528850b05c>:4: SettingWithCopyWarning: \n",
      "A value is trying to be set on a copy of a slice from a DataFrame.\n",
      "Try using .loc[row_indexer,col_indexer] = value instead\n",
      "\n",
      "See the caveats in the documentation: https://pandas.pydata.org/pandas-docs/stable/user_guide/indexing.html#returning-a-view-versus-a-copy\n",
      "  hospital_comms['Vanderbilt?'] = np.select(conditions, choices)\n"
     ]
    }
   ],
   "source": [
    "conditions = [hospital_comms['organization_to'].str.contains('VANDERBILT'), ~hospital_comms['organization_to'].str.contains('VANDERBILT')]\n",
    "choices = ['Vanderbilt','Other']\n",
    "\n",
    "hospital_comms['Vanderbilt?'] = np.select(conditions, choices)"
   ]
  },
  {
   "cell_type": "markdown",
   "id": "c96eb700",
   "metadata": {},
   "source": [
    "This is creating dataframe of npis out of the vanderbilt communities that may still refer to vanderbilt"
   ]
  },
  {
   "cell_type": "code",
   "execution_count": 28,
   "id": "08ad4f95",
   "metadata": {},
   "outputs": [],
   "source": [
    "outside_vandy = pd.DataFrame(hospital_comms[~hospital_comms['from_communityid'].isin(vanderbilt_communities)]\n",
    "             .groupby(['from_npi','Vanderbilt?'])\n",
    "             ['patient_count'].sum()).reset_index()"
   ]
  },
  {
   "cell_type": "code",
   "execution_count": 29,
   "id": "0640e969",
   "metadata": {},
   "outputs": [],
   "source": [
    "outside_vandy_docs = outside_vandy[outside_vandy['Vanderbilt?'] == 'Vanderbilt'].from_npi.to_list()"
   ]
  },
  {
   "cell_type": "code",
   "execution_count": 30,
   "id": "b40a2d34",
   "metadata": {},
   "outputs": [],
   "source": [
    "recs = outside_vandy[outside_vandy['from_npi'].isin(outside_vandy_docs)].pivot(index = 'from_npi',columns = 'Vanderbilt?', values = 'patient_count')"
   ]
  },
  {
   "cell_type": "code",
   "execution_count": 31,
   "id": "bc2ea96b",
   "metadata": {},
   "outputs": [],
   "source": [
    "recs['difference'] = abs(recs['Other'] - recs['Vanderbilt'])"
   ]
  },
  {
   "cell_type": "code",
   "execution_count": 32,
   "id": "b0d8df5d",
   "metadata": {},
   "outputs": [],
   "source": [
    "recs = recs.sort_values('difference').dropna()"
   ]
  },
  {
   "cell_type": "code",
   "execution_count": 33,
   "id": "617e69ae",
   "metadata": {},
   "outputs": [
    {
     "data": {
      "text/html": [
       "<div>\n",
       "<style scoped>\n",
       "    .dataframe tbody tr th:only-of-type {\n",
       "        vertical-align: middle;\n",
       "    }\n",
       "\n",
       "    .dataframe tbody tr th {\n",
       "        vertical-align: top;\n",
       "    }\n",
       "\n",
       "    .dataframe thead th {\n",
       "        text-align: right;\n",
       "    }\n",
       "</style>\n",
       "<table border=\"1\" class=\"dataframe\">\n",
       "  <thead>\n",
       "    <tr style=\"text-align: right;\">\n",
       "      <th>Vanderbilt?</th>\n",
       "      <th>Other</th>\n",
       "      <th>Vanderbilt</th>\n",
       "      <th>difference</th>\n",
       "    </tr>\n",
       "    <tr>\n",
       "      <th>from_npi</th>\n",
       "      <th></th>\n",
       "      <th></th>\n",
       "      <th></th>\n",
       "    </tr>\n",
       "  </thead>\n",
       "  <tbody>\n",
       "    <tr>\n",
       "      <th>1790757755</th>\n",
       "      <td>46</td>\n",
       "      <td>45</td>\n",
       "      <td>1</td>\n",
       "    </tr>\n",
       "    <tr>\n",
       "      <th>1114956687</th>\n",
       "      <td>163</td>\n",
       "      <td>164</td>\n",
       "      <td>1</td>\n",
       "    </tr>\n",
       "    <tr>\n",
       "      <th>1528046109</th>\n",
       "      <td>22</td>\n",
       "      <td>23</td>\n",
       "      <td>1</td>\n",
       "    </tr>\n",
       "    <tr>\n",
       "      <th>1720452360</th>\n",
       "      <td>48</td>\n",
       "      <td>47</td>\n",
       "      <td>1</td>\n",
       "    </tr>\n",
       "    <tr>\n",
       "      <th>1245233063</th>\n",
       "      <td>117</td>\n",
       "      <td>119</td>\n",
       "      <td>2</td>\n",
       "    </tr>\n",
       "    <tr>\n",
       "      <th>...</th>\n",
       "      <td>...</td>\n",
       "      <td>...</td>\n",
       "      <td>...</td>\n",
       "    </tr>\n",
       "    <tr>\n",
       "      <th>1073856696</th>\n",
       "      <td>2155</td>\n",
       "      <td>68</td>\n",
       "      <td>2087</td>\n",
       "    </tr>\n",
       "    <tr>\n",
       "      <th>1932465812</th>\n",
       "      <td>2435</td>\n",
       "      <td>118</td>\n",
       "      <td>2317</td>\n",
       "    </tr>\n",
       "    <tr>\n",
       "      <th>1942284658</th>\n",
       "      <td>3155</td>\n",
       "      <td>70</td>\n",
       "      <td>3085</td>\n",
       "    </tr>\n",
       "    <tr>\n",
       "      <th>1679689285</th>\n",
       "      <td>3675</td>\n",
       "      <td>246</td>\n",
       "      <td>3429</td>\n",
       "    </tr>\n",
       "    <tr>\n",
       "      <th>1093753303</th>\n",
       "      <td>19254</td>\n",
       "      <td>853</td>\n",
       "      <td>18401</td>\n",
       "    </tr>\n",
       "  </tbody>\n",
       "</table>\n",
       "<p>498 rows × 3 columns</p>\n",
       "</div>"
      ],
      "text/plain": [
       "Vanderbilt?  Other  Vanderbilt  difference\n",
       "from_npi                                  \n",
       "1790757755      46          45           1\n",
       "1114956687     163         164           1\n",
       "1528046109      22          23           1\n",
       "1720452360      48          47           1\n",
       "1245233063     117         119           2\n",
       "...            ...         ...         ...\n",
       "1073856696    2155          68        2087\n",
       "1932465812    2435         118        2317\n",
       "1942284658    3155          70        3085\n",
       "1679689285    3675         246        3429\n",
       "1093753303   19254         853       18401\n",
       "\n",
       "[498 rows x 3 columns]"
      ]
     },
     "execution_count": 33,
     "metadata": {},
     "output_type": "execute_result"
    }
   ],
   "source": [
    "recs"
   ]
  },
  {
   "cell_type": "code",
   "execution_count": 34,
   "id": "03d8cf37",
   "metadata": {},
   "outputs": [],
   "source": [
    "recs.to_csv('data/recs.csv')"
   ]
  },
  {
   "cell_type": "code",
   "execution_count": 60,
   "id": "298ee269",
   "metadata": {},
   "outputs": [],
   "source": [
    "from_comm2.to_csv('data/from_communities.csv', index = False)"
   ]
  },
  {
   "cell_type": "code",
   "execution_count": 59,
   "id": "32f17409",
   "metadata": {},
   "outputs": [],
   "source": [
    "to_comm2.to_csv('data/to_communities.csv', index = False)"
   ]
  },
  {
   "cell_type": "code",
   "execution_count": 37,
   "id": "13e61328",
   "metadata": {
    "scrolled": true
   },
   "outputs": [
    {
     "data": {
      "text/plain": [
       "23316"
      ]
     },
     "execution_count": 37,
     "metadata": {},
     "output_type": "execute_result"
    }
   ],
   "source": [
    "tax_hop_comm['from_npi'].nunique()"
   ]
  },
  {
   "cell_type": "code",
   "execution_count": 38,
   "id": "b88d08fb",
   "metadata": {},
   "outputs": [
    {
     "data": {
      "text/plain": [
       "627"
      ]
     },
     "execution_count": 38,
     "metadata": {},
     "output_type": "execute_result"
    }
   ],
   "source": [
    "comm2['communityId'].nunique()"
   ]
  },
  {
   "cell_type": "code",
   "execution_count": 43,
   "id": "0d8b23b7",
   "metadata": {},
   "outputs": [
    {
     "data": {
      "text/plain": [
       "20"
      ]
     },
     "execution_count": 43,
     "metadata": {},
     "output_type": "execute_result"
    }
   ],
   "source": [
    "hospital_comms['to_communityid'].nunique()"
   ]
  },
  {
   "cell_type": "code",
   "execution_count": 85,
   "id": "7bfc640b",
   "metadata": {},
   "outputs": [
    {
     "name": "stderr",
     "output_type": "stream",
     "text": [
      "<ipython-input-85-d01d2c363a3b>:1: SettingWithCopyWarning: \n",
      "A value is trying to be set on a copy of a slice from a DataFrame.\n",
      "Try using .loc[row_indexer,col_indexer] = value instead\n",
      "\n",
      "See the caveats in the documentation: https://pandas.pydata.org/pandas-docs/stable/user_guide/indexing.html#returning-a-view-versus-a-copy\n",
      "  hospital_comms['specialization2_from'] = hospital_comms['classification_from'] + '(' + hospital_comms['specialization_from'] + ')'\n"
     ]
    }
   ],
   "source": [
    "hospital_comms['specialization2_from'] = hospital_comms['classification_from'] + '(' + hospital_comms['specialization_from'] + ')'"
   ]
  },
  {
   "cell_type": "code",
   "execution_count": 88,
   "id": "f2d22de5",
   "metadata": {},
   "outputs": [
    {
     "name": "stderr",
     "output_type": "stream",
     "text": [
      "<ipython-input-88-aec25e558766>:1: SettingWithCopyWarning: \n",
      "A value is trying to be set on a copy of a slice from a DataFrame.\n",
      "Try using .loc[row_indexer,col_indexer] = value instead\n",
      "\n",
      "See the caveats in the documentation: https://pandas.pydata.org/pandas-docs/stable/user_guide/indexing.html#returning-a-view-versus-a-copy\n",
      "  hospital_comms['specialization2_from'] = hospital_comms['specialization2_from'].fillna(hospital_comms['classification_from'])\n"
     ]
    }
   ],
   "source": [
    "hospital_comms['specialization2_from'] = hospital_comms['specialization2_from'].fillna(hospital_comms['classification_from'])"
   ]
  },
  {
   "cell_type": "code",
   "execution_count": 173,
   "id": "4df38cff",
   "metadata": {},
   "outputs": [
    {
     "data": {
      "text/plain": [
       "array(['General Acute Care Hospital', 'Rehabilitation Hospital'],\n",
       "      dtype=object)"
      ]
     },
     "execution_count": 173,
     "metadata": {},
     "output_type": "execute_result"
    }
   ],
   "source": [
    "hospital_comms[(hospital_comms['organization_to'].str.contains('VANDERBILT'))]['classification_to'].unique()"
   ]
  },
  {
   "cell_type": "markdown",
   "id": "b77c8551",
   "metadata": {},
   "source": [
    "Vanderbilt gets no referrals to its rehabilatation hospital from outside of its community."
   ]
  },
  {
   "cell_type": "code",
   "execution_count": 212,
   "id": "922cabac",
   "metadata": {},
   "outputs": [],
   "source": [
    "doctors_outside = pd.DataFrame(hospital_comms[~hospital_comms['from_communityid'].isin(vanderbilt_communities)]\n",
    "             .groupby(['city_from','state_from'])\n",
    "             .agg({'patient_count':'sum',\n",
    "                   'from_npi':'nunique'})).sort_values('from_npi',ascending = False).rename(columns = {'patient_count':'patient_count_other',\n",
    "                                                                                                      'from_npi':'doctor_count_other'}).reset_index()"
   ]
  },
  {
   "cell_type": "code",
   "execution_count": 213,
   "id": "55d13fb7",
   "metadata": {},
   "outputs": [],
   "source": [
    "doctors_inside =  pd.DataFrame(hospital_comms[hospital_comms['from_communityid'].isin(vanderbilt_communities)]\n",
    "             .groupby(['city_from','state_from'])\n",
    "             .agg({'patient_count':'sum',\n",
    "                   'from_npi':'nunique'})).sort_values('from_npi',ascending = False).rename(columns = {'patient_count':'patient_count_vandy',\n",
    "                                                                                                      'from_npi':'doctor_count_vandy'}).reset_index()"
   ]
  },
  {
   "cell_type": "code",
   "execution_count": 214,
   "id": "a84c5aa7",
   "metadata": {},
   "outputs": [],
   "source": [
    "doctor_comp = pd.merge(doctors_outside,doctors_inside, on = ['city_from','state_from'])"
   ]
  },
  {
   "cell_type": "code",
   "execution_count": 215,
   "id": "8fda6f0c",
   "metadata": {},
   "outputs": [],
   "source": [
    "doctor_comp_prob = doctor_comp[doctor_comp['doctor_count_other'] > doctor_comp['doctor_count_vandy']]"
   ]
  },
  {
   "cell_type": "code",
   "execution_count": 216,
   "id": "9c351b45",
   "metadata": {},
   "outputs": [
    {
     "name": "stderr",
     "output_type": "stream",
     "text": [
      "<ipython-input-216-25a07ac08550>:1: SettingWithCopyWarning: \n",
      "A value is trying to be set on a copy of a slice from a DataFrame.\n",
      "Try using .loc[row_indexer,col_indexer] = value instead\n",
      "\n",
      "See the caveats in the documentation: https://pandas.pydata.org/pandas-docs/stable/user_guide/indexing.html#returning-a-view-versus-a-copy\n",
      "  doctor_comp_prob['doc_diff'] = doctor_comp_prob['doctor_count_other'] - doctor_comp_prob['doctor_count_vandy']\n",
      "<ipython-input-216-25a07ac08550>:2: SettingWithCopyWarning: \n",
      "A value is trying to be set on a copy of a slice from a DataFrame.\n",
      "Try using .loc[row_indexer,col_indexer] = value instead\n",
      "\n",
      "See the caveats in the documentation: https://pandas.pydata.org/pandas-docs/stable/user_guide/indexing.html#returning-a-view-versus-a-copy\n",
      "  doctor_comp_prob['patient_diff'] = doctor_comp_prob['patient_count_other'] - doctor_comp_prob['patient_count_vandy']\n"
     ]
    }
   ],
   "source": [
    "doctor_comp_prob['doc_diff'] = doctor_comp_prob['doctor_count_other'] - doctor_comp_prob['doctor_count_vandy']\n",
    "doctor_comp_prob['patient_diff'] = doctor_comp_prob['patient_count_other'] - doctor_comp_prob['patient_count_vandy']"
   ]
  },
  {
   "cell_type": "code",
   "execution_count": 219,
   "id": "d3159233",
   "metadata": {
    "scrolled": true
   },
   "outputs": [
    {
     "data": {
      "text/html": [
       "<div>\n",
       "<style scoped>\n",
       "    .dataframe tbody tr th:only-of-type {\n",
       "        vertical-align: middle;\n",
       "    }\n",
       "\n",
       "    .dataframe tbody tr th {\n",
       "        vertical-align: top;\n",
       "    }\n",
       "\n",
       "    .dataframe thead th {\n",
       "        text-align: right;\n",
       "    }\n",
       "</style>\n",
       "<table border=\"1\" class=\"dataframe\">\n",
       "  <thead>\n",
       "    <tr style=\"text-align: right;\">\n",
       "      <th></th>\n",
       "      <th>city_from</th>\n",
       "      <th>state_from</th>\n",
       "      <th>patient_count_other</th>\n",
       "      <th>doctor_count_other</th>\n",
       "      <th>patient_count_vandy</th>\n",
       "      <th>doctor_count_vandy</th>\n",
       "      <th>doc_diff</th>\n",
       "      <th>patient_diff</th>\n",
       "    </tr>\n",
       "  </thead>\n",
       "  <tbody>\n",
       "    <tr>\n",
       "      <th>2</th>\n",
       "      <td>COLUMBIA</td>\n",
       "      <td>TN</td>\n",
       "      <td>111557</td>\n",
       "      <td>215</td>\n",
       "      <td>353</td>\n",
       "      <td>5</td>\n",
       "      <td>210</td>\n",
       "      <td>111204</td>\n",
       "    </tr>\n",
       "    <tr>\n",
       "      <th>1</th>\n",
       "      <td>MURFREESBORO</td>\n",
       "      <td>TN</td>\n",
       "      <td>84454</td>\n",
       "      <td>262</td>\n",
       "      <td>5274</td>\n",
       "      <td>29</td>\n",
       "      <td>233</td>\n",
       "      <td>79180</td>\n",
       "    </tr>\n",
       "    <tr>\n",
       "      <th>4</th>\n",
       "      <td>HENDERSONVILLE</td>\n",
       "      <td>TN</td>\n",
       "      <td>40140</td>\n",
       "      <td>90</td>\n",
       "      <td>3586</td>\n",
       "      <td>16</td>\n",
       "      <td>74</td>\n",
       "      <td>36554</td>\n",
       "    </tr>\n",
       "    <tr>\n",
       "      <th>5</th>\n",
       "      <td>GALLATIN</td>\n",
       "      <td>TN</td>\n",
       "      <td>35528</td>\n",
       "      <td>87</td>\n",
       "      <td>632</td>\n",
       "      <td>3</td>\n",
       "      <td>84</td>\n",
       "      <td>34896</td>\n",
       "    </tr>\n",
       "    <tr>\n",
       "      <th>3</th>\n",
       "      <td>HERMITAGE</td>\n",
       "      <td>TN</td>\n",
       "      <td>33876</td>\n",
       "      <td>96</td>\n",
       "      <td>3121</td>\n",
       "      <td>16</td>\n",
       "      <td>80</td>\n",
       "      <td>30755</td>\n",
       "    </tr>\n",
       "  </tbody>\n",
       "</table>\n",
       "</div>"
      ],
      "text/plain": [
       "        city_from state_from  patient_count_other  doctor_count_other  \\\n",
       "2        COLUMBIA         TN               111557                 215   \n",
       "1    MURFREESBORO         TN                84454                 262   \n",
       "4  HENDERSONVILLE         TN                40140                  90   \n",
       "5        GALLATIN         TN                35528                  87   \n",
       "3       HERMITAGE         TN                33876                  96   \n",
       "\n",
       "   patient_count_vandy  doctor_count_vandy  doc_diff  patient_diff  \n",
       "2                  353                   5       210        111204  \n",
       "1                 5274                  29       233         79180  \n",
       "4                 3586                  16        74         36554  \n",
       "5                  632                   3        84         34896  \n",
       "3                 3121                  16        80         30755  "
      ]
     },
     "execution_count": 219,
     "metadata": {},
     "output_type": "execute_result"
    }
   ],
   "source": [
    "doctor_comp_prob[doctor_comp_prob['state_from'] == 'TN'].sort_values(['patient_diff','doc_diff'], ascending = False).head(5)"
   ]
  },
  {
   "cell_type": "markdown",
   "id": "0c3e7681",
   "metadata": {},
   "source": [
    "Murfreesboro, Columbia, Gallatin, Hermitage, and Hendersonville have the highest difference in number of patients from inside the vanderbilt community and number of patients from outside of the Vanderbilt community. These places all have more doctors outside the vanderbilt community than in the vanderbilt community.\n"
   ]
  },
  {
   "cell_type": "code",
   "execution_count": 225,
   "id": "674a84c8",
   "metadata": {},
   "outputs": [
    {
     "data": {
      "text/plain": [
       "(120612, 31)"
      ]
     },
     "execution_count": 225,
     "metadata": {},
     "output_type": "execute_result"
    }
   ],
   "source": [
    "referrals_big.shape"
   ]
  },
  {
   "cell_type": "markdown",
   "id": "0c955d14",
   "metadata": {},
   "source": [
    "Identify the major communities in the Nashville CBSA, where major will probably be determined by patient count."
   ]
  },
  {
   "cell_type": "code",
   "execution_count": 362,
   "id": "a7e65b80",
   "metadata": {},
   "outputs": [],
   "source": [
    "major_hospital_comms = pd.DataFrame(hospital_comms_filtered.groupby('to_communityid')['patient_count'].sum()).sort_values('patient_count', ascending = False)"
   ]
  },
  {
   "cell_type": "code",
   "execution_count": 363,
   "id": "116ffe21",
   "metadata": {},
   "outputs": [],
   "source": [
    "major_hospital_comms['total'] = sum(major_hospital_comms.patient_count)"
   ]
  },
  {
   "cell_type": "code",
   "execution_count": 364,
   "id": "6a400108",
   "metadata": {},
   "outputs": [],
   "source": [
    "major_hospital_comms['patient_count'] = major_hospital_comms['patient_count'].astype('float')\n",
    "major_hospital_comms['total'] = major_hospital_comms['total'].astype('float')"
   ]
  },
  {
   "cell_type": "code",
   "execution_count": 365,
   "id": "1cfef037",
   "metadata": {},
   "outputs": [],
   "source": [
    "major_hospital_comms['mkt_share'] = major_hospital_comms['patient_count'] * 100/ major_hospital_comms['total'].astype('float')"
   ]
  },
  {
   "cell_type": "code",
   "execution_count": 366,
   "id": "f1ed084b",
   "metadata": {},
   "outputs": [
    {
     "data": {
      "text/html": [
       "<div>\n",
       "<style scoped>\n",
       "    .dataframe tbody tr th:only-of-type {\n",
       "        vertical-align: middle;\n",
       "    }\n",
       "\n",
       "    .dataframe tbody tr th {\n",
       "        vertical-align: top;\n",
       "    }\n",
       "\n",
       "    .dataframe thead th {\n",
       "        text-align: right;\n",
       "    }\n",
       "</style>\n",
       "<table border=\"1\" class=\"dataframe\">\n",
       "  <thead>\n",
       "    <tr style=\"text-align: right;\">\n",
       "      <th></th>\n",
       "      <th>patient_count</th>\n",
       "      <th>total</th>\n",
       "      <th>mkt_share</th>\n",
       "    </tr>\n",
       "    <tr>\n",
       "      <th>to_communityid</th>\n",
       "      <th></th>\n",
       "      <th></th>\n",
       "      <th></th>\n",
       "    </tr>\n",
       "  </thead>\n",
       "  <tbody>\n",
       "    <tr>\n",
       "      <th>12834</th>\n",
       "      <td>334696.00</td>\n",
       "      <td>1216724.00</td>\n",
       "      <td>27.51</td>\n",
       "    </tr>\n",
       "    <tr>\n",
       "      <th>16944</th>\n",
       "      <td>333486.00</td>\n",
       "      <td>1216724.00</td>\n",
       "      <td>27.41</td>\n",
       "    </tr>\n",
       "    <tr>\n",
       "      <th>9794</th>\n",
       "      <td>260208.00</td>\n",
       "      <td>1216724.00</td>\n",
       "      <td>21.39</td>\n",
       "    </tr>\n",
       "    <tr>\n",
       "      <th>28767</th>\n",
       "      <td>137023.00</td>\n",
       "      <td>1216724.00</td>\n",
       "      <td>11.26</td>\n",
       "    </tr>\n",
       "    <tr>\n",
       "      <th>20624</th>\n",
       "      <td>57570.00</td>\n",
       "      <td>1216724.00</td>\n",
       "      <td>4.73</td>\n",
       "    </tr>\n",
       "    <tr>\n",
       "      <th>12640</th>\n",
       "      <td>52512.00</td>\n",
       "      <td>1216724.00</td>\n",
       "      <td>4.32</td>\n",
       "    </tr>\n",
       "    <tr>\n",
       "      <th>8163</th>\n",
       "      <td>22568.00</td>\n",
       "      <td>1216724.00</td>\n",
       "      <td>1.85</td>\n",
       "    </tr>\n",
       "  </tbody>\n",
       "</table>\n",
       "</div>"
      ],
      "text/plain": [
       "                patient_count      total  mkt_share\n",
       "to_communityid                                     \n",
       "12834               334696.00 1216724.00      27.51\n",
       "16944               333486.00 1216724.00      27.41\n",
       "9794                260208.00 1216724.00      21.39\n",
       "28767               137023.00 1216724.00      11.26\n",
       "20624                57570.00 1216724.00       4.73\n",
       "12640                52512.00 1216724.00       4.32\n",
       "8163                 22568.00 1216724.00       1.85"
      ]
     },
     "execution_count": 366,
     "metadata": {},
     "output_type": "execute_result"
    }
   ],
   "source": [
    "pd.set_option('display.float_format', lambda x: '%.2f' % x)\n",
    "major_hospital_comms.head(7)"
   ]
  },
  {
   "cell_type": "markdown",
   "id": "0e940d44",
   "metadata": {},
   "source": [
    "7 communities contain at least 1 percent of total patients, two being communities that vanderbilt belongs to."
   ]
  },
  {
   "cell_type": "markdown",
   "id": "38d013db",
   "metadata": {},
   "source": [
    "for each community where Vanderbilt is already present, we want the optimize the number of patients coming from legit specializations and recruitable providers"
   ]
  },
  {
   "cell_type": "markdown",
   "id": "f53479cb",
   "metadata": {},
   "source": [
    "Vanderbilt  exclusively makes up all of community 12834, but is the third largest hospital in community 9794, behind st. thomas west and Williamson county hospital district."
   ]
  },
  {
   "cell_type": "code",
   "execution_count": 367,
   "id": "0f2457fc",
   "metadata": {},
   "outputs": [],
   "source": [
    "major_hospital_comms = major_hospital_comms.reset_index()"
   ]
  },
  {
   "cell_type": "code",
   "execution_count": 368,
   "id": "eafe7a9f",
   "metadata": {},
   "outputs": [],
   "source": [
    "top5_nonvandy_comms = major_hospital_comms[~major_hospital_comms['to_communityid'].isin(vanderbilt_communities)].head(5).to_communityid.to_list()"
   ]
  },
  {
   "cell_type": "code",
   "execution_count": 369,
   "id": "9612effd",
   "metadata": {},
   "outputs": [
    {
     "data": {
      "text/plain": [
       "[16944, 28767, 20624, 12640, 8163]"
      ]
     },
     "execution_count": 369,
     "metadata": {},
     "output_type": "execute_result"
    }
   ],
   "source": [
    "top5_nonvandy_comms"
   ]
  },
  {
   "cell_type": "code",
   "execution_count": 373,
   "id": "c5db3754",
   "metadata": {},
   "outputs": [],
   "source": [
    "city_comm = pd.DataFrame(hospital_comms_filtered[hospital_comms_filtered['from_communityid'].isin(top5_nonvandy_comms)].groupby(['city_from','from_communityid'])['patient_count'].sum()).reset_index().sort_values(['from_communityid', 'patient_count'], ascending = False)"
   ]
  },
  {
   "cell_type": "markdown",
   "id": "a23e5b09",
   "metadata": {},
   "source": [
    "Exclude:\n",
    "- Radiology\n",
    "- Emergency\n",
    "- Pathology\n",
    "- Laboratory\n",
    "- Anesthesiology"
   ]
  },
  {
   "cell_type": "markdown",
   "id": "5216004a",
   "metadata": {},
   "source": [
    "what communities should vanderbilt try to insert itself into? "
   ]
  },
  {
   "cell_type": "code",
   "execution_count": null,
   "id": "d6b16ac7",
   "metadata": {},
   "outputs": [],
   "source": []
  },
  {
   "cell_type": "code",
   "execution_count": 374,
   "id": "9c541546",
   "metadata": {
    "scrolled": true
   },
   "outputs": [
    {
     "data": {
      "text/html": [
       "<div>\n",
       "<style scoped>\n",
       "    .dataframe tbody tr th:only-of-type {\n",
       "        vertical-align: middle;\n",
       "    }\n",
       "\n",
       "    .dataframe tbody tr th {\n",
       "        vertical-align: top;\n",
       "    }\n",
       "\n",
       "    .dataframe thead th {\n",
       "        text-align: right;\n",
       "    }\n",
       "</style>\n",
       "<table border=\"1\" class=\"dataframe\">\n",
       "  <thead>\n",
       "    <tr style=\"text-align: right;\">\n",
       "      <th></th>\n",
       "      <th>city_from</th>\n",
       "      <th>from_communityid</th>\n",
       "      <th>patient_count</th>\n",
       "    </tr>\n",
       "  </thead>\n",
       "  <tbody>\n",
       "    <tr>\n",
       "      <th>54</th>\n",
       "      <td>COLUMBIA</td>\n",
       "      <td>28767</td>\n",
       "      <td>64150</td>\n",
       "    </tr>\n",
       "    <tr>\n",
       "      <th>220</th>\n",
       "      <td>MURFREESBORO</td>\n",
       "      <td>20624</td>\n",
       "      <td>40846</td>\n",
       "    </tr>\n",
       "    <tr>\n",
       "      <th>225</th>\n",
       "      <td>NASHVILLE</td>\n",
       "      <td>16944</td>\n",
       "      <td>161010</td>\n",
       "    </tr>\n",
       "    <tr>\n",
       "      <th>106</th>\n",
       "      <td>GALLATIN</td>\n",
       "      <td>12640</td>\n",
       "      <td>24010</td>\n",
       "    </tr>\n",
       "    <tr>\n",
       "      <th>71</th>\n",
       "      <td>DICKSON</td>\n",
       "      <td>8163</td>\n",
       "      <td>15906</td>\n",
       "    </tr>\n",
       "  </tbody>\n",
       "</table>\n",
       "</div>"
      ],
      "text/plain": [
       "        city_from  from_communityid  patient_count\n",
       "54       COLUMBIA             28767          64150\n",
       "220  MURFREESBORO             20624          40846\n",
       "225     NASHVILLE             16944         161010\n",
       "106      GALLATIN             12640          24010\n",
       "71        DICKSON              8163          15906"
      ]
     },
     "execution_count": 374,
     "metadata": {},
     "output_type": "execute_result"
    }
   ],
   "source": [
    "city_comm.groupby('from_communityid').head(1)"
   ]
  },
  {
   "cell_type": "markdown",
   "id": "e0748ebc",
   "metadata": {},
   "source": [
    "16944 are centered in Nashville"
   ]
  },
  {
   "cell_type": "code",
   "execution_count": 308,
   "id": "89401590",
   "metadata": {},
   "outputs": [],
   "source": [
    "nashville_non_vandy = [16944]"
   ]
  },
  {
   "cell_type": "code",
   "execution_count": 375,
   "id": "a00062cf",
   "metadata": {},
   "outputs": [
    {
     "data": {
      "text/html": [
       "<div>\n",
       "<style scoped>\n",
       "    .dataframe tbody tr th:only-of-type {\n",
       "        vertical-align: middle;\n",
       "    }\n",
       "\n",
       "    .dataframe tbody tr th {\n",
       "        vertical-align: top;\n",
       "    }\n",
       "\n",
       "    .dataframe thead th {\n",
       "        text-align: right;\n",
       "    }\n",
       "</style>\n",
       "<table border=\"1\" class=\"dataframe\">\n",
       "  <thead>\n",
       "    <tr style=\"text-align: right;\">\n",
       "      <th></th>\n",
       "      <th>patient_count</th>\n",
       "    </tr>\n",
       "    <tr>\n",
       "      <th>city_from</th>\n",
       "      <th></th>\n",
       "    </tr>\n",
       "  </thead>\n",
       "  <tbody>\n",
       "    <tr>\n",
       "      <th>NASHVILLE</th>\n",
       "      <td>368644</td>\n",
       "    </tr>\n",
       "    <tr>\n",
       "      <th>HERMITAGE</th>\n",
       "      <td>28237</td>\n",
       "    </tr>\n",
       "    <tr>\n",
       "      <th>HENDERSONVILLE</th>\n",
       "      <td>22403</td>\n",
       "    </tr>\n",
       "    <tr>\n",
       "      <th>DICKSON</th>\n",
       "      <td>18920</td>\n",
       "    </tr>\n",
       "    <tr>\n",
       "      <th>CLARKSVILLE</th>\n",
       "      <td>13901</td>\n",
       "    </tr>\n",
       "    <tr>\n",
       "      <th>...</th>\n",
       "      <td>...</td>\n",
       "    </tr>\n",
       "    <tr>\n",
       "      <th>MC EWEN</th>\n",
       "      <td>36</td>\n",
       "    </tr>\n",
       "    <tr>\n",
       "      <th>DECATURVILLE</th>\n",
       "      <td>31</td>\n",
       "    </tr>\n",
       "    <tr>\n",
       "      <th>COUNCE</th>\n",
       "      <td>31</td>\n",
       "    </tr>\n",
       "    <tr>\n",
       "      <th>MUNFORD</th>\n",
       "      <td>29</td>\n",
       "    </tr>\n",
       "    <tr>\n",
       "      <th>ADAMSVILLE</th>\n",
       "      <td>29</td>\n",
       "    </tr>\n",
       "  </tbody>\n",
       "</table>\n",
       "<p>173 rows × 1 columns</p>\n",
       "</div>"
      ],
      "text/plain": [
       "                patient_count\n",
       "city_from                    \n",
       "NASHVILLE              368644\n",
       "HERMITAGE               28237\n",
       "HENDERSONVILLE          22403\n",
       "DICKSON                 18920\n",
       "CLARKSVILLE             13901\n",
       "...                       ...\n",
       "MC EWEN                    36\n",
       "DECATURVILLE               31\n",
       "COUNCE                     31\n",
       "MUNFORD                    29\n",
       "ADAMSVILLE                 29\n",
       "\n",
       "[173 rows x 1 columns]"
      ]
     },
     "execution_count": 375,
     "metadata": {},
     "output_type": "execute_result"
    }
   ],
   "source": [
    "pd.DataFrame(hospital_comms[hospital_comms['from_communityid'].isin(nashville_non_vandy)].groupby(['city_from'])['patient_count'].sum()).sort_values('patient_count',ascending=False)"
   ]
  },
  {
   "cell_type": "code",
   "execution_count": 333,
   "id": "73f8bcf0",
   "metadata": {},
   "outputs": [],
   "source": [
    "tax_hop_comm2 = pd.merge(referrals_big_filtered,to_comm2, on = 'to_npi')"
   ]
  },
  {
   "cell_type": "code",
   "execution_count": 334,
   "id": "08101881",
   "metadata": {},
   "outputs": [],
   "source": [
    "tax_hop_comm2 = pd.merge(tax_hop_comm2, from_comm2, on = 'from_npi')"
   ]
  },
  {
   "cell_type": "code",
   "execution_count": 335,
   "id": "1e1cb15d",
   "metadata": {},
   "outputs": [],
   "source": [
    "tax_hop_comm2['organization_to'] = tax_hop_comm2['organization_to'].fillna('none')"
   ]
  },
  {
   "cell_type": "code",
   "execution_count": 336,
   "id": "9e73aa33",
   "metadata": {},
   "outputs": [],
   "source": [
    "hospital_comms_filtered = tax_hop_comm2[tax_hop_comm2['classification_to'].str.contains('Hospital')]"
   ]
  },
  {
   "cell_type": "code",
   "execution_count": 341,
   "id": "021649a1",
   "metadata": {},
   "outputs": [
    {
     "name": "stderr",
     "output_type": "stream",
     "text": [
      "<ipython-input-341-a591e7b1ec76>:1: SettingWithCopyWarning: \n",
      "A value is trying to be set on a copy of a slice from a DataFrame.\n",
      "Try using .loc[row_indexer,col_indexer] = value instead\n",
      "\n",
      "See the caveats in the documentation: https://pandas.pydata.org/pandas-docs/stable/user_guide/indexing.html#returning-a-view-versus-a-copy\n",
      "  hospital_comms_filtered['specialization2_from'] = hospital_comms_filtered['classification_from'] + '(' + hospital_comms_filtered['specialization_from'] + ')'\n"
     ]
    }
   ],
   "source": [
    "hospital_comms_filtered['specialization2_from'] = hospital_comms_filtered['classification_from'] + '(' + hospital_comms_filtered['specialization_from'] + ')'"
   ]
  },
  {
   "cell_type": "code",
   "execution_count": 386,
   "id": "23c18150",
   "metadata": {},
   "outputs": [
    {
     "name": "stderr",
     "output_type": "stream",
     "text": [
      "<ipython-input-386-416d2bcf0fe8>:1: SettingWithCopyWarning: \n",
      "A value is trying to be set on a copy of a slice from a DataFrame.\n",
      "Try using .loc[row_indexer,col_indexer] = value instead\n",
      "\n",
      "See the caveats in the documentation: https://pandas.pydata.org/pandas-docs/stable/user_guide/indexing.html#returning-a-view-versus-a-copy\n",
      "  hospital_comms_filtered['specialization2_from'] = hospital_comms_filtered['specialization2_from'].fillna(hospital_comms['classification_from'])\n"
     ]
    }
   ],
   "source": [
    "hospital_comms_filtered['specialization2_from'] = hospital_comms_filtered['specialization2_from'].fillna(hospital_comms['classification_from'])"
   ]
  },
  {
   "cell_type": "code",
   "execution_count": 387,
   "id": "31533655",
   "metadata": {},
   "outputs": [],
   "source": [
    "outside_vandy_comm2 = pd.DataFrame(hospital_comms_filtered[~hospital_comms_filtered['from_communityid'].isin(vanderbilt_communities)].groupby(['specialization2_from','organization_to'])['patient_count'].sum()).reset_index()"
   ]
  },
  {
   "cell_type": "code",
   "execution_count": 388,
   "id": "6f3beb7d",
   "metadata": {},
   "outputs": [],
   "source": [
    "outside_vandy_comm2 = outside_vandy_comm2.groupby('specialization2_from').apply(lambda x: x.sort_values('patient_count', ascending = False)).reset_index(drop = True)"
   ]
  },
  {
   "cell_type": "code",
   "execution_count": 389,
   "id": "db03677f",
   "metadata": {},
   "outputs": [],
   "source": [
    "outside_vandy_comm2 = outside_vandy_comm2.groupby('specialization2_from').head(1)"
   ]
  },
  {
   "cell_type": "code",
   "execution_count": 390,
   "id": "c009ca2f",
   "metadata": {},
   "outputs": [],
   "source": [
    "vandy_class_special_problems2=outside_vandy_comm2[~outside_vandy_comm2['organization_to'].str.contains('VANDERBILT')].specialization2_from.to_list()"
   ]
  },
  {
   "cell_type": "code",
   "execution_count": 392,
   "id": "5858c7f9",
   "metadata": {},
   "outputs": [],
   "source": [
    "vandy_prob_spec2 = pd.DataFrame(hospital_comms_filtered[(hospital_comms_filtered['specialization2_from'].isin(vandy_class_special_problems2) \n",
    "                & (hospital_comms_filtered['organization_to'].str.contains('VANDERBILT')))].groupby(['specialization2_from','organization_to'])['patient_count'].sum()).reset_index()"
   ]
  },
  {
   "cell_type": "code",
   "execution_count": 393,
   "id": "721816c0",
   "metadata": {},
   "outputs": [],
   "source": [
    "specialization_comparison2 = pd.merge(outside_vandy_comm2,vandy_prob_spec2, on = 'specialization2_from')"
   ]
  },
  {
   "cell_type": "code",
   "execution_count": 394,
   "id": "119fecb5",
   "metadata": {},
   "outputs": [],
   "source": [
    "specialization_comparison2 = specialization_comparison2.rename(columns = {'organization_to_x':'leading_org',\n",
    "                                            'patient_count_x':'leading_total_patients',\n",
    "                                           'patient_count_y':'vanderbilt_total_patients'}).drop(columns=['organization_to_y'])"
   ]
  },
  {
   "cell_type": "code",
   "execution_count": 395,
   "id": "875dec8a",
   "metadata": {},
   "outputs": [],
   "source": [
    "specialization_comparison2 = specialization_comparison2[specialization_comparison2['leading_total_patients'] > specialization_comparison2['vanderbilt_total_patients']]"
   ]
  },
  {
   "cell_type": "code",
   "execution_count": 396,
   "id": "39f47cab",
   "metadata": {},
   "outputs": [
    {
     "data": {
      "text/html": [
       "<div>\n",
       "<style scoped>\n",
       "    .dataframe tbody tr th:only-of-type {\n",
       "        vertical-align: middle;\n",
       "    }\n",
       "\n",
       "    .dataframe tbody tr th {\n",
       "        vertical-align: top;\n",
       "    }\n",
       "\n",
       "    .dataframe thead th {\n",
       "        text-align: right;\n",
       "    }\n",
       "</style>\n",
       "<table border=\"1\" class=\"dataframe\">\n",
       "  <thead>\n",
       "    <tr style=\"text-align: right;\">\n",
       "      <th></th>\n",
       "      <th>specialization2_from</th>\n",
       "      <th>leading_org</th>\n",
       "      <th>leading_total_patients</th>\n",
       "      <th>vanderbilt_total_patients</th>\n",
       "    </tr>\n",
       "  </thead>\n",
       "  <tbody>\n",
       "    <tr>\n",
       "      <th>1</th>\n",
       "      <td>Clinical Nurse Specialist(Acute Care)</td>\n",
       "      <td>HTI MEMORIAL HOSPITAL CORPORATION</td>\n",
       "      <td>166</td>\n",
       "      <td>128</td>\n",
       "    </tr>\n",
       "    <tr>\n",
       "      <th>2</th>\n",
       "      <td>Clinical Nurse Specialist(Family Health)</td>\n",
       "      <td>MAURY REGIONAL HOSPITAL</td>\n",
       "      <td>333</td>\n",
       "      <td>242</td>\n",
       "    </tr>\n",
       "    <tr>\n",
       "      <th>3</th>\n",
       "      <td>Family Medicine</td>\n",
       "      <td>HCA HEALTH SERVICES OF TENNESSEE, INC.</td>\n",
       "      <td>2055</td>\n",
       "      <td>742</td>\n",
       "    </tr>\n",
       "    <tr>\n",
       "      <th>4</th>\n",
       "      <td>Family Medicine(Adult Medicine)</td>\n",
       "      <td>HCA HEALTH SERVICES OF TENNESSEE, INC.</td>\n",
       "      <td>396</td>\n",
       "      <td>81</td>\n",
       "    </tr>\n",
       "    <tr>\n",
       "      <th>5</th>\n",
       "      <td>Family Medicine(Geriatric Medicine)</td>\n",
       "      <td>SUMNER REGIONAL MEDICAL CENTER LLC</td>\n",
       "      <td>532</td>\n",
       "      <td>236</td>\n",
       "    </tr>\n",
       "    <tr>\n",
       "      <th>6</th>\n",
       "      <td>Family Medicine(Hospice and Palliative Medicine)</td>\n",
       "      <td>SAINT THOMAS RUTHERFORD HOSPITAL</td>\n",
       "      <td>189</td>\n",
       "      <td>38</td>\n",
       "    </tr>\n",
       "    <tr>\n",
       "      <th>8</th>\n",
       "      <td>Hospitalist</td>\n",
       "      <td>MAURY REGIONAL HOSPITAL</td>\n",
       "      <td>461</td>\n",
       "      <td>220</td>\n",
       "    </tr>\n",
       "    <tr>\n",
       "      <th>9</th>\n",
       "      <td>Internal Medicine</td>\n",
       "      <td>HCA HEALTH SERVICES OF TENNESSEE, INC.</td>\n",
       "      <td>2578</td>\n",
       "      <td>2006</td>\n",
       "    </tr>\n",
       "    <tr>\n",
       "      <th>10</th>\n",
       "      <td>Internal Medicine(Adolescent Medicine)</td>\n",
       "      <td>MAURY REGIONAL HOSPITAL</td>\n",
       "      <td>224</td>\n",
       "      <td>68</td>\n",
       "    </tr>\n",
       "    <tr>\n",
       "      <th>12</th>\n",
       "      <td>Internal Medicine(Cardiovascular Disease)</td>\n",
       "      <td>HCA HEALTH SERVICES OF TENNESSEE, INC.</td>\n",
       "      <td>18525</td>\n",
       "      <td>558</td>\n",
       "    </tr>\n",
       "    <tr>\n",
       "      <th>14</th>\n",
       "      <td>Internal Medicine(Clinical Cardiac Electrophys...</td>\n",
       "      <td>HCA HEALTH SERVICES OF TENNESSEE, INC.</td>\n",
       "      <td>4023</td>\n",
       "      <td>3280</td>\n",
       "    </tr>\n",
       "    <tr>\n",
       "      <th>15</th>\n",
       "      <td>Internal Medicine(Critical Care Medicine)</td>\n",
       "      <td>MAURY REGIONAL HOSPITAL</td>\n",
       "      <td>1431</td>\n",
       "      <td>358</td>\n",
       "    </tr>\n",
       "    <tr>\n",
       "      <th>22</th>\n",
       "      <td>Internal Medicine(Interventional Cardiology)</td>\n",
       "      <td>HCA HEALTH SERVICES OF TENNESSEE, INC.</td>\n",
       "      <td>12501</td>\n",
       "      <td>2491</td>\n",
       "    </tr>\n",
       "    <tr>\n",
       "      <th>25</th>\n",
       "      <td>Internal Medicine(Pulmonary Disease)</td>\n",
       "      <td>HCA HEALTH SERVICES OF TENNESSEE, INC.</td>\n",
       "      <td>6811</td>\n",
       "      <td>5724</td>\n",
       "    </tr>\n",
       "    <tr>\n",
       "      <th>28</th>\n",
       "      <td>Nurse Anesthetist, Certified Registered</td>\n",
       "      <td>MAURY REGIONAL HOSPITAL</td>\n",
       "      <td>683</td>\n",
       "      <td>39</td>\n",
       "    </tr>\n",
       "    <tr>\n",
       "      <th>30</th>\n",
       "      <td>Nurse Practitioner(Acute Care)</td>\n",
       "      <td>HCA HEALTH SERVICES OF TENNESSEE, INC.</td>\n",
       "      <td>3087</td>\n",
       "      <td>81</td>\n",
       "    </tr>\n",
       "    <tr>\n",
       "      <th>36</th>\n",
       "      <td>Nurse Practitioner(Primary Care)</td>\n",
       "      <td>MAURY REGIONAL HOSPITAL</td>\n",
       "      <td>626</td>\n",
       "      <td>107</td>\n",
       "    </tr>\n",
       "    <tr>\n",
       "      <th>40</th>\n",
       "      <td>Obstetrics &amp; Gynecology(Gynecologic Oncology)</td>\n",
       "      <td>HCA HEALTH SERVICES OF TENNESSEE, INC.</td>\n",
       "      <td>570</td>\n",
       "      <td>538</td>\n",
       "    </tr>\n",
       "    <tr>\n",
       "      <th>41</th>\n",
       "      <td>Obstetrics &amp; Gynecology(Gynecology)</td>\n",
       "      <td>MAURY REGIONAL HOSPITAL</td>\n",
       "      <td>572</td>\n",
       "      <td>392</td>\n",
       "    </tr>\n",
       "    <tr>\n",
       "      <th>42</th>\n",
       "      <td>Orthopaedic Surgery</td>\n",
       "      <td>MIDDLE TENNESSEE HOSPITALIST</td>\n",
       "      <td>847</td>\n",
       "      <td>524</td>\n",
       "    </tr>\n",
       "    <tr>\n",
       "      <th>48</th>\n",
       "      <td>Pain Medicine(Pain Medicine)</td>\n",
       "      <td>MAURY REGIONAL HOSPITAL</td>\n",
       "      <td>617</td>\n",
       "      <td>367</td>\n",
       "    </tr>\n",
       "    <tr>\n",
       "      <th>51</th>\n",
       "      <td>Physical Therapist(Orthopedic)</td>\n",
       "      <td>SUMNER REGIONAL MEDICAL CENTER LLC</td>\n",
       "      <td>47</td>\n",
       "      <td>24</td>\n",
       "    </tr>\n",
       "    <tr>\n",
       "      <th>53</th>\n",
       "      <td>Physician Assistant(Medical)</td>\n",
       "      <td>HCA HEALTH SERVICES OF TENNESSEE, INC.</td>\n",
       "      <td>1381</td>\n",
       "      <td>1362</td>\n",
       "    </tr>\n",
       "    <tr>\n",
       "      <th>54</th>\n",
       "      <td>Physician Assistant(Surgical)</td>\n",
       "      <td>MAURY REGIONAL HOSPITAL</td>\n",
       "      <td>1080</td>\n",
       "      <td>755</td>\n",
       "    </tr>\n",
       "    <tr>\n",
       "      <th>55</th>\n",
       "      <td>Podiatrist</td>\n",
       "      <td>APP OF TENNESSEE HM, PLLC</td>\n",
       "      <td>520</td>\n",
       "      <td>150</td>\n",
       "    </tr>\n",
       "    <tr>\n",
       "      <th>57</th>\n",
       "      <td>Podiatrist(Foot Surgery)</td>\n",
       "      <td>HCA HEALTH SERVICES OF TENNESSEE, INC.</td>\n",
       "      <td>147</td>\n",
       "      <td>133</td>\n",
       "    </tr>\n",
       "    <tr>\n",
       "      <th>58</th>\n",
       "      <td>Podiatrist(Primary Podiatric Medicine)</td>\n",
       "      <td>HCA HEALTH SERVICES OF TENNESSEE, INC.</td>\n",
       "      <td>489</td>\n",
       "      <td>145</td>\n",
       "    </tr>\n",
       "    <tr>\n",
       "      <th>59</th>\n",
       "      <td>Psychiatry &amp; Neurology(Neurology with Special ...</td>\n",
       "      <td>MAURY REGIONAL HOSPITAL</td>\n",
       "      <td>342</td>\n",
       "      <td>196</td>\n",
       "    </tr>\n",
       "    <tr>\n",
       "      <th>63</th>\n",
       "      <td>Psychologist(Clinical)</td>\n",
       "      <td>MAURY REGIONAL HOSPITAL</td>\n",
       "      <td>154</td>\n",
       "      <td>63</td>\n",
       "    </tr>\n",
       "    <tr>\n",
       "      <th>66</th>\n",
       "      <td>Surgery</td>\n",
       "      <td>SAINT THOMAS RUTHERFORD HOSPITAL</td>\n",
       "      <td>594</td>\n",
       "      <td>233</td>\n",
       "    </tr>\n",
       "    <tr>\n",
       "      <th>71</th>\n",
       "      <td>Urology</td>\n",
       "      <td>HTI MEMORIAL HOSPITAL CORPORATION</td>\n",
       "      <td>271</td>\n",
       "      <td>156</td>\n",
       "    </tr>\n",
       "  </tbody>\n",
       "</table>\n",
       "</div>"
      ],
      "text/plain": [
       "                                 specialization2_from  \\\n",
       "1               Clinical Nurse Specialist(Acute Care)   \n",
       "2            Clinical Nurse Specialist(Family Health)   \n",
       "3                                     Family Medicine   \n",
       "4                     Family Medicine(Adult Medicine)   \n",
       "5                 Family Medicine(Geriatric Medicine)   \n",
       "6    Family Medicine(Hospice and Palliative Medicine)   \n",
       "8                                         Hospitalist   \n",
       "9                                   Internal Medicine   \n",
       "10             Internal Medicine(Adolescent Medicine)   \n",
       "12          Internal Medicine(Cardiovascular Disease)   \n",
       "14  Internal Medicine(Clinical Cardiac Electrophys...   \n",
       "15          Internal Medicine(Critical Care Medicine)   \n",
       "22       Internal Medicine(Interventional Cardiology)   \n",
       "25               Internal Medicine(Pulmonary Disease)   \n",
       "28            Nurse Anesthetist, Certified Registered   \n",
       "30                     Nurse Practitioner(Acute Care)   \n",
       "36                   Nurse Practitioner(Primary Care)   \n",
       "40      Obstetrics & Gynecology(Gynecologic Oncology)   \n",
       "41                Obstetrics & Gynecology(Gynecology)   \n",
       "42                                Orthopaedic Surgery   \n",
       "48                       Pain Medicine(Pain Medicine)   \n",
       "51                     Physical Therapist(Orthopedic)   \n",
       "53                       Physician Assistant(Medical)   \n",
       "54                      Physician Assistant(Surgical)   \n",
       "55                                         Podiatrist   \n",
       "57                           Podiatrist(Foot Surgery)   \n",
       "58             Podiatrist(Primary Podiatric Medicine)   \n",
       "59  Psychiatry & Neurology(Neurology with Special ...   \n",
       "63                             Psychologist(Clinical)   \n",
       "66                                            Surgery   \n",
       "71                                            Urology   \n",
       "\n",
       "                               leading_org  leading_total_patients  \\\n",
       "1        HTI MEMORIAL HOSPITAL CORPORATION                     166   \n",
       "2                  MAURY REGIONAL HOSPITAL                     333   \n",
       "3   HCA HEALTH SERVICES OF TENNESSEE, INC.                    2055   \n",
       "4   HCA HEALTH SERVICES OF TENNESSEE, INC.                     396   \n",
       "5       SUMNER REGIONAL MEDICAL CENTER LLC                     532   \n",
       "6         SAINT THOMAS RUTHERFORD HOSPITAL                     189   \n",
       "8                  MAURY REGIONAL HOSPITAL                     461   \n",
       "9   HCA HEALTH SERVICES OF TENNESSEE, INC.                    2578   \n",
       "10                 MAURY REGIONAL HOSPITAL                     224   \n",
       "12  HCA HEALTH SERVICES OF TENNESSEE, INC.                   18525   \n",
       "14  HCA HEALTH SERVICES OF TENNESSEE, INC.                    4023   \n",
       "15                 MAURY REGIONAL HOSPITAL                    1431   \n",
       "22  HCA HEALTH SERVICES OF TENNESSEE, INC.                   12501   \n",
       "25  HCA HEALTH SERVICES OF TENNESSEE, INC.                    6811   \n",
       "28                 MAURY REGIONAL HOSPITAL                     683   \n",
       "30  HCA HEALTH SERVICES OF TENNESSEE, INC.                    3087   \n",
       "36                 MAURY REGIONAL HOSPITAL                     626   \n",
       "40  HCA HEALTH SERVICES OF TENNESSEE, INC.                     570   \n",
       "41                 MAURY REGIONAL HOSPITAL                     572   \n",
       "42            MIDDLE TENNESSEE HOSPITALIST                     847   \n",
       "48                 MAURY REGIONAL HOSPITAL                     617   \n",
       "51      SUMNER REGIONAL MEDICAL CENTER LLC                      47   \n",
       "53  HCA HEALTH SERVICES OF TENNESSEE, INC.                    1381   \n",
       "54                 MAURY REGIONAL HOSPITAL                    1080   \n",
       "55               APP OF TENNESSEE HM, PLLC                     520   \n",
       "57  HCA HEALTH SERVICES OF TENNESSEE, INC.                     147   \n",
       "58  HCA HEALTH SERVICES OF TENNESSEE, INC.                     489   \n",
       "59                 MAURY REGIONAL HOSPITAL                     342   \n",
       "63                 MAURY REGIONAL HOSPITAL                     154   \n",
       "66        SAINT THOMAS RUTHERFORD HOSPITAL                     594   \n",
       "71       HTI MEMORIAL HOSPITAL CORPORATION                     271   \n",
       "\n",
       "    vanderbilt_total_patients  \n",
       "1                         128  \n",
       "2                         242  \n",
       "3                         742  \n",
       "4                          81  \n",
       "5                         236  \n",
       "6                          38  \n",
       "8                         220  \n",
       "9                        2006  \n",
       "10                         68  \n",
       "12                        558  \n",
       "14                       3280  \n",
       "15                        358  \n",
       "22                       2491  \n",
       "25                       5724  \n",
       "28                         39  \n",
       "30                         81  \n",
       "36                        107  \n",
       "40                        538  \n",
       "41                        392  \n",
       "42                        524  \n",
       "48                        367  \n",
       "51                         24  \n",
       "53                       1362  \n",
       "54                        755  \n",
       "55                        150  \n",
       "57                        133  \n",
       "58                        145  \n",
       "59                        196  \n",
       "63                         63  \n",
       "66                        233  \n",
       "71                        156  "
      ]
     },
     "execution_count": 396,
     "metadata": {},
     "output_type": "execute_result"
    }
   ],
   "source": [
    "specialization_comparison2"
   ]
  },
  {
   "cell_type": "code",
   "execution_count": 397,
   "id": "c8597efb",
   "metadata": {},
   "outputs": [],
   "source": [
    "specialization_comparison2['difference'] = specialization_comparison2['leading_total_patients'] - specialization_comparison2['vanderbilt_total_patients']"
   ]
  },
  {
   "cell_type": "code",
   "execution_count": 399,
   "id": "ae899944",
   "metadata": {},
   "outputs": [
    {
     "data": {
      "text/plain": [
       "['Internal Medicine(Cardiovascular Disease)',\n",
       " 'Internal Medicine(Interventional Cardiology)',\n",
       " 'Nurse Practitioner(Acute Care)',\n",
       " 'Family Medicine',\n",
       " 'Internal Medicine(Pulmonary Disease)']"
      ]
     },
     "execution_count": 399,
     "metadata": {},
     "output_type": "execute_result"
    }
   ],
   "source": [
    "specialization_comparison2.sort_values('difference', ascending=False).head(5).specialization2_from.to_list()"
   ]
  },
  {
   "cell_type": "raw",
   "id": "515a9e0d",
   "metadata": {},
   "source": [
    "Whats going on in large communities where vanderbilt is not present? Are there doctors in these communities that refer to vanderbilt a little bit? What community does vandy have the strongest showing"
   ]
  },
  {
   "cell_type": "code",
   "execution_count": 376,
   "id": "9b2a82f3",
   "metadata": {},
   "outputs": [],
   "source": [
    "doctors_out_comm = pd.DataFrame(hospital_comms_filtered[~hospital_comms_filtered['from_communityid'].isin(vanderbilt_communities)]\n",
    "             .groupby(['city_from','state_from'])\n",
    "             .agg({'patient_count':'sum',\n",
    "                   'from_npi':'nunique'})).sort_values('from_npi',ascending = False).rename(columns = {'patient_count':'patient_count_other',\n",
    "                                                                                                      'from_npi':'doctor_count_other'}).reset_index()"
   ]
  },
  {
   "cell_type": "code",
   "execution_count": 431,
   "id": "aa22d71b",
   "metadata": {},
   "outputs": [
    {
     "data": {
      "text/html": [
       "<div>\n",
       "<style scoped>\n",
       "    .dataframe tbody tr th:only-of-type {\n",
       "        vertical-align: middle;\n",
       "    }\n",
       "\n",
       "    .dataframe tbody tr th {\n",
       "        vertical-align: top;\n",
       "    }\n",
       "\n",
       "    .dataframe thead th {\n",
       "        text-align: right;\n",
       "    }\n",
       "</style>\n",
       "<table border=\"1\" class=\"dataframe\">\n",
       "  <thead>\n",
       "    <tr style=\"text-align: right;\">\n",
       "      <th></th>\n",
       "      <th>from_npi</th>\n",
       "      <th>referral_id</th>\n",
       "      <th>entity_from</th>\n",
       "      <th>name_from</th>\n",
       "      <th>organization_from</th>\n",
       "      <th>taxonomy_code_from</th>\n",
       "      <th>classification_from</th>\n",
       "      <th>specialization_from</th>\n",
       "      <th>address_line1_from</th>\n",
       "      <th>address_line2_from</th>\n",
       "      <th>city_from</th>\n",
       "      <th>state_from</th>\n",
       "      <th>zip_from</th>\n",
       "      <th>to_npi</th>\n",
       "      <th>entity_to</th>\n",
       "      <th>name_to</th>\n",
       "      <th>organization_to</th>\n",
       "      <th>taxonomy_code_to</th>\n",
       "      <th>classification_to</th>\n",
       "      <th>specialization_to</th>\n",
       "      <th>address_line1_to</th>\n",
       "      <th>address_line2_to</th>\n",
       "      <th>city_to</th>\n",
       "      <th>state_to</th>\n",
       "      <th>zip_to</th>\n",
       "      <th>patient_count</th>\n",
       "      <th>transaction_count</th>\n",
       "      <th>average_day_wait</th>\n",
       "      <th>std_day_wait</th>\n",
       "      <th>address_from</th>\n",
       "      <th>address_to</th>\n",
       "      <th>to_communityid</th>\n",
       "      <th>from_communityid</th>\n",
       "      <th>specialization2_from</th>\n",
       "    </tr>\n",
       "  </thead>\n",
       "  <tbody>\n",
       "    <tr>\n",
       "      <th>4</th>\n",
       "      <td>1821080961</td>\n",
       "      <td>128897875</td>\n",
       "      <td>1.00</td>\n",
       "      <td>SHERWOOD, WILLIAM</td>\n",
       "      <td>NaN</td>\n",
       "      <td>207Q00000X</td>\n",
       "      <td>Family Medicine</td>\n",
       "      <td>NaN</td>\n",
       "      <td>302 N CONGRESS BLVD</td>\n",
       "      <td>NaN</td>\n",
       "      <td>SMITHVILLE</td>\n",
       "      <td>TN</td>\n",
       "      <td>37166</td>\n",
       "      <td>1518346469</td>\n",
       "      <td>2.00</td>\n",
       "      <td>NaN</td>\n",
       "      <td>SAINT THOMAS RIVER PARK HOSPITAL, LLC</td>\n",
       "      <td>282N00000X</td>\n",
       "      <td>General Acute Care Hospital</td>\n",
       "      <td>NaN</td>\n",
       "      <td>1559 SPARTA ST</td>\n",
       "      <td>NaN</td>\n",
       "      <td>MCMINNVILLE</td>\n",
       "      <td>TN</td>\n",
       "      <td>37110</td>\n",
       "      <td>47</td>\n",
       "      <td>57</td>\n",
       "      <td>43.19</td>\n",
       "      <td>53.23</td>\n",
       "      <td>302 N CONGRESS BLVD, SMITHVILLE, TN 37166</td>\n",
       "      <td>1559 SPARTA ST, MCMINNVILLE, TN 37110</td>\n",
       "      <td>9794</td>\n",
       "      <td>20624</td>\n",
       "      <td>NaN</td>\n",
       "    </tr>\n",
       "    <tr>\n",
       "      <th>18</th>\n",
       "      <td>1821080961</td>\n",
       "      <td>129189996</td>\n",
       "      <td>1.00</td>\n",
       "      <td>SHERWOOD, WILLIAM</td>\n",
       "      <td>NaN</td>\n",
       "      <td>207Q00000X</td>\n",
       "      <td>Family Medicine</td>\n",
       "      <td>NaN</td>\n",
       "      <td>302 N CONGRESS BLVD</td>\n",
       "      <td>NaN</td>\n",
       "      <td>SMITHVILLE</td>\n",
       "      <td>TN</td>\n",
       "      <td>37166</td>\n",
       "      <td>1649659582</td>\n",
       "      <td>2.00</td>\n",
       "      <td>NaN</td>\n",
       "      <td>SAINT THOMAS DEKALB HOSPITAL, LLC</td>\n",
       "      <td>282N00000X</td>\n",
       "      <td>General Acute Care Hospital</td>\n",
       "      <td>NaN</td>\n",
       "      <td>520 W MAIN ST</td>\n",
       "      <td>NaN</td>\n",
       "      <td>SMITHVILLE</td>\n",
       "      <td>TN</td>\n",
       "      <td>37166</td>\n",
       "      <td>303</td>\n",
       "      <td>520</td>\n",
       "      <td>18.84</td>\n",
       "      <td>42.81</td>\n",
       "      <td>302 N CONGRESS BLVD, SMITHVILLE, TN 37166</td>\n",
       "      <td>520 W MAIN ST, SMITHVILLE, TN 37166</td>\n",
       "      <td>20624</td>\n",
       "      <td>20624</td>\n",
       "      <td>NaN</td>\n",
       "    </tr>\n",
       "    <tr>\n",
       "      <th>38</th>\n",
       "      <td>1841282779</td>\n",
       "      <td>133118064</td>\n",
       "      <td>1.00</td>\n",
       "      <td>RHODY, KEVIN</td>\n",
       "      <td>NaN</td>\n",
       "      <td>207Q00000X</td>\n",
       "      <td>Family Medicine</td>\n",
       "      <td>NaN</td>\n",
       "      <td>302 N CONGRESS BLVD</td>\n",
       "      <td>NaN</td>\n",
       "      <td>SMITHVILLE</td>\n",
       "      <td>TN</td>\n",
       "      <td>37166</td>\n",
       "      <td>1649659582</td>\n",
       "      <td>2.00</td>\n",
       "      <td>NaN</td>\n",
       "      <td>SAINT THOMAS DEKALB HOSPITAL, LLC</td>\n",
       "      <td>282N00000X</td>\n",
       "      <td>General Acute Care Hospital</td>\n",
       "      <td>NaN</td>\n",
       "      <td>520 W MAIN ST</td>\n",
       "      <td>NaN</td>\n",
       "      <td>SMITHVILLE</td>\n",
       "      <td>TN</td>\n",
       "      <td>37166</td>\n",
       "      <td>285</td>\n",
       "      <td>493</td>\n",
       "      <td>22.39</td>\n",
       "      <td>50.29</td>\n",
       "      <td>302 N CONGRESS BLVD, SMITHVILLE, TN 37166</td>\n",
       "      <td>520 W MAIN ST, SMITHVILLE, TN 37166</td>\n",
       "      <td>20624</td>\n",
       "      <td>20624</td>\n",
       "      <td>NaN</td>\n",
       "    </tr>\n",
       "    <tr>\n",
       "      <th>62</th>\n",
       "      <td>1770575607</td>\n",
       "      <td>147321078</td>\n",
       "      <td>1.00</td>\n",
       "      <td>COOPER, STEVEN</td>\n",
       "      <td>NaN</td>\n",
       "      <td>207Q00000X</td>\n",
       "      <td>Family Medicine</td>\n",
       "      <td>NaN</td>\n",
       "      <td>302 N CONGRESS BLVD</td>\n",
       "      <td>NaN</td>\n",
       "      <td>SMITHVILLE</td>\n",
       "      <td>TN</td>\n",
       "      <td>37166</td>\n",
       "      <td>1649659582</td>\n",
       "      <td>2.00</td>\n",
       "      <td>NaN</td>\n",
       "      <td>SAINT THOMAS DEKALB HOSPITAL, LLC</td>\n",
       "      <td>282N00000X</td>\n",
       "      <td>General Acute Care Hospital</td>\n",
       "      <td>NaN</td>\n",
       "      <td>520 W MAIN ST</td>\n",
       "      <td>NaN</td>\n",
       "      <td>SMITHVILLE</td>\n",
       "      <td>TN</td>\n",
       "      <td>37166</td>\n",
       "      <td>290</td>\n",
       "      <td>507</td>\n",
       "      <td>20.74</td>\n",
       "      <td>46.08</td>\n",
       "      <td>302 N CONGRESS BLVD, SMITHVILLE, TN 37166</td>\n",
       "      <td>520 W MAIN ST, SMITHVILLE, TN 37166</td>\n",
       "      <td>20624</td>\n",
       "      <td>20624</td>\n",
       "      <td>NaN</td>\n",
       "    </tr>\n",
       "    <tr>\n",
       "      <th>84</th>\n",
       "      <td>1306977814</td>\n",
       "      <td>57069465</td>\n",
       "      <td>1.00</td>\n",
       "      <td>JOHNSON, MALINDA</td>\n",
       "      <td>NaN</td>\n",
       "      <td>363AM0700X</td>\n",
       "      <td>Physician Assistant</td>\n",
       "      <td>Medical</td>\n",
       "      <td>5801 CROSSINGS BLVD</td>\n",
       "      <td>NaN</td>\n",
       "      <td>ANTIOCH</td>\n",
       "      <td>TN</td>\n",
       "      <td>37013</td>\n",
       "      <td>1861479545</td>\n",
       "      <td>2.00</td>\n",
       "      <td>NaN</td>\n",
       "      <td>MAURY REGIONAL HOSPITAL</td>\n",
       "      <td>282N00000X</td>\n",
       "      <td>General Acute Care Hospital</td>\n",
       "      <td>NaN</td>\n",
       "      <td>1224 TROTWOOD AVE</td>\n",
       "      <td>NaN</td>\n",
       "      <td>COLUMBIA</td>\n",
       "      <td>TN</td>\n",
       "      <td>38401</td>\n",
       "      <td>27</td>\n",
       "      <td>51</td>\n",
       "      <td>30.12</td>\n",
       "      <td>32.97</td>\n",
       "      <td>5801 CROSSINGS BLVD, ANTIOCH, TN 37013</td>\n",
       "      <td>1224 TROTWOOD AVE, COLUMBIA, TN 38401</td>\n",
       "      <td>28767</td>\n",
       "      <td>12061</td>\n",
       "      <td>Physician Assistant(Medical)</td>\n",
       "    </tr>\n",
       "    <tr>\n",
       "      <th>...</th>\n",
       "      <td>...</td>\n",
       "      <td>...</td>\n",
       "      <td>...</td>\n",
       "      <td>...</td>\n",
       "      <td>...</td>\n",
       "      <td>...</td>\n",
       "      <td>...</td>\n",
       "      <td>...</td>\n",
       "      <td>...</td>\n",
       "      <td>...</td>\n",
       "      <td>...</td>\n",
       "      <td>...</td>\n",
       "      <td>...</td>\n",
       "      <td>...</td>\n",
       "      <td>...</td>\n",
       "      <td>...</td>\n",
       "      <td>...</td>\n",
       "      <td>...</td>\n",
       "      <td>...</td>\n",
       "      <td>...</td>\n",
       "      <td>...</td>\n",
       "      <td>...</td>\n",
       "      <td>...</td>\n",
       "      <td>...</td>\n",
       "      <td>...</td>\n",
       "      <td>...</td>\n",
       "      <td>...</td>\n",
       "      <td>...</td>\n",
       "      <td>...</td>\n",
       "      <td>...</td>\n",
       "      <td>...</td>\n",
       "      <td>...</td>\n",
       "      <td>...</td>\n",
       "      <td>...</td>\n",
       "    </tr>\n",
       "    <tr>\n",
       "      <th>56687</th>\n",
       "      <td>1932610367</td>\n",
       "      <td>207320697</td>\n",
       "      <td>1.00</td>\n",
       "      <td>DAVENPORT, NIKKI</td>\n",
       "      <td>NaN</td>\n",
       "      <td>363LF0000X</td>\n",
       "      <td>Nurse Practitioner</td>\n",
       "      <td>Family</td>\n",
       "      <td>106 S MILITARY ST</td>\n",
       "      <td>NaN</td>\n",
       "      <td>LORETTO</td>\n",
       "      <td>TN</td>\n",
       "      <td>38469</td>\n",
       "      <td>1861479545</td>\n",
       "      <td>2.00</td>\n",
       "      <td>NaN</td>\n",
       "      <td>MAURY REGIONAL HOSPITAL</td>\n",
       "      <td>282N00000X</td>\n",
       "      <td>General Acute Care Hospital</td>\n",
       "      <td>NaN</td>\n",
       "      <td>1224 TROTWOOD AVE</td>\n",
       "      <td>NaN</td>\n",
       "      <td>COLUMBIA</td>\n",
       "      <td>TN</td>\n",
       "      <td>38401</td>\n",
       "      <td>48</td>\n",
       "      <td>59</td>\n",
       "      <td>44.41</td>\n",
       "      <td>55.39</td>\n",
       "      <td>106 S MILITARY ST, LORETTO, TN 38469</td>\n",
       "      <td>1224 TROTWOOD AVE, COLUMBIA, TN 38401</td>\n",
       "      <td>28767</td>\n",
       "      <td>28767</td>\n",
       "      <td>Nurse Practitioner(Family)</td>\n",
       "    </tr>\n",
       "    <tr>\n",
       "      <th>56688</th>\n",
       "      <td>1033575469</td>\n",
       "      <td>207959585</td>\n",
       "      <td>1.00</td>\n",
       "      <td>DAWKINS, KRYSTLE</td>\n",
       "      <td>NaN</td>\n",
       "      <td>367500000X</td>\n",
       "      <td>Nurse Anesthetist, Certified Registered</td>\n",
       "      <td>NaN</td>\n",
       "      <td>4230 HARDING PIKE STE 435</td>\n",
       "      <td>NaN</td>\n",
       "      <td>NASHVILLE</td>\n",
       "      <td>TN</td>\n",
       "      <td>37205</td>\n",
       "      <td>1861479545</td>\n",
       "      <td>2.00</td>\n",
       "      <td>NaN</td>\n",
       "      <td>MAURY REGIONAL HOSPITAL</td>\n",
       "      <td>282N00000X</td>\n",
       "      <td>General Acute Care Hospital</td>\n",
       "      <td>NaN</td>\n",
       "      <td>1224 TROTWOOD AVE</td>\n",
       "      <td>NaN</td>\n",
       "      <td>COLUMBIA</td>\n",
       "      <td>TN</td>\n",
       "      <td>38401</td>\n",
       "      <td>109</td>\n",
       "      <td>112</td>\n",
       "      <td>0.00</td>\n",
       "      <td>0.00</td>\n",
       "      <td>4230 HARDING PIKE STE 435, NASHVILLE, TN 37205</td>\n",
       "      <td>1224 TROTWOOD AVE, COLUMBIA, TN 38401</td>\n",
       "      <td>28767</td>\n",
       "      <td>28767</td>\n",
       "      <td>NaN</td>\n",
       "    </tr>\n",
       "    <tr>\n",
       "      <th>56691</th>\n",
       "      <td>1376863191</td>\n",
       "      <td>211144129</td>\n",
       "      <td>1.00</td>\n",
       "      <td>DAVIS, TERESA</td>\n",
       "      <td>NaN</td>\n",
       "      <td>363LF0000X</td>\n",
       "      <td>Nurse Practitioner</td>\n",
       "      <td>Family</td>\n",
       "      <td>529 W COMMERCE ST</td>\n",
       "      <td>NaN</td>\n",
       "      <td>LEWISBURG</td>\n",
       "      <td>TN</td>\n",
       "      <td>37091</td>\n",
       "      <td>1861479545</td>\n",
       "      <td>2.00</td>\n",
       "      <td>NaN</td>\n",
       "      <td>MAURY REGIONAL HOSPITAL</td>\n",
       "      <td>282N00000X</td>\n",
       "      <td>General Acute Care Hospital</td>\n",
       "      <td>NaN</td>\n",
       "      <td>1224 TROTWOOD AVE</td>\n",
       "      <td>NaN</td>\n",
       "      <td>COLUMBIA</td>\n",
       "      <td>TN</td>\n",
       "      <td>38401</td>\n",
       "      <td>146</td>\n",
       "      <td>217</td>\n",
       "      <td>18.90</td>\n",
       "      <td>33.83</td>\n",
       "      <td>529 W COMMERCE ST, LEWISBURG, TN 37091</td>\n",
       "      <td>1224 TROTWOOD AVE, COLUMBIA, TN 38401</td>\n",
       "      <td>28767</td>\n",
       "      <td>28767</td>\n",
       "      <td>Nurse Practitioner(Family)</td>\n",
       "    </tr>\n",
       "    <tr>\n",
       "      <th>56693</th>\n",
       "      <td>1407037112</td>\n",
       "      <td>214911934</td>\n",
       "      <td>1.00</td>\n",
       "      <td>SIRBILADZE, GIORGI</td>\n",
       "      <td>NaN</td>\n",
       "      <td>2084N0400X</td>\n",
       "      <td>Psychiatry &amp; Neurology</td>\n",
       "      <td>Neurology</td>\n",
       "      <td>185 QUEEN CITY AVE</td>\n",
       "      <td>NaN</td>\n",
       "      <td>MANCHESTER</td>\n",
       "      <td>NH</td>\n",
       "      <td>3101</td>\n",
       "      <td>1861479545</td>\n",
       "      <td>2.00</td>\n",
       "      <td>NaN</td>\n",
       "      <td>MAURY REGIONAL HOSPITAL</td>\n",
       "      <td>282N00000X</td>\n",
       "      <td>General Acute Care Hospital</td>\n",
       "      <td>NaN</td>\n",
       "      <td>1224 TROTWOOD AVE</td>\n",
       "      <td>NaN</td>\n",
       "      <td>COLUMBIA</td>\n",
       "      <td>TN</td>\n",
       "      <td>38401</td>\n",
       "      <td>107</td>\n",
       "      <td>147</td>\n",
       "      <td>6.56</td>\n",
       "      <td>13.99</td>\n",
       "      <td>185 QUEEN CITY AVE, MANCHESTER, NH 03101</td>\n",
       "      <td>1224 TROTWOOD AVE, COLUMBIA, TN 38401</td>\n",
       "      <td>28767</td>\n",
       "      <td>28767</td>\n",
       "      <td>Psychiatry &amp; Neurology(Neurology)</td>\n",
       "    </tr>\n",
       "    <tr>\n",
       "      <th>56695</th>\n",
       "      <td>1407274251</td>\n",
       "      <td>216796229</td>\n",
       "      <td>1.00</td>\n",
       "      <td>PETRAUSKIS, CHRISTIAN</td>\n",
       "      <td>NaN</td>\n",
       "      <td>207R00000X</td>\n",
       "      <td>Internal Medicine</td>\n",
       "      <td>NaN</td>\n",
       "      <td>1224 TROTWOOD AVE</td>\n",
       "      <td>NaN</td>\n",
       "      <td>COLUMBIA</td>\n",
       "      <td>TN</td>\n",
       "      <td>38401</td>\n",
       "      <td>1861479545</td>\n",
       "      <td>2.00</td>\n",
       "      <td>NaN</td>\n",
       "      <td>MAURY REGIONAL HOSPITAL</td>\n",
       "      <td>282N00000X</td>\n",
       "      <td>General Acute Care Hospital</td>\n",
       "      <td>NaN</td>\n",
       "      <td>1224 TROTWOOD AVE</td>\n",
       "      <td>NaN</td>\n",
       "      <td>COLUMBIA</td>\n",
       "      <td>TN</td>\n",
       "      <td>38401</td>\n",
       "      <td>167</td>\n",
       "      <td>232</td>\n",
       "      <td>0.00</td>\n",
       "      <td>0.00</td>\n",
       "      <td>1224 TROTWOOD AVE, COLUMBIA, TN 38401</td>\n",
       "      <td>1224 TROTWOOD AVE, COLUMBIA, TN 38401</td>\n",
       "      <td>28767</td>\n",
       "      <td>28767</td>\n",
       "      <td>NaN</td>\n",
       "    </tr>\n",
       "  </tbody>\n",
       "</table>\n",
       "<p>3997 rows × 34 columns</p>\n",
       "</div>"
      ],
      "text/plain": [
       "         from_npi  referral_id  entity_from              name_from  \\\n",
       "4      1821080961    128897875         1.00      SHERWOOD, WILLIAM   \n",
       "18     1821080961    129189996         1.00      SHERWOOD, WILLIAM   \n",
       "38     1841282779    133118064         1.00           RHODY, KEVIN   \n",
       "62     1770575607    147321078         1.00         COOPER, STEVEN   \n",
       "84     1306977814     57069465         1.00       JOHNSON, MALINDA   \n",
       "...           ...          ...          ...                    ...   \n",
       "56687  1932610367    207320697         1.00       DAVENPORT, NIKKI   \n",
       "56688  1033575469    207959585         1.00       DAWKINS, KRYSTLE   \n",
       "56691  1376863191    211144129         1.00          DAVIS, TERESA   \n",
       "56693  1407037112    214911934         1.00     SIRBILADZE, GIORGI   \n",
       "56695  1407274251    216796229         1.00  PETRAUSKIS, CHRISTIAN   \n",
       "\n",
       "      organization_from taxonomy_code_from  \\\n",
       "4                   NaN         207Q00000X   \n",
       "18                  NaN         207Q00000X   \n",
       "38                  NaN         207Q00000X   \n",
       "62                  NaN         207Q00000X   \n",
       "84                  NaN         363AM0700X   \n",
       "...                 ...                ...   \n",
       "56687               NaN         363LF0000X   \n",
       "56688               NaN         367500000X   \n",
       "56691               NaN         363LF0000X   \n",
       "56693               NaN         2084N0400X   \n",
       "56695               NaN         207R00000X   \n",
       "\n",
       "                           classification_from specialization_from  \\\n",
       "4                              Family Medicine                 NaN   \n",
       "18                             Family Medicine                 NaN   \n",
       "38                             Family Medicine                 NaN   \n",
       "62                             Family Medicine                 NaN   \n",
       "84                         Physician Assistant             Medical   \n",
       "...                                        ...                 ...   \n",
       "56687                       Nurse Practitioner              Family   \n",
       "56688  Nurse Anesthetist, Certified Registered                 NaN   \n",
       "56691                       Nurse Practitioner              Family   \n",
       "56693                   Psychiatry & Neurology           Neurology   \n",
       "56695                        Internal Medicine                 NaN   \n",
       "\n",
       "              address_line1_from address_line2_from   city_from state_from  \\\n",
       "4            302 N CONGRESS BLVD                NaN  SMITHVILLE         TN   \n",
       "18           302 N CONGRESS BLVD                NaN  SMITHVILLE         TN   \n",
       "38           302 N CONGRESS BLVD                NaN  SMITHVILLE         TN   \n",
       "62           302 N CONGRESS BLVD                NaN  SMITHVILLE         TN   \n",
       "84           5801 CROSSINGS BLVD                NaN     ANTIOCH         TN   \n",
       "...                          ...                ...         ...        ...   \n",
       "56687          106 S MILITARY ST                NaN     LORETTO         TN   \n",
       "56688  4230 HARDING PIKE STE 435                NaN   NASHVILLE         TN   \n",
       "56691          529 W COMMERCE ST                NaN   LEWISBURG         TN   \n",
       "56693         185 QUEEN CITY AVE                NaN  MANCHESTER         NH   \n",
       "56695          1224 TROTWOOD AVE                NaN    COLUMBIA         TN   \n",
       "\n",
       "       zip_from      to_npi  entity_to name_to  \\\n",
       "4         37166  1518346469       2.00     NaN   \n",
       "18        37166  1649659582       2.00     NaN   \n",
       "38        37166  1649659582       2.00     NaN   \n",
       "62        37166  1649659582       2.00     NaN   \n",
       "84        37013  1861479545       2.00     NaN   \n",
       "...         ...         ...        ...     ...   \n",
       "56687     38469  1861479545       2.00     NaN   \n",
       "56688     37205  1861479545       2.00     NaN   \n",
       "56691     37091  1861479545       2.00     NaN   \n",
       "56693      3101  1861479545       2.00     NaN   \n",
       "56695     38401  1861479545       2.00     NaN   \n",
       "\n",
       "                             organization_to taxonomy_code_to  \\\n",
       "4      SAINT THOMAS RIVER PARK HOSPITAL, LLC       282N00000X   \n",
       "18         SAINT THOMAS DEKALB HOSPITAL, LLC       282N00000X   \n",
       "38         SAINT THOMAS DEKALB HOSPITAL, LLC       282N00000X   \n",
       "62         SAINT THOMAS DEKALB HOSPITAL, LLC       282N00000X   \n",
       "84                   MAURY REGIONAL HOSPITAL       282N00000X   \n",
       "...                                      ...              ...   \n",
       "56687                MAURY REGIONAL HOSPITAL       282N00000X   \n",
       "56688                MAURY REGIONAL HOSPITAL       282N00000X   \n",
       "56691                MAURY REGIONAL HOSPITAL       282N00000X   \n",
       "56693                MAURY REGIONAL HOSPITAL       282N00000X   \n",
       "56695                MAURY REGIONAL HOSPITAL       282N00000X   \n",
       "\n",
       "                 classification_to specialization_to   address_line1_to  \\\n",
       "4      General Acute Care Hospital               NaN     1559 SPARTA ST   \n",
       "18     General Acute Care Hospital               NaN      520 W MAIN ST   \n",
       "38     General Acute Care Hospital               NaN      520 W MAIN ST   \n",
       "62     General Acute Care Hospital               NaN      520 W MAIN ST   \n",
       "84     General Acute Care Hospital               NaN  1224 TROTWOOD AVE   \n",
       "...                            ...               ...                ...   \n",
       "56687  General Acute Care Hospital               NaN  1224 TROTWOOD AVE   \n",
       "56688  General Acute Care Hospital               NaN  1224 TROTWOOD AVE   \n",
       "56691  General Acute Care Hospital               NaN  1224 TROTWOOD AVE   \n",
       "56693  General Acute Care Hospital               NaN  1224 TROTWOOD AVE   \n",
       "56695  General Acute Care Hospital               NaN  1224 TROTWOOD AVE   \n",
       "\n",
       "      address_line2_to      city_to state_to  zip_to  patient_count  \\\n",
       "4                  NaN  MCMINNVILLE       TN   37110             47   \n",
       "18                 NaN   SMITHVILLE       TN   37166            303   \n",
       "38                 NaN   SMITHVILLE       TN   37166            285   \n",
       "62                 NaN   SMITHVILLE       TN   37166            290   \n",
       "84                 NaN     COLUMBIA       TN   38401             27   \n",
       "...                ...          ...      ...     ...            ...   \n",
       "56687              NaN     COLUMBIA       TN   38401             48   \n",
       "56688              NaN     COLUMBIA       TN   38401            109   \n",
       "56691              NaN     COLUMBIA       TN   38401            146   \n",
       "56693              NaN     COLUMBIA       TN   38401            107   \n",
       "56695              NaN     COLUMBIA       TN   38401            167   \n",
       "\n",
       "       transaction_count  average_day_wait  std_day_wait  \\\n",
       "4                     57             43.19         53.23   \n",
       "18                   520             18.84         42.81   \n",
       "38                   493             22.39         50.29   \n",
       "62                   507             20.74         46.08   \n",
       "84                    51             30.12         32.97   \n",
       "...                  ...               ...           ...   \n",
       "56687                 59             44.41         55.39   \n",
       "56688                112              0.00          0.00   \n",
       "56691                217             18.90         33.83   \n",
       "56693                147              6.56         13.99   \n",
       "56695                232              0.00          0.00   \n",
       "\n",
       "                                         address_from  \\\n",
       "4           302 N CONGRESS BLVD, SMITHVILLE, TN 37166   \n",
       "18          302 N CONGRESS BLVD, SMITHVILLE, TN 37166   \n",
       "38          302 N CONGRESS BLVD, SMITHVILLE, TN 37166   \n",
       "62          302 N CONGRESS BLVD, SMITHVILLE, TN 37166   \n",
       "84             5801 CROSSINGS BLVD, ANTIOCH, TN 37013   \n",
       "...                                               ...   \n",
       "56687            106 S MILITARY ST, LORETTO, TN 38469   \n",
       "56688  4230 HARDING PIKE STE 435, NASHVILLE, TN 37205   \n",
       "56691          529 W COMMERCE ST, LEWISBURG, TN 37091   \n",
       "56693        185 QUEEN CITY AVE, MANCHESTER, NH 03101   \n",
       "56695           1224 TROTWOOD AVE, COLUMBIA, TN 38401   \n",
       "\n",
       "                                  address_to  to_communityid  \\\n",
       "4      1559 SPARTA ST, MCMINNVILLE, TN 37110            9794   \n",
       "18       520 W MAIN ST, SMITHVILLE, TN 37166           20624   \n",
       "38       520 W MAIN ST, SMITHVILLE, TN 37166           20624   \n",
       "62       520 W MAIN ST, SMITHVILLE, TN 37166           20624   \n",
       "84     1224 TROTWOOD AVE, COLUMBIA, TN 38401           28767   \n",
       "...                                      ...             ...   \n",
       "56687  1224 TROTWOOD AVE, COLUMBIA, TN 38401           28767   \n",
       "56688  1224 TROTWOOD AVE, COLUMBIA, TN 38401           28767   \n",
       "56691  1224 TROTWOOD AVE, COLUMBIA, TN 38401           28767   \n",
       "56693  1224 TROTWOOD AVE, COLUMBIA, TN 38401           28767   \n",
       "56695  1224 TROTWOOD AVE, COLUMBIA, TN 38401           28767   \n",
       "\n",
       "       from_communityid               specialization2_from  \n",
       "4                 20624                                NaN  \n",
       "18                20624                                NaN  \n",
       "38                20624                                NaN  \n",
       "62                20624                                NaN  \n",
       "84                12061       Physician Assistant(Medical)  \n",
       "...                 ...                                ...  \n",
       "56687             28767         Nurse Practitioner(Family)  \n",
       "56688             28767                                NaN  \n",
       "56691             28767         Nurse Practitioner(Family)  \n",
       "56693             28767  Psychiatry & Neurology(Neurology)  \n",
       "56695             28767                                NaN  \n",
       "\n",
       "[3997 rows x 34 columns]"
      ]
     },
     "execution_count": 431,
     "metadata": {},
     "output_type": "execute_result"
    }
   ],
   "source": [
    "hospital_comms_filtered[(~hospital_comms_filtered['from_communityid'].isin(vanderbilt_communities)) & (~hospital_comms_filtered['organization_to'].str.contains('VANDERBILT'))].organization_to()"
   ]
  },
  {
   "cell_type": "code",
   "execution_count": 378,
   "id": "6dc9d546",
   "metadata": {},
   "outputs": [],
   "source": [
    "doctors_in_vandy =  pd.DataFrame(hospital_comms_filtered[hospital_comms_filtered['from_communityid'].isin(vanderbilt_communities)]\n",
    "             .groupby(['city_from','state_from'])\n",
    "             .agg({'patient_count':'sum',\n",
    "                   'from_npi':'nunique'})).sort_values('from_npi',ascending = False).rename(columns = {'patient_count':'patient_count_vandy',\n",
    "                                                                                                      'from_npi':'doctor_count_vandy'}).reset_index()"
   ]
  },
  {
   "cell_type": "code",
   "execution_count": 379,
   "id": "55739b6d",
   "metadata": {},
   "outputs": [
    {
     "data": {
      "text/html": [
       "<div>\n",
       "<style scoped>\n",
       "    .dataframe tbody tr th:only-of-type {\n",
       "        vertical-align: middle;\n",
       "    }\n",
       "\n",
       "    .dataframe tbody tr th {\n",
       "        vertical-align: top;\n",
       "    }\n",
       "\n",
       "    .dataframe thead th {\n",
       "        text-align: right;\n",
       "    }\n",
       "</style>\n",
       "<table border=\"1\" class=\"dataframe\">\n",
       "  <thead>\n",
       "    <tr style=\"text-align: right;\">\n",
       "      <th></th>\n",
       "      <th>city_from</th>\n",
       "      <th>state_from</th>\n",
       "      <th>patient_count_other</th>\n",
       "      <th>doctor_count_other</th>\n",
       "    </tr>\n",
       "  </thead>\n",
       "  <tbody>\n",
       "    <tr>\n",
       "      <th>0</th>\n",
       "      <td>NASHVILLE</td>\n",
       "      <td>TN</td>\n",
       "      <td>226851</td>\n",
       "      <td>776</td>\n",
       "    </tr>\n",
       "    <tr>\n",
       "      <th>1</th>\n",
       "      <td>MURFREESBORO</td>\n",
       "      <td>TN</td>\n",
       "      <td>48041</td>\n",
       "      <td>216</td>\n",
       "    </tr>\n",
       "    <tr>\n",
       "      <th>2</th>\n",
       "      <td>COLUMBIA</td>\n",
       "      <td>TN</td>\n",
       "      <td>66767</td>\n",
       "      <td>195</td>\n",
       "    </tr>\n",
       "    <tr>\n",
       "      <th>3</th>\n",
       "      <td>HENDERSONVILLE</td>\n",
       "      <td>TN</td>\n",
       "      <td>38214</td>\n",
       "      <td>84</td>\n",
       "    </tr>\n",
       "    <tr>\n",
       "      <th>4</th>\n",
       "      <td>HERMITAGE</td>\n",
       "      <td>TN</td>\n",
       "      <td>29378</td>\n",
       "      <td>84</td>\n",
       "    </tr>\n",
       "    <tr>\n",
       "      <th>...</th>\n",
       "      <td>...</td>\n",
       "      <td>...</td>\n",
       "      <td>...</td>\n",
       "      <td>...</td>\n",
       "    </tr>\n",
       "    <tr>\n",
       "      <th>292</th>\n",
       "      <td>HONOLULU</td>\n",
       "      <td>HI</td>\n",
       "      <td>230</td>\n",
       "      <td>1</td>\n",
       "    </tr>\n",
       "    <tr>\n",
       "      <th>293</th>\n",
       "      <td>HUNTINGTON</td>\n",
       "      <td>NY</td>\n",
       "      <td>64</td>\n",
       "      <td>1</td>\n",
       "    </tr>\n",
       "    <tr>\n",
       "      <th>294</th>\n",
       "      <td>INDEPENDENCE</td>\n",
       "      <td>OH</td>\n",
       "      <td>50</td>\n",
       "      <td>1</td>\n",
       "    </tr>\n",
       "    <tr>\n",
       "      <th>295</th>\n",
       "      <td>JACKSON</td>\n",
       "      <td>MS</td>\n",
       "      <td>428</td>\n",
       "      <td>1</td>\n",
       "    </tr>\n",
       "    <tr>\n",
       "      <th>296</th>\n",
       "      <td>ZANESVILLE</td>\n",
       "      <td>OH</td>\n",
       "      <td>83</td>\n",
       "      <td>1</td>\n",
       "    </tr>\n",
       "  </tbody>\n",
       "</table>\n",
       "<p>297 rows × 4 columns</p>\n",
       "</div>"
      ],
      "text/plain": [
       "          city_from state_from  patient_count_other  doctor_count_other\n",
       "0         NASHVILLE         TN               226851                 776\n",
       "1      MURFREESBORO         TN                48041                 216\n",
       "2          COLUMBIA         TN                66767                 195\n",
       "3    HENDERSONVILLE         TN                38214                  84\n",
       "4         HERMITAGE         TN                29378                  84\n",
       "..              ...        ...                  ...                 ...\n",
       "292        HONOLULU         HI                  230                   1\n",
       "293      HUNTINGTON         NY                   64                   1\n",
       "294    INDEPENDENCE         OH                   50                   1\n",
       "295         JACKSON         MS                  428                   1\n",
       "296      ZANESVILLE         OH                   83                   1\n",
       "\n",
       "[297 rows x 4 columns]"
      ]
     },
     "execution_count": 379,
     "metadata": {},
     "output_type": "execute_result"
    }
   ],
   "source": [
    "doctors_out_comm"
   ]
  },
  {
   "cell_type": "code",
   "execution_count": 380,
   "id": "8816b844",
   "metadata": {},
   "outputs": [],
   "source": [
    "doctor_comparison = pd.merge(doctors_outside,doctors_inside, on = ['city_from','state_from'])"
   ]
  },
  {
   "cell_type": "code",
   "execution_count": 409,
   "id": "fc9190a1",
   "metadata": {},
   "outputs": [],
   "source": [
    "doctor_comparison_problem = doctor_comparison[(doctor_comparison['patient_count_other'] > doctor_comparison['patient_count_vandy']) & (doctor_comparison['state_from'] == 'TN')]"
   ]
  },
  {
   "cell_type": "code",
   "execution_count": 428,
   "id": "efc1a31e",
   "metadata": {},
   "outputs": [
    {
     "data": {
      "text/html": [
       "<div>\n",
       "<style scoped>\n",
       "    .dataframe tbody tr th:only-of-type {\n",
       "        vertical-align: middle;\n",
       "    }\n",
       "\n",
       "    .dataframe tbody tr th {\n",
       "        vertical-align: top;\n",
       "    }\n",
       "\n",
       "    .dataframe thead th {\n",
       "        text-align: right;\n",
       "    }\n",
       "</style>\n",
       "<table border=\"1\" class=\"dataframe\">\n",
       "  <thead>\n",
       "    <tr style=\"text-align: right;\">\n",
       "      <th></th>\n",
       "      <th>city_from</th>\n",
       "      <th>state_from</th>\n",
       "      <th>patient_count_other</th>\n",
       "      <th>doctor_count_other</th>\n",
       "      <th>patient_count_vandy</th>\n",
       "      <th>doctor_count_vandy</th>\n",
       "      <th>patient_difference</th>\n",
       "      <th>doc_difference</th>\n",
       "      <th>rel_patient_difference</th>\n",
       "      <th>rel_doc_difference</th>\n",
       "    </tr>\n",
       "  </thead>\n",
       "  <tbody>\n",
       "    <tr>\n",
       "      <th>1</th>\n",
       "      <td>MURFREESBORO</td>\n",
       "      <td>TN</td>\n",
       "      <td>84454</td>\n",
       "      <td>262</td>\n",
       "      <td>5274</td>\n",
       "      <td>29</td>\n",
       "      <td>79180</td>\n",
       "      <td>233</td>\n",
       "      <td>0.94</td>\n",
       "      <td>0.89</td>\n",
       "    </tr>\n",
       "    <tr>\n",
       "      <th>2</th>\n",
       "      <td>COLUMBIA</td>\n",
       "      <td>TN</td>\n",
       "      <td>111557</td>\n",
       "      <td>215</td>\n",
       "      <td>353</td>\n",
       "      <td>5</td>\n",
       "      <td>111204</td>\n",
       "      <td>210</td>\n",
       "      <td>1.00</td>\n",
       "      <td>0.98</td>\n",
       "    </tr>\n",
       "    <tr>\n",
       "      <th>3</th>\n",
       "      <td>HERMITAGE</td>\n",
       "      <td>TN</td>\n",
       "      <td>33876</td>\n",
       "      <td>96</td>\n",
       "      <td>3121</td>\n",
       "      <td>16</td>\n",
       "      <td>30755</td>\n",
       "      <td>80</td>\n",
       "      <td>0.91</td>\n",
       "      <td>0.83</td>\n",
       "    </tr>\n",
       "    <tr>\n",
       "      <th>4</th>\n",
       "      <td>HENDERSONVILLE</td>\n",
       "      <td>TN</td>\n",
       "      <td>40140</td>\n",
       "      <td>90</td>\n",
       "      <td>3586</td>\n",
       "      <td>16</td>\n",
       "      <td>36554</td>\n",
       "      <td>74</td>\n",
       "      <td>0.91</td>\n",
       "      <td>0.82</td>\n",
       "    </tr>\n",
       "    <tr>\n",
       "      <th>5</th>\n",
       "      <td>GALLATIN</td>\n",
       "      <td>TN</td>\n",
       "      <td>35528</td>\n",
       "      <td>87</td>\n",
       "      <td>632</td>\n",
       "      <td>3</td>\n",
       "      <td>34896</td>\n",
       "      <td>84</td>\n",
       "      <td>0.98</td>\n",
       "      <td>0.97</td>\n",
       "    </tr>\n",
       "    <tr>\n",
       "      <th>6</th>\n",
       "      <td>CLARKSVILLE</td>\n",
       "      <td>TN</td>\n",
       "      <td>17897</td>\n",
       "      <td>68</td>\n",
       "      <td>1381</td>\n",
       "      <td>14</td>\n",
       "      <td>16516</td>\n",
       "      <td>54</td>\n",
       "      <td>0.92</td>\n",
       "      <td>0.79</td>\n",
       "    </tr>\n",
       "    <tr>\n",
       "      <th>7</th>\n",
       "      <td>COOKEVILLE</td>\n",
       "      <td>TN</td>\n",
       "      <td>13112</td>\n",
       "      <td>61</td>\n",
       "      <td>2193</td>\n",
       "      <td>25</td>\n",
       "      <td>10919</td>\n",
       "      <td>36</td>\n",
       "      <td>0.83</td>\n",
       "      <td>0.59</td>\n",
       "    </tr>\n",
       "    <tr>\n",
       "      <th>8</th>\n",
       "      <td>DICKSON</td>\n",
       "      <td>TN</td>\n",
       "      <td>19663</td>\n",
       "      <td>60</td>\n",
       "      <td>1036</td>\n",
       "      <td>6</td>\n",
       "      <td>18627</td>\n",
       "      <td>54</td>\n",
       "      <td>0.95</td>\n",
       "      <td>0.90</td>\n",
       "    </tr>\n",
       "    <tr>\n",
       "      <th>9</th>\n",
       "      <td>SMYRNA</td>\n",
       "      <td>TN</td>\n",
       "      <td>15437</td>\n",
       "      <td>51</td>\n",
       "      <td>1961</td>\n",
       "      <td>9</td>\n",
       "      <td>13476</td>\n",
       "      <td>42</td>\n",
       "      <td>0.87</td>\n",
       "      <td>0.82</td>\n",
       "    </tr>\n",
       "    <tr>\n",
       "      <th>11</th>\n",
       "      <td>SPRINGFIELD</td>\n",
       "      <td>TN</td>\n",
       "      <td>12370</td>\n",
       "      <td>42</td>\n",
       "      <td>608</td>\n",
       "      <td>3</td>\n",
       "      <td>11762</td>\n",
       "      <td>39</td>\n",
       "      <td>0.95</td>\n",
       "      <td>0.93</td>\n",
       "    </tr>\n",
       "    <tr>\n",
       "      <th>12</th>\n",
       "      <td>BRENTWOOD</td>\n",
       "      <td>TN</td>\n",
       "      <td>33089</td>\n",
       "      <td>41</td>\n",
       "      <td>4586</td>\n",
       "      <td>30</td>\n",
       "      <td>28503</td>\n",
       "      <td>11</td>\n",
       "      <td>0.86</td>\n",
       "      <td>0.27</td>\n",
       "    </tr>\n",
       "    <tr>\n",
       "      <th>14</th>\n",
       "      <td>KNOXVILLE</td>\n",
       "      <td>TN</td>\n",
       "      <td>5130</td>\n",
       "      <td>30</td>\n",
       "      <td>975</td>\n",
       "      <td>4</td>\n",
       "      <td>4155</td>\n",
       "      <td>26</td>\n",
       "      <td>0.81</td>\n",
       "      <td>0.87</td>\n",
       "    </tr>\n",
       "    <tr>\n",
       "      <th>15</th>\n",
       "      <td>GREENEVILLE</td>\n",
       "      <td>TN</td>\n",
       "      <td>4377</td>\n",
       "      <td>28</td>\n",
       "      <td>1032</td>\n",
       "      <td>2</td>\n",
       "      <td>3345</td>\n",
       "      <td>26</td>\n",
       "      <td>0.76</td>\n",
       "      <td>0.93</td>\n",
       "    </tr>\n",
       "    <tr>\n",
       "      <th>16</th>\n",
       "      <td>MADISON</td>\n",
       "      <td>TN</td>\n",
       "      <td>2586</td>\n",
       "      <td>26</td>\n",
       "      <td>122</td>\n",
       "      <td>1</td>\n",
       "      <td>2464</td>\n",
       "      <td>25</td>\n",
       "      <td>0.95</td>\n",
       "      <td>0.96</td>\n",
       "    </tr>\n",
       "    <tr>\n",
       "      <th>17</th>\n",
       "      <td>SPRING HILL</td>\n",
       "      <td>TN</td>\n",
       "      <td>3991</td>\n",
       "      <td>23</td>\n",
       "      <td>1585</td>\n",
       "      <td>7</td>\n",
       "      <td>2406</td>\n",
       "      <td>16</td>\n",
       "      <td>0.60</td>\n",
       "      <td>0.70</td>\n",
       "    </tr>\n",
       "    <tr>\n",
       "      <th>18</th>\n",
       "      <td>TULLAHOMA</td>\n",
       "      <td>TN</td>\n",
       "      <td>2782</td>\n",
       "      <td>22</td>\n",
       "      <td>597</td>\n",
       "      <td>6</td>\n",
       "      <td>2185</td>\n",
       "      <td>16</td>\n",
       "      <td>0.79</td>\n",
       "      <td>0.73</td>\n",
       "    </tr>\n",
       "    <tr>\n",
       "      <th>21</th>\n",
       "      <td>JACKSON</td>\n",
       "      <td>TN</td>\n",
       "      <td>1481</td>\n",
       "      <td>16</td>\n",
       "      <td>1015</td>\n",
       "      <td>18</td>\n",
       "      <td>466</td>\n",
       "      <td>-2</td>\n",
       "      <td>0.31</td>\n",
       "      <td>-0.12</td>\n",
       "    </tr>\n",
       "    <tr>\n",
       "      <th>23</th>\n",
       "      <td>ANTIOCH</td>\n",
       "      <td>TN</td>\n",
       "      <td>2019</td>\n",
       "      <td>14</td>\n",
       "      <td>299</td>\n",
       "      <td>1</td>\n",
       "      <td>1720</td>\n",
       "      <td>13</td>\n",
       "      <td>0.85</td>\n",
       "      <td>0.93</td>\n",
       "    </tr>\n",
       "    <tr>\n",
       "      <th>25</th>\n",
       "      <td>CHATTANOOGA</td>\n",
       "      <td>TN</td>\n",
       "      <td>4143</td>\n",
       "      <td>11</td>\n",
       "      <td>1231</td>\n",
       "      <td>6</td>\n",
       "      <td>2912</td>\n",
       "      <td>5</td>\n",
       "      <td>0.70</td>\n",
       "      <td>0.45</td>\n",
       "    </tr>\n",
       "    <tr>\n",
       "      <th>26</th>\n",
       "      <td>MANCHESTER</td>\n",
       "      <td>TN</td>\n",
       "      <td>1934</td>\n",
       "      <td>11</td>\n",
       "      <td>402</td>\n",
       "      <td>3</td>\n",
       "      <td>1532</td>\n",
       "      <td>8</td>\n",
       "      <td>0.79</td>\n",
       "      <td>0.73</td>\n",
       "    </tr>\n",
       "    <tr>\n",
       "      <th>27</th>\n",
       "      <td>CARTHAGE</td>\n",
       "      <td>TN</td>\n",
       "      <td>2538</td>\n",
       "      <td>11</td>\n",
       "      <td>265</td>\n",
       "      <td>2</td>\n",
       "      <td>2273</td>\n",
       "      <td>9</td>\n",
       "      <td>0.90</td>\n",
       "      <td>0.82</td>\n",
       "    </tr>\n",
       "    <tr>\n",
       "      <th>28</th>\n",
       "      <td>JOHNSON CITY</td>\n",
       "      <td>TN</td>\n",
       "      <td>1408</td>\n",
       "      <td>9</td>\n",
       "      <td>125</td>\n",
       "      <td>2</td>\n",
       "      <td>1283</td>\n",
       "      <td>7</td>\n",
       "      <td>0.91</td>\n",
       "      <td>0.78</td>\n",
       "    </tr>\n",
       "    <tr>\n",
       "      <th>30</th>\n",
       "      <td>WESTMORELAND</td>\n",
       "      <td>TN</td>\n",
       "      <td>1410</td>\n",
       "      <td>9</td>\n",
       "      <td>299</td>\n",
       "      <td>1</td>\n",
       "      <td>1111</td>\n",
       "      <td>8</td>\n",
       "      <td>0.79</td>\n",
       "      <td>0.89</td>\n",
       "    </tr>\n",
       "    <tr>\n",
       "      <th>33</th>\n",
       "      <td>WHITE HOUSE</td>\n",
       "      <td>TN</td>\n",
       "      <td>1928</td>\n",
       "      <td>8</td>\n",
       "      <td>107</td>\n",
       "      <td>1</td>\n",
       "      <td>1821</td>\n",
       "      <td>7</td>\n",
       "      <td>0.94</td>\n",
       "      <td>0.88</td>\n",
       "    </tr>\n",
       "    <tr>\n",
       "      <th>35</th>\n",
       "      <td>MEMPHIS</td>\n",
       "      <td>TN</td>\n",
       "      <td>2638</td>\n",
       "      <td>7</td>\n",
       "      <td>552</td>\n",
       "      <td>4</td>\n",
       "      <td>2086</td>\n",
       "      <td>3</td>\n",
       "      <td>0.79</td>\n",
       "      <td>0.43</td>\n",
       "    </tr>\n",
       "    <tr>\n",
       "      <th>36</th>\n",
       "      <td>KINGSPORT</td>\n",
       "      <td>TN</td>\n",
       "      <td>1158</td>\n",
       "      <td>6</td>\n",
       "      <td>29</td>\n",
       "      <td>1</td>\n",
       "      <td>1129</td>\n",
       "      <td>5</td>\n",
       "      <td>0.97</td>\n",
       "      <td>0.83</td>\n",
       "    </tr>\n",
       "    <tr>\n",
       "      <th>40</th>\n",
       "      <td>MT PLEASANT</td>\n",
       "      <td>TN</td>\n",
       "      <td>1982</td>\n",
       "      <td>5</td>\n",
       "      <td>711</td>\n",
       "      <td>2</td>\n",
       "      <td>1271</td>\n",
       "      <td>3</td>\n",
       "      <td>0.64</td>\n",
       "      <td>0.60</td>\n",
       "    </tr>\n",
       "    <tr>\n",
       "      <th>46</th>\n",
       "      <td>FAYETTEVILLE</td>\n",
       "      <td>TN</td>\n",
       "      <td>1063</td>\n",
       "      <td>4</td>\n",
       "      <td>426</td>\n",
       "      <td>4</td>\n",
       "      <td>637</td>\n",
       "      <td>0</td>\n",
       "      <td>0.60</td>\n",
       "      <td>0.00</td>\n",
       "    </tr>\n",
       "    <tr>\n",
       "      <th>57</th>\n",
       "      <td>LA VERGNE</td>\n",
       "      <td>TN</td>\n",
       "      <td>588</td>\n",
       "      <td>3</td>\n",
       "      <td>445</td>\n",
       "      <td>3</td>\n",
       "      <td>143</td>\n",
       "      <td>0</td>\n",
       "      <td>0.24</td>\n",
       "      <td>0.00</td>\n",
       "    </tr>\n",
       "    <tr>\n",
       "      <th>59</th>\n",
       "      <td>LIVINGSTON</td>\n",
       "      <td>TN</td>\n",
       "      <td>427</td>\n",
       "      <td>3</td>\n",
       "      <td>184</td>\n",
       "      <td>2</td>\n",
       "      <td>243</td>\n",
       "      <td>1</td>\n",
       "      <td>0.57</td>\n",
       "      <td>0.33</td>\n",
       "    </tr>\n",
       "    <tr>\n",
       "      <th>64</th>\n",
       "      <td>MORRISON</td>\n",
       "      <td>TN</td>\n",
       "      <td>165</td>\n",
       "      <td>2</td>\n",
       "      <td>97</td>\n",
       "      <td>1</td>\n",
       "      <td>68</td>\n",
       "      <td>1</td>\n",
       "      <td>0.41</td>\n",
       "      <td>0.50</td>\n",
       "    </tr>\n",
       "    <tr>\n",
       "      <th>65</th>\n",
       "      <td>MT. JULIET</td>\n",
       "      <td>TN</td>\n",
       "      <td>802</td>\n",
       "      <td>2</td>\n",
       "      <td>659</td>\n",
       "      <td>3</td>\n",
       "      <td>143</td>\n",
       "      <td>-1</td>\n",
       "      <td>0.18</td>\n",
       "      <td>-0.50</td>\n",
       "    </tr>\n",
       "    <tr>\n",
       "      <th>78</th>\n",
       "      <td>CENTERVILLE</td>\n",
       "      <td>TN</td>\n",
       "      <td>247</td>\n",
       "      <td>2</td>\n",
       "      <td>220</td>\n",
       "      <td>3</td>\n",
       "      <td>27</td>\n",
       "      <td>-1</td>\n",
       "      <td>0.11</td>\n",
       "      <td>-0.50</td>\n",
       "    </tr>\n",
       "    <tr>\n",
       "      <th>96</th>\n",
       "      <td>ATHENS</td>\n",
       "      <td>TN</td>\n",
       "      <td>393</td>\n",
       "      <td>1</td>\n",
       "      <td>151</td>\n",
       "      <td>1</td>\n",
       "      <td>242</td>\n",
       "      <td>0</td>\n",
       "      <td>0.62</td>\n",
       "      <td>0.00</td>\n",
       "    </tr>\n",
       "    <tr>\n",
       "      <th>99</th>\n",
       "      <td>BYRDSTOWN</td>\n",
       "      <td>TN</td>\n",
       "      <td>190</td>\n",
       "      <td>1</td>\n",
       "      <td>185</td>\n",
       "      <td>4</td>\n",
       "      <td>5</td>\n",
       "      <td>-3</td>\n",
       "      <td>0.03</td>\n",
       "      <td>-3.00</td>\n",
       "    </tr>\n",
       "    <tr>\n",
       "      <th>100</th>\n",
       "      <td>CAMDEN</td>\n",
       "      <td>TN</td>\n",
       "      <td>232</td>\n",
       "      <td>1</td>\n",
       "      <td>54</td>\n",
       "      <td>1</td>\n",
       "      <td>178</td>\n",
       "      <td>0</td>\n",
       "      <td>0.77</td>\n",
       "      <td>0.00</td>\n",
       "    </tr>\n",
       "  </tbody>\n",
       "</table>\n",
       "</div>"
      ],
      "text/plain": [
       "          city_from state_from  patient_count_other  doctor_count_other  \\\n",
       "1      MURFREESBORO         TN                84454                 262   \n",
       "2          COLUMBIA         TN               111557                 215   \n",
       "3         HERMITAGE         TN                33876                  96   \n",
       "4    HENDERSONVILLE         TN                40140                  90   \n",
       "5          GALLATIN         TN                35528                  87   \n",
       "6       CLARKSVILLE         TN                17897                  68   \n",
       "7        COOKEVILLE         TN                13112                  61   \n",
       "8           DICKSON         TN                19663                  60   \n",
       "9            SMYRNA         TN                15437                  51   \n",
       "11      SPRINGFIELD         TN                12370                  42   \n",
       "12        BRENTWOOD         TN                33089                  41   \n",
       "14        KNOXVILLE         TN                 5130                  30   \n",
       "15      GREENEVILLE         TN                 4377                  28   \n",
       "16          MADISON         TN                 2586                  26   \n",
       "17      SPRING HILL         TN                 3991                  23   \n",
       "18        TULLAHOMA         TN                 2782                  22   \n",
       "21          JACKSON         TN                 1481                  16   \n",
       "23          ANTIOCH         TN                 2019                  14   \n",
       "25      CHATTANOOGA         TN                 4143                  11   \n",
       "26       MANCHESTER         TN                 1934                  11   \n",
       "27         CARTHAGE         TN                 2538                  11   \n",
       "28     JOHNSON CITY         TN                 1408                   9   \n",
       "30     WESTMORELAND         TN                 1410                   9   \n",
       "33      WHITE HOUSE         TN                 1928                   8   \n",
       "35          MEMPHIS         TN                 2638                   7   \n",
       "36        KINGSPORT         TN                 1158                   6   \n",
       "40      MT PLEASANT         TN                 1982                   5   \n",
       "46     FAYETTEVILLE         TN                 1063                   4   \n",
       "57        LA VERGNE         TN                  588                   3   \n",
       "59       LIVINGSTON         TN                  427                   3   \n",
       "64         MORRISON         TN                  165                   2   \n",
       "65       MT. JULIET         TN                  802                   2   \n",
       "78      CENTERVILLE         TN                  247                   2   \n",
       "96           ATHENS         TN                  393                   1   \n",
       "99        BYRDSTOWN         TN                  190                   1   \n",
       "100          CAMDEN         TN                  232                   1   \n",
       "\n",
       "     patient_count_vandy  doctor_count_vandy  patient_difference  \\\n",
       "1                   5274                  29               79180   \n",
       "2                    353                   5              111204   \n",
       "3                   3121                  16               30755   \n",
       "4                   3586                  16               36554   \n",
       "5                    632                   3               34896   \n",
       "6                   1381                  14               16516   \n",
       "7                   2193                  25               10919   \n",
       "8                   1036                   6               18627   \n",
       "9                   1961                   9               13476   \n",
       "11                   608                   3               11762   \n",
       "12                  4586                  30               28503   \n",
       "14                   975                   4                4155   \n",
       "15                  1032                   2                3345   \n",
       "16                   122                   1                2464   \n",
       "17                  1585                   7                2406   \n",
       "18                   597                   6                2185   \n",
       "21                  1015                  18                 466   \n",
       "23                   299                   1                1720   \n",
       "25                  1231                   6                2912   \n",
       "26                   402                   3                1532   \n",
       "27                   265                   2                2273   \n",
       "28                   125                   2                1283   \n",
       "30                   299                   1                1111   \n",
       "33                   107                   1                1821   \n",
       "35                   552                   4                2086   \n",
       "36                    29                   1                1129   \n",
       "40                   711                   2                1271   \n",
       "46                   426                   4                 637   \n",
       "57                   445                   3                 143   \n",
       "59                   184                   2                 243   \n",
       "64                    97                   1                  68   \n",
       "65                   659                   3                 143   \n",
       "78                   220                   3                  27   \n",
       "96                   151                   1                 242   \n",
       "99                   185                   4                   5   \n",
       "100                   54                   1                 178   \n",
       "\n",
       "     doc_difference  rel_patient_difference  rel_doc_difference  \n",
       "1               233                    0.94                0.89  \n",
       "2               210                    1.00                0.98  \n",
       "3                80                    0.91                0.83  \n",
       "4                74                    0.91                0.82  \n",
       "5                84                    0.98                0.97  \n",
       "6                54                    0.92                0.79  \n",
       "7                36                    0.83                0.59  \n",
       "8                54                    0.95                0.90  \n",
       "9                42                    0.87                0.82  \n",
       "11               39                    0.95                0.93  \n",
       "12               11                    0.86                0.27  \n",
       "14               26                    0.81                0.87  \n",
       "15               26                    0.76                0.93  \n",
       "16               25                    0.95                0.96  \n",
       "17               16                    0.60                0.70  \n",
       "18               16                    0.79                0.73  \n",
       "21               -2                    0.31               -0.12  \n",
       "23               13                    0.85                0.93  \n",
       "25                5                    0.70                0.45  \n",
       "26                8                    0.79                0.73  \n",
       "27                9                    0.90                0.82  \n",
       "28                7                    0.91                0.78  \n",
       "30                8                    0.79                0.89  \n",
       "33                7                    0.94                0.88  \n",
       "35                3                    0.79                0.43  \n",
       "36                5                    0.97                0.83  \n",
       "40                3                    0.64                0.60  \n",
       "46                0                    0.60                0.00  \n",
       "57                0                    0.24                0.00  \n",
       "59                1                    0.57                0.33  \n",
       "64                1                    0.41                0.50  \n",
       "65               -1                    0.18               -0.50  \n",
       "78               -1                    0.11               -0.50  \n",
       "96                0                    0.62                0.00  \n",
       "99               -3                    0.03               -3.00  \n",
       "100               0                    0.77                0.00  "
      ]
     },
     "execution_count": 428,
     "metadata": {},
     "output_type": "execute_result"
    }
   ],
   "source": []
  },
  {
   "cell_type": "markdown",
   "id": "a67fc2b8",
   "metadata": {},
   "source": [
    "cities with highest referrals to vanderbilt from outside of community"
   ]
  },
  {
   "cell_type": "code",
   "execution_count": 419,
   "id": "57253ddc",
   "metadata": {},
   "outputs": [
    {
     "data": {
      "text/html": [
       "<div>\n",
       "<style scoped>\n",
       "    .dataframe tbody tr th:only-of-type {\n",
       "        vertical-align: middle;\n",
       "    }\n",
       "\n",
       "    .dataframe tbody tr th {\n",
       "        vertical-align: top;\n",
       "    }\n",
       "\n",
       "    .dataframe thead th {\n",
       "        text-align: right;\n",
       "    }\n",
       "</style>\n",
       "<table border=\"1\" class=\"dataframe\">\n",
       "  <thead>\n",
       "    <tr style=\"text-align: right;\">\n",
       "      <th></th>\n",
       "      <th>patient_count</th>\n",
       "    </tr>\n",
       "    <tr>\n",
       "      <th>city_from</th>\n",
       "      <th></th>\n",
       "    </tr>\n",
       "  </thead>\n",
       "  <tbody>\n",
       "    <tr>\n",
       "      <th>NASHVILLE</th>\n",
       "      <td>10634</td>\n",
       "    </tr>\n",
       "    <tr>\n",
       "      <th>CLARKSVILLE</th>\n",
       "      <td>4537</td>\n",
       "    </tr>\n",
       "    <tr>\n",
       "      <th>LEBANON</th>\n",
       "      <td>3756</td>\n",
       "    </tr>\n",
       "    <tr>\n",
       "      <th>MURFREESBORO</th>\n",
       "      <td>3628</td>\n",
       "    </tr>\n",
       "    <tr>\n",
       "      <th>COLUMBIA</th>\n",
       "      <td>2213</td>\n",
       "    </tr>\n",
       "    <tr>\n",
       "      <th>HERMITAGE</th>\n",
       "      <td>2189</td>\n",
       "    </tr>\n",
       "  </tbody>\n",
       "</table>\n",
       "</div>"
      ],
      "text/plain": [
       "              patient_count\n",
       "city_from                  \n",
       "NASHVILLE             10634\n",
       "CLARKSVILLE            4537\n",
       "LEBANON                3756\n",
       "MURFREESBORO           3628\n",
       "COLUMBIA               2213\n",
       "HERMITAGE              2189"
      ]
     },
     "execution_count": 419,
     "metadata": {},
     "output_type": "execute_result"
    }
   ],
   "source": [
    "pd.DataFrame(hospital_comms_filtered[(~hospital_comms_filtered['from_communityid'].isin(vanderbilt_communities)) & \n",
    "                       (hospital_comms_filtered['organization_to'].str.contains('VANDERBILT'))].groupby('city_from')['patient_count'].sum()).sort_values('patient_count', ascending = False).head(6)"
   ]
  },
  {
   "cell_type": "markdown",
   "id": "07844e4a",
   "metadata": {},
   "source": [
    "Clarksville, lebanon, Murfreesboro, Columbia, and Hermitage refer the most patients to vanderbilt"
   ]
  },
  {
   "cell_type": "code",
   "execution_count": 414,
   "id": "098fc90c",
   "metadata": {},
   "outputs": [],
   "source": [
    "city_targets = ['CLARKSVILLE','LEBANON','MURFREESBORO','COLUMBIA','HERMITAGE']"
   ]
  },
  {
   "cell_type": "code",
   "execution_count": 420,
   "id": "3bcfbabf",
   "metadata": {
    "scrolled": true
   },
   "outputs": [
    {
     "name": "stderr",
     "output_type": "stream",
     "text": [
      "<ipython-input-420-66d5ee835d73>:1: SettingWithCopyWarning: \n",
      "A value is trying to be set on a copy of a slice from a DataFrame.\n",
      "Try using .loc[row_indexer,col_indexer] = value instead\n",
      "\n",
      "See the caveats in the documentation: https://pandas.pydata.org/pandas-docs/stable/user_guide/indexing.html#returning-a-view-versus-a-copy\n",
      "  doctor_comparison_problem['patient_difference'] = doctor_comparison_problem['patient_count_other'] - doctor_comparison_problem['patient_count_vandy']\n",
      "<ipython-input-420-66d5ee835d73>:2: SettingWithCopyWarning: \n",
      "A value is trying to be set on a copy of a slice from a DataFrame.\n",
      "Try using .loc[row_indexer,col_indexer] = value instead\n",
      "\n",
      "See the caveats in the documentation: https://pandas.pydata.org/pandas-docs/stable/user_guide/indexing.html#returning-a-view-versus-a-copy\n",
      "  doctor_comparison_problem['doc_difference'] = doctor_comparison_problem['doctor_count_other'] - doctor_comparison_problem['doctor_count_vandy']\n",
      "<ipython-input-420-66d5ee835d73>:3: SettingWithCopyWarning: \n",
      "A value is trying to be set on a copy of a slice from a DataFrame.\n",
      "Try using .loc[row_indexer,col_indexer] = value instead\n",
      "\n",
      "See the caveats in the documentation: https://pandas.pydata.org/pandas-docs/stable/user_guide/indexing.html#returning-a-view-versus-a-copy\n",
      "  doctor_comparison_problem['rel_patient_difference'] = (doctor_comparison_problem['patient_count_other'] - doctor_comparison_problem['patient_count_vandy'])/doctor_comparison_problem['patient_count_other']\n",
      "<ipython-input-420-66d5ee835d73>:4: SettingWithCopyWarning: \n",
      "A value is trying to be set on a copy of a slice from a DataFrame.\n",
      "Try using .loc[row_indexer,col_indexer] = value instead\n",
      "\n",
      "See the caveats in the documentation: https://pandas.pydata.org/pandas-docs/stable/user_guide/indexing.html#returning-a-view-versus-a-copy\n",
      "  doctor_comparison_problem['rel_doc_difference'] = (doctor_comparison_problem['doctor_count_other'] - doctor_comparison_problem['doctor_count_vandy'])/doctor_comparison_problem['doctor_count_other']\n"
     ]
    }
   ],
   "source": [
    "doctor_comparison_problem['patient_difference'] = doctor_comparison_problem['patient_count_other'] - doctor_comparison_problem['patient_count_vandy']\n",
    "doctor_comparison_problem['doc_difference'] = doctor_comparison_problem['doctor_count_other'] - doctor_comparison_problem['doctor_count_vandy']\n",
    "doctor_comparison_problem['rel_patient_difference'] = (doctor_comparison_problem['patient_count_other'] - doctor_comparison_problem['patient_count_vandy'])/doctor_comparison_problem['patient_count_other']\n",
    "doctor_comparison_problem['rel_doc_difference'] = (doctor_comparison_problem['doctor_count_other'] - doctor_comparison_problem['doctor_count_vandy'])/doctor_comparison_problem['doctor_count_other']\n"
   ]
  },
  {
   "cell_type": "code",
   "execution_count": 421,
   "id": "1932e058",
   "metadata": {},
   "outputs": [
    {
     "data": {
      "text/html": [
       "<div>\n",
       "<style scoped>\n",
       "    .dataframe tbody tr th:only-of-type {\n",
       "        vertical-align: middle;\n",
       "    }\n",
       "\n",
       "    .dataframe tbody tr th {\n",
       "        vertical-align: top;\n",
       "    }\n",
       "\n",
       "    .dataframe thead th {\n",
       "        text-align: right;\n",
       "    }\n",
       "</style>\n",
       "<table border=\"1\" class=\"dataframe\">\n",
       "  <thead>\n",
       "    <tr style=\"text-align: right;\">\n",
       "      <th></th>\n",
       "      <th>city_from</th>\n",
       "      <th>state_from</th>\n",
       "      <th>patient_count_other</th>\n",
       "      <th>doctor_count_other</th>\n",
       "      <th>patient_count_vandy</th>\n",
       "      <th>doctor_count_vandy</th>\n",
       "      <th>patient_difference</th>\n",
       "      <th>doc_difference</th>\n",
       "      <th>rel_patient_difference</th>\n",
       "      <th>rel_doc_difference</th>\n",
       "    </tr>\n",
       "  </thead>\n",
       "  <tbody>\n",
       "    <tr>\n",
       "      <th>3</th>\n",
       "      <td>HERMITAGE</td>\n",
       "      <td>TN</td>\n",
       "      <td>33876</td>\n",
       "      <td>96</td>\n",
       "      <td>3121</td>\n",
       "      <td>16</td>\n",
       "      <td>30755</td>\n",
       "      <td>80</td>\n",
       "      <td>0.91</td>\n",
       "      <td>0.83</td>\n",
       "    </tr>\n",
       "    <tr>\n",
       "      <th>6</th>\n",
       "      <td>CLARKSVILLE</td>\n",
       "      <td>TN</td>\n",
       "      <td>17897</td>\n",
       "      <td>68</td>\n",
       "      <td>1381</td>\n",
       "      <td>14</td>\n",
       "      <td>16516</td>\n",
       "      <td>54</td>\n",
       "      <td>0.92</td>\n",
       "      <td>0.79</td>\n",
       "    </tr>\n",
       "    <tr>\n",
       "      <th>1</th>\n",
       "      <td>MURFREESBORO</td>\n",
       "      <td>TN</td>\n",
       "      <td>84454</td>\n",
       "      <td>262</td>\n",
       "      <td>5274</td>\n",
       "      <td>29</td>\n",
       "      <td>79180</td>\n",
       "      <td>233</td>\n",
       "      <td>0.94</td>\n",
       "      <td>0.89</td>\n",
       "    </tr>\n",
       "    <tr>\n",
       "      <th>2</th>\n",
       "      <td>COLUMBIA</td>\n",
       "      <td>TN</td>\n",
       "      <td>111557</td>\n",
       "      <td>215</td>\n",
       "      <td>353</td>\n",
       "      <td>5</td>\n",
       "      <td>111204</td>\n",
       "      <td>210</td>\n",
       "      <td>1.00</td>\n",
       "      <td>0.98</td>\n",
       "    </tr>\n",
       "  </tbody>\n",
       "</table>\n",
       "</div>"
      ],
      "text/plain": [
       "      city_from state_from  patient_count_other  doctor_count_other  \\\n",
       "3     HERMITAGE         TN                33876                  96   \n",
       "6   CLARKSVILLE         TN                17897                  68   \n",
       "1  MURFREESBORO         TN                84454                 262   \n",
       "2      COLUMBIA         TN               111557                 215   \n",
       "\n",
       "   patient_count_vandy  doctor_count_vandy  patient_difference  \\\n",
       "3                 3121                  16               30755   \n",
       "6                 1381                  14               16516   \n",
       "1                 5274                  29               79180   \n",
       "2                  353                   5              111204   \n",
       "\n",
       "   doc_difference  rel_patient_difference  rel_doc_difference  \n",
       "3              80                    0.91                0.83  \n",
       "6              54                    0.92                0.79  \n",
       "1             233                    0.94                0.89  \n",
       "2             210                    1.00                0.98  "
      ]
     },
     "execution_count": 421,
     "metadata": {},
     "output_type": "execute_result"
    }
   ],
   "source": [
    "doctor_comparison_problem[doctor_comparison_problem['city_from'].isin(city_targets)].sort_values('rel_patient_difference')"
   ]
  },
  {
   "cell_type": "code",
   "execution_count": 418,
   "id": "68ee8708",
   "metadata": {},
   "outputs": [
    {
     "data": {
      "text/html": [
       "<div>\n",
       "<style scoped>\n",
       "    .dataframe tbody tr th:only-of-type {\n",
       "        vertical-align: middle;\n",
       "    }\n",
       "\n",
       "    .dataframe tbody tr th {\n",
       "        vertical-align: top;\n",
       "    }\n",
       "\n",
       "    .dataframe thead th {\n",
       "        text-align: right;\n",
       "    }\n",
       "</style>\n",
       "<table border=\"1\" class=\"dataframe\">\n",
       "  <thead>\n",
       "    <tr style=\"text-align: right;\">\n",
       "      <th></th>\n",
       "      <th>from_npi</th>\n",
       "      <th>referral_id</th>\n",
       "      <th>entity_from</th>\n",
       "      <th>name_from</th>\n",
       "      <th>organization_from</th>\n",
       "      <th>taxonomy_code_from</th>\n",
       "      <th>classification_from</th>\n",
       "      <th>specialization_from</th>\n",
       "      <th>address_line1_from</th>\n",
       "      <th>address_line2_from</th>\n",
       "      <th>city_from</th>\n",
       "      <th>state_from</th>\n",
       "      <th>zip_from</th>\n",
       "      <th>to_npi</th>\n",
       "      <th>entity_to</th>\n",
       "      <th>name_to</th>\n",
       "      <th>organization_to</th>\n",
       "      <th>taxonomy_code_to</th>\n",
       "      <th>classification_to</th>\n",
       "      <th>specialization_to</th>\n",
       "      <th>address_line1_to</th>\n",
       "      <th>address_line2_to</th>\n",
       "      <th>city_to</th>\n",
       "      <th>state_to</th>\n",
       "      <th>zip_to</th>\n",
       "      <th>patient_count</th>\n",
       "      <th>transaction_count</th>\n",
       "      <th>average_day_wait</th>\n",
       "      <th>std_day_wait</th>\n",
       "      <th>address_from</th>\n",
       "      <th>address_to</th>\n",
       "      <th>to_communityid</th>\n",
       "      <th>from_communityid</th>\n",
       "      <th>specialization2_from</th>\n",
       "    </tr>\n",
       "  </thead>\n",
       "  <tbody>\n",
       "    <tr>\n",
       "      <th>4</th>\n",
       "      <td>1821080961</td>\n",
       "      <td>128897875</td>\n",
       "      <td>1.00</td>\n",
       "      <td>SHERWOOD, WILLIAM</td>\n",
       "      <td>NaN</td>\n",
       "      <td>207Q00000X</td>\n",
       "      <td>Family Medicine</td>\n",
       "      <td>NaN</td>\n",
       "      <td>302 N CONGRESS BLVD</td>\n",
       "      <td>NaN</td>\n",
       "      <td>SMITHVILLE</td>\n",
       "      <td>TN</td>\n",
       "      <td>37166</td>\n",
       "      <td>1518346469</td>\n",
       "      <td>2.00</td>\n",
       "      <td>NaN</td>\n",
       "      <td>SAINT THOMAS RIVER PARK HOSPITAL, LLC</td>\n",
       "      <td>282N00000X</td>\n",
       "      <td>General Acute Care Hospital</td>\n",
       "      <td>NaN</td>\n",
       "      <td>1559 SPARTA ST</td>\n",
       "      <td>NaN</td>\n",
       "      <td>MCMINNVILLE</td>\n",
       "      <td>TN</td>\n",
       "      <td>37110</td>\n",
       "      <td>47</td>\n",
       "      <td>57</td>\n",
       "      <td>43.19</td>\n",
       "      <td>53.23</td>\n",
       "      <td>302 N CONGRESS BLVD, SMITHVILLE, TN 37166</td>\n",
       "      <td>1559 SPARTA ST, MCMINNVILLE, TN 37110</td>\n",
       "      <td>9794</td>\n",
       "      <td>20624</td>\n",
       "      <td>NaN</td>\n",
       "    </tr>\n",
       "    <tr>\n",
       "      <th>18</th>\n",
       "      <td>1821080961</td>\n",
       "      <td>129189996</td>\n",
       "      <td>1.00</td>\n",
       "      <td>SHERWOOD, WILLIAM</td>\n",
       "      <td>NaN</td>\n",
       "      <td>207Q00000X</td>\n",
       "      <td>Family Medicine</td>\n",
       "      <td>NaN</td>\n",
       "      <td>302 N CONGRESS BLVD</td>\n",
       "      <td>NaN</td>\n",
       "      <td>SMITHVILLE</td>\n",
       "      <td>TN</td>\n",
       "      <td>37166</td>\n",
       "      <td>1649659582</td>\n",
       "      <td>2.00</td>\n",
       "      <td>NaN</td>\n",
       "      <td>SAINT THOMAS DEKALB HOSPITAL, LLC</td>\n",
       "      <td>282N00000X</td>\n",
       "      <td>General Acute Care Hospital</td>\n",
       "      <td>NaN</td>\n",
       "      <td>520 W MAIN ST</td>\n",
       "      <td>NaN</td>\n",
       "      <td>SMITHVILLE</td>\n",
       "      <td>TN</td>\n",
       "      <td>37166</td>\n",
       "      <td>303</td>\n",
       "      <td>520</td>\n",
       "      <td>18.84</td>\n",
       "      <td>42.81</td>\n",
       "      <td>302 N CONGRESS BLVD, SMITHVILLE, TN 37166</td>\n",
       "      <td>520 W MAIN ST, SMITHVILLE, TN 37166</td>\n",
       "      <td>20624</td>\n",
       "      <td>20624</td>\n",
       "      <td>NaN</td>\n",
       "    </tr>\n",
       "    <tr>\n",
       "      <th>38</th>\n",
       "      <td>1841282779</td>\n",
       "      <td>133118064</td>\n",
       "      <td>1.00</td>\n",
       "      <td>RHODY, KEVIN</td>\n",
       "      <td>NaN</td>\n",
       "      <td>207Q00000X</td>\n",
       "      <td>Family Medicine</td>\n",
       "      <td>NaN</td>\n",
       "      <td>302 N CONGRESS BLVD</td>\n",
       "      <td>NaN</td>\n",
       "      <td>SMITHVILLE</td>\n",
       "      <td>TN</td>\n",
       "      <td>37166</td>\n",
       "      <td>1649659582</td>\n",
       "      <td>2.00</td>\n",
       "      <td>NaN</td>\n",
       "      <td>SAINT THOMAS DEKALB HOSPITAL, LLC</td>\n",
       "      <td>282N00000X</td>\n",
       "      <td>General Acute Care Hospital</td>\n",
       "      <td>NaN</td>\n",
       "      <td>520 W MAIN ST</td>\n",
       "      <td>NaN</td>\n",
       "      <td>SMITHVILLE</td>\n",
       "      <td>TN</td>\n",
       "      <td>37166</td>\n",
       "      <td>285</td>\n",
       "      <td>493</td>\n",
       "      <td>22.39</td>\n",
       "      <td>50.29</td>\n",
       "      <td>302 N CONGRESS BLVD, SMITHVILLE, TN 37166</td>\n",
       "      <td>520 W MAIN ST, SMITHVILLE, TN 37166</td>\n",
       "      <td>20624</td>\n",
       "      <td>20624</td>\n",
       "      <td>NaN</td>\n",
       "    </tr>\n",
       "    <tr>\n",
       "      <th>62</th>\n",
       "      <td>1770575607</td>\n",
       "      <td>147321078</td>\n",
       "      <td>1.00</td>\n",
       "      <td>COOPER, STEVEN</td>\n",
       "      <td>NaN</td>\n",
       "      <td>207Q00000X</td>\n",
       "      <td>Family Medicine</td>\n",
       "      <td>NaN</td>\n",
       "      <td>302 N CONGRESS BLVD</td>\n",
       "      <td>NaN</td>\n",
       "      <td>SMITHVILLE</td>\n",
       "      <td>TN</td>\n",
       "      <td>37166</td>\n",
       "      <td>1649659582</td>\n",
       "      <td>2.00</td>\n",
       "      <td>NaN</td>\n",
       "      <td>SAINT THOMAS DEKALB HOSPITAL, LLC</td>\n",
       "      <td>282N00000X</td>\n",
       "      <td>General Acute Care Hospital</td>\n",
       "      <td>NaN</td>\n",
       "      <td>520 W MAIN ST</td>\n",
       "      <td>NaN</td>\n",
       "      <td>SMITHVILLE</td>\n",
       "      <td>TN</td>\n",
       "      <td>37166</td>\n",
       "      <td>290</td>\n",
       "      <td>507</td>\n",
       "      <td>20.74</td>\n",
       "      <td>46.08</td>\n",
       "      <td>302 N CONGRESS BLVD, SMITHVILLE, TN 37166</td>\n",
       "      <td>520 W MAIN ST, SMITHVILLE, TN 37166</td>\n",
       "      <td>20624</td>\n",
       "      <td>20624</td>\n",
       "      <td>NaN</td>\n",
       "    </tr>\n",
       "    <tr>\n",
       "      <th>84</th>\n",
       "      <td>1306977814</td>\n",
       "      <td>57069465</td>\n",
       "      <td>1.00</td>\n",
       "      <td>JOHNSON, MALINDA</td>\n",
       "      <td>NaN</td>\n",
       "      <td>363AM0700X</td>\n",
       "      <td>Physician Assistant</td>\n",
       "      <td>Medical</td>\n",
       "      <td>5801 CROSSINGS BLVD</td>\n",
       "      <td>NaN</td>\n",
       "      <td>ANTIOCH</td>\n",
       "      <td>TN</td>\n",
       "      <td>37013</td>\n",
       "      <td>1861479545</td>\n",
       "      <td>2.00</td>\n",
       "      <td>NaN</td>\n",
       "      <td>MAURY REGIONAL HOSPITAL</td>\n",
       "      <td>282N00000X</td>\n",
       "      <td>General Acute Care Hospital</td>\n",
       "      <td>NaN</td>\n",
       "      <td>1224 TROTWOOD AVE</td>\n",
       "      <td>NaN</td>\n",
       "      <td>COLUMBIA</td>\n",
       "      <td>TN</td>\n",
       "      <td>38401</td>\n",
       "      <td>27</td>\n",
       "      <td>51</td>\n",
       "      <td>30.12</td>\n",
       "      <td>32.97</td>\n",
       "      <td>5801 CROSSINGS BLVD, ANTIOCH, TN 37013</td>\n",
       "      <td>1224 TROTWOOD AVE, COLUMBIA, TN 38401</td>\n",
       "      <td>28767</td>\n",
       "      <td>12061</td>\n",
       "      <td>Physician Assistant(Medical)</td>\n",
       "    </tr>\n",
       "    <tr>\n",
       "      <th>...</th>\n",
       "      <td>...</td>\n",
       "      <td>...</td>\n",
       "      <td>...</td>\n",
       "      <td>...</td>\n",
       "      <td>...</td>\n",
       "      <td>...</td>\n",
       "      <td>...</td>\n",
       "      <td>...</td>\n",
       "      <td>...</td>\n",
       "      <td>...</td>\n",
       "      <td>...</td>\n",
       "      <td>...</td>\n",
       "      <td>...</td>\n",
       "      <td>...</td>\n",
       "      <td>...</td>\n",
       "      <td>...</td>\n",
       "      <td>...</td>\n",
       "      <td>...</td>\n",
       "      <td>...</td>\n",
       "      <td>...</td>\n",
       "      <td>...</td>\n",
       "      <td>...</td>\n",
       "      <td>...</td>\n",
       "      <td>...</td>\n",
       "      <td>...</td>\n",
       "      <td>...</td>\n",
       "      <td>...</td>\n",
       "      <td>...</td>\n",
       "      <td>...</td>\n",
       "      <td>...</td>\n",
       "      <td>...</td>\n",
       "      <td>...</td>\n",
       "      <td>...</td>\n",
       "      <td>...</td>\n",
       "    </tr>\n",
       "    <tr>\n",
       "      <th>56687</th>\n",
       "      <td>1932610367</td>\n",
       "      <td>207320697</td>\n",
       "      <td>1.00</td>\n",
       "      <td>DAVENPORT, NIKKI</td>\n",
       "      <td>NaN</td>\n",
       "      <td>363LF0000X</td>\n",
       "      <td>Nurse Practitioner</td>\n",
       "      <td>Family</td>\n",
       "      <td>106 S MILITARY ST</td>\n",
       "      <td>NaN</td>\n",
       "      <td>LORETTO</td>\n",
       "      <td>TN</td>\n",
       "      <td>38469</td>\n",
       "      <td>1861479545</td>\n",
       "      <td>2.00</td>\n",
       "      <td>NaN</td>\n",
       "      <td>MAURY REGIONAL HOSPITAL</td>\n",
       "      <td>282N00000X</td>\n",
       "      <td>General Acute Care Hospital</td>\n",
       "      <td>NaN</td>\n",
       "      <td>1224 TROTWOOD AVE</td>\n",
       "      <td>NaN</td>\n",
       "      <td>COLUMBIA</td>\n",
       "      <td>TN</td>\n",
       "      <td>38401</td>\n",
       "      <td>48</td>\n",
       "      <td>59</td>\n",
       "      <td>44.41</td>\n",
       "      <td>55.39</td>\n",
       "      <td>106 S MILITARY ST, LORETTO, TN 38469</td>\n",
       "      <td>1224 TROTWOOD AVE, COLUMBIA, TN 38401</td>\n",
       "      <td>28767</td>\n",
       "      <td>28767</td>\n",
       "      <td>Nurse Practitioner(Family)</td>\n",
       "    </tr>\n",
       "    <tr>\n",
       "      <th>56688</th>\n",
       "      <td>1033575469</td>\n",
       "      <td>207959585</td>\n",
       "      <td>1.00</td>\n",
       "      <td>DAWKINS, KRYSTLE</td>\n",
       "      <td>NaN</td>\n",
       "      <td>367500000X</td>\n",
       "      <td>Nurse Anesthetist, Certified Registered</td>\n",
       "      <td>NaN</td>\n",
       "      <td>4230 HARDING PIKE STE 435</td>\n",
       "      <td>NaN</td>\n",
       "      <td>NASHVILLE</td>\n",
       "      <td>TN</td>\n",
       "      <td>37205</td>\n",
       "      <td>1861479545</td>\n",
       "      <td>2.00</td>\n",
       "      <td>NaN</td>\n",
       "      <td>MAURY REGIONAL HOSPITAL</td>\n",
       "      <td>282N00000X</td>\n",
       "      <td>General Acute Care Hospital</td>\n",
       "      <td>NaN</td>\n",
       "      <td>1224 TROTWOOD AVE</td>\n",
       "      <td>NaN</td>\n",
       "      <td>COLUMBIA</td>\n",
       "      <td>TN</td>\n",
       "      <td>38401</td>\n",
       "      <td>109</td>\n",
       "      <td>112</td>\n",
       "      <td>0.00</td>\n",
       "      <td>0.00</td>\n",
       "      <td>4230 HARDING PIKE STE 435, NASHVILLE, TN 37205</td>\n",
       "      <td>1224 TROTWOOD AVE, COLUMBIA, TN 38401</td>\n",
       "      <td>28767</td>\n",
       "      <td>28767</td>\n",
       "      <td>NaN</td>\n",
       "    </tr>\n",
       "    <tr>\n",
       "      <th>56691</th>\n",
       "      <td>1376863191</td>\n",
       "      <td>211144129</td>\n",
       "      <td>1.00</td>\n",
       "      <td>DAVIS, TERESA</td>\n",
       "      <td>NaN</td>\n",
       "      <td>363LF0000X</td>\n",
       "      <td>Nurse Practitioner</td>\n",
       "      <td>Family</td>\n",
       "      <td>529 W COMMERCE ST</td>\n",
       "      <td>NaN</td>\n",
       "      <td>LEWISBURG</td>\n",
       "      <td>TN</td>\n",
       "      <td>37091</td>\n",
       "      <td>1861479545</td>\n",
       "      <td>2.00</td>\n",
       "      <td>NaN</td>\n",
       "      <td>MAURY REGIONAL HOSPITAL</td>\n",
       "      <td>282N00000X</td>\n",
       "      <td>General Acute Care Hospital</td>\n",
       "      <td>NaN</td>\n",
       "      <td>1224 TROTWOOD AVE</td>\n",
       "      <td>NaN</td>\n",
       "      <td>COLUMBIA</td>\n",
       "      <td>TN</td>\n",
       "      <td>38401</td>\n",
       "      <td>146</td>\n",
       "      <td>217</td>\n",
       "      <td>18.90</td>\n",
       "      <td>33.83</td>\n",
       "      <td>529 W COMMERCE ST, LEWISBURG, TN 37091</td>\n",
       "      <td>1224 TROTWOOD AVE, COLUMBIA, TN 38401</td>\n",
       "      <td>28767</td>\n",
       "      <td>28767</td>\n",
       "      <td>Nurse Practitioner(Family)</td>\n",
       "    </tr>\n",
       "    <tr>\n",
       "      <th>56693</th>\n",
       "      <td>1407037112</td>\n",
       "      <td>214911934</td>\n",
       "      <td>1.00</td>\n",
       "      <td>SIRBILADZE, GIORGI</td>\n",
       "      <td>NaN</td>\n",
       "      <td>2084N0400X</td>\n",
       "      <td>Psychiatry &amp; Neurology</td>\n",
       "      <td>Neurology</td>\n",
       "      <td>185 QUEEN CITY AVE</td>\n",
       "      <td>NaN</td>\n",
       "      <td>MANCHESTER</td>\n",
       "      <td>NH</td>\n",
       "      <td>3101</td>\n",
       "      <td>1861479545</td>\n",
       "      <td>2.00</td>\n",
       "      <td>NaN</td>\n",
       "      <td>MAURY REGIONAL HOSPITAL</td>\n",
       "      <td>282N00000X</td>\n",
       "      <td>General Acute Care Hospital</td>\n",
       "      <td>NaN</td>\n",
       "      <td>1224 TROTWOOD AVE</td>\n",
       "      <td>NaN</td>\n",
       "      <td>COLUMBIA</td>\n",
       "      <td>TN</td>\n",
       "      <td>38401</td>\n",
       "      <td>107</td>\n",
       "      <td>147</td>\n",
       "      <td>6.56</td>\n",
       "      <td>13.99</td>\n",
       "      <td>185 QUEEN CITY AVE, MANCHESTER, NH 03101</td>\n",
       "      <td>1224 TROTWOOD AVE, COLUMBIA, TN 38401</td>\n",
       "      <td>28767</td>\n",
       "      <td>28767</td>\n",
       "      <td>Psychiatry &amp; Neurology(Neurology)</td>\n",
       "    </tr>\n",
       "    <tr>\n",
       "      <th>56695</th>\n",
       "      <td>1407274251</td>\n",
       "      <td>216796229</td>\n",
       "      <td>1.00</td>\n",
       "      <td>PETRAUSKIS, CHRISTIAN</td>\n",
       "      <td>NaN</td>\n",
       "      <td>207R00000X</td>\n",
       "      <td>Internal Medicine</td>\n",
       "      <td>NaN</td>\n",
       "      <td>1224 TROTWOOD AVE</td>\n",
       "      <td>NaN</td>\n",
       "      <td>COLUMBIA</td>\n",
       "      <td>TN</td>\n",
       "      <td>38401</td>\n",
       "      <td>1861479545</td>\n",
       "      <td>2.00</td>\n",
       "      <td>NaN</td>\n",
       "      <td>MAURY REGIONAL HOSPITAL</td>\n",
       "      <td>282N00000X</td>\n",
       "      <td>General Acute Care Hospital</td>\n",
       "      <td>NaN</td>\n",
       "      <td>1224 TROTWOOD AVE</td>\n",
       "      <td>NaN</td>\n",
       "      <td>COLUMBIA</td>\n",
       "      <td>TN</td>\n",
       "      <td>38401</td>\n",
       "      <td>167</td>\n",
       "      <td>232</td>\n",
       "      <td>0.00</td>\n",
       "      <td>0.00</td>\n",
       "      <td>1224 TROTWOOD AVE, COLUMBIA, TN 38401</td>\n",
       "      <td>1224 TROTWOOD AVE, COLUMBIA, TN 38401</td>\n",
       "      <td>28767</td>\n",
       "      <td>28767</td>\n",
       "      <td>NaN</td>\n",
       "    </tr>\n",
       "  </tbody>\n",
       "</table>\n",
       "<p>7935 rows × 34 columns</p>\n",
       "</div>"
      ],
      "text/plain": [
       "         from_npi  referral_id  entity_from              name_from  \\\n",
       "4      1821080961    128897875         1.00      SHERWOOD, WILLIAM   \n",
       "18     1821080961    129189996         1.00      SHERWOOD, WILLIAM   \n",
       "38     1841282779    133118064         1.00           RHODY, KEVIN   \n",
       "62     1770575607    147321078         1.00         COOPER, STEVEN   \n",
       "84     1306977814     57069465         1.00       JOHNSON, MALINDA   \n",
       "...           ...          ...          ...                    ...   \n",
       "56687  1932610367    207320697         1.00       DAVENPORT, NIKKI   \n",
       "56688  1033575469    207959585         1.00       DAWKINS, KRYSTLE   \n",
       "56691  1376863191    211144129         1.00          DAVIS, TERESA   \n",
       "56693  1407037112    214911934         1.00     SIRBILADZE, GIORGI   \n",
       "56695  1407274251    216796229         1.00  PETRAUSKIS, CHRISTIAN   \n",
       "\n",
       "      organization_from taxonomy_code_from  \\\n",
       "4                   NaN         207Q00000X   \n",
       "18                  NaN         207Q00000X   \n",
       "38                  NaN         207Q00000X   \n",
       "62                  NaN         207Q00000X   \n",
       "84                  NaN         363AM0700X   \n",
       "...                 ...                ...   \n",
       "56687               NaN         363LF0000X   \n",
       "56688               NaN         367500000X   \n",
       "56691               NaN         363LF0000X   \n",
       "56693               NaN         2084N0400X   \n",
       "56695               NaN         207R00000X   \n",
       "\n",
       "                           classification_from specialization_from  \\\n",
       "4                              Family Medicine                 NaN   \n",
       "18                             Family Medicine                 NaN   \n",
       "38                             Family Medicine                 NaN   \n",
       "62                             Family Medicine                 NaN   \n",
       "84                         Physician Assistant             Medical   \n",
       "...                                        ...                 ...   \n",
       "56687                       Nurse Practitioner              Family   \n",
       "56688  Nurse Anesthetist, Certified Registered                 NaN   \n",
       "56691                       Nurse Practitioner              Family   \n",
       "56693                   Psychiatry & Neurology           Neurology   \n",
       "56695                        Internal Medicine                 NaN   \n",
       "\n",
       "              address_line1_from address_line2_from   city_from state_from  \\\n",
       "4            302 N CONGRESS BLVD                NaN  SMITHVILLE         TN   \n",
       "18           302 N CONGRESS BLVD                NaN  SMITHVILLE         TN   \n",
       "38           302 N CONGRESS BLVD                NaN  SMITHVILLE         TN   \n",
       "62           302 N CONGRESS BLVD                NaN  SMITHVILLE         TN   \n",
       "84           5801 CROSSINGS BLVD                NaN     ANTIOCH         TN   \n",
       "...                          ...                ...         ...        ...   \n",
       "56687          106 S MILITARY ST                NaN     LORETTO         TN   \n",
       "56688  4230 HARDING PIKE STE 435                NaN   NASHVILLE         TN   \n",
       "56691          529 W COMMERCE ST                NaN   LEWISBURG         TN   \n",
       "56693         185 QUEEN CITY AVE                NaN  MANCHESTER         NH   \n",
       "56695          1224 TROTWOOD AVE                NaN    COLUMBIA         TN   \n",
       "\n",
       "       zip_from      to_npi  entity_to name_to  \\\n",
       "4         37166  1518346469       2.00     NaN   \n",
       "18        37166  1649659582       2.00     NaN   \n",
       "38        37166  1649659582       2.00     NaN   \n",
       "62        37166  1649659582       2.00     NaN   \n",
       "84        37013  1861479545       2.00     NaN   \n",
       "...         ...         ...        ...     ...   \n",
       "56687     38469  1861479545       2.00     NaN   \n",
       "56688     37205  1861479545       2.00     NaN   \n",
       "56691     37091  1861479545       2.00     NaN   \n",
       "56693      3101  1861479545       2.00     NaN   \n",
       "56695     38401  1861479545       2.00     NaN   \n",
       "\n",
       "                             organization_to taxonomy_code_to  \\\n",
       "4      SAINT THOMAS RIVER PARK HOSPITAL, LLC       282N00000X   \n",
       "18         SAINT THOMAS DEKALB HOSPITAL, LLC       282N00000X   \n",
       "38         SAINT THOMAS DEKALB HOSPITAL, LLC       282N00000X   \n",
       "62         SAINT THOMAS DEKALB HOSPITAL, LLC       282N00000X   \n",
       "84                   MAURY REGIONAL HOSPITAL       282N00000X   \n",
       "...                                      ...              ...   \n",
       "56687                MAURY REGIONAL HOSPITAL       282N00000X   \n",
       "56688                MAURY REGIONAL HOSPITAL       282N00000X   \n",
       "56691                MAURY REGIONAL HOSPITAL       282N00000X   \n",
       "56693                MAURY REGIONAL HOSPITAL       282N00000X   \n",
       "56695                MAURY REGIONAL HOSPITAL       282N00000X   \n",
       "\n",
       "                 classification_to specialization_to   address_line1_to  \\\n",
       "4      General Acute Care Hospital               NaN     1559 SPARTA ST   \n",
       "18     General Acute Care Hospital               NaN      520 W MAIN ST   \n",
       "38     General Acute Care Hospital               NaN      520 W MAIN ST   \n",
       "62     General Acute Care Hospital               NaN      520 W MAIN ST   \n",
       "84     General Acute Care Hospital               NaN  1224 TROTWOOD AVE   \n",
       "...                            ...               ...                ...   \n",
       "56687  General Acute Care Hospital               NaN  1224 TROTWOOD AVE   \n",
       "56688  General Acute Care Hospital               NaN  1224 TROTWOOD AVE   \n",
       "56691  General Acute Care Hospital               NaN  1224 TROTWOOD AVE   \n",
       "56693  General Acute Care Hospital               NaN  1224 TROTWOOD AVE   \n",
       "56695  General Acute Care Hospital               NaN  1224 TROTWOOD AVE   \n",
       "\n",
       "      address_line2_to      city_to state_to  zip_to  patient_count  \\\n",
       "4                  NaN  MCMINNVILLE       TN   37110             47   \n",
       "18                 NaN   SMITHVILLE       TN   37166            303   \n",
       "38                 NaN   SMITHVILLE       TN   37166            285   \n",
       "62                 NaN   SMITHVILLE       TN   37166            290   \n",
       "84                 NaN     COLUMBIA       TN   38401             27   \n",
       "...                ...          ...      ...     ...            ...   \n",
       "56687              NaN     COLUMBIA       TN   38401             48   \n",
       "56688              NaN     COLUMBIA       TN   38401            109   \n",
       "56691              NaN     COLUMBIA       TN   38401            146   \n",
       "56693              NaN     COLUMBIA       TN   38401            107   \n",
       "56695              NaN     COLUMBIA       TN   38401            167   \n",
       "\n",
       "       transaction_count  average_day_wait  std_day_wait  \\\n",
       "4                     57             43.19         53.23   \n",
       "18                   520             18.84         42.81   \n",
       "38                   493             22.39         50.29   \n",
       "62                   507             20.74         46.08   \n",
       "84                    51             30.12         32.97   \n",
       "...                  ...               ...           ...   \n",
       "56687                 59             44.41         55.39   \n",
       "56688                112              0.00          0.00   \n",
       "56691                217             18.90         33.83   \n",
       "56693                147              6.56         13.99   \n",
       "56695                232              0.00          0.00   \n",
       "\n",
       "                                         address_from  \\\n",
       "4           302 N CONGRESS BLVD, SMITHVILLE, TN 37166   \n",
       "18          302 N CONGRESS BLVD, SMITHVILLE, TN 37166   \n",
       "38          302 N CONGRESS BLVD, SMITHVILLE, TN 37166   \n",
       "62          302 N CONGRESS BLVD, SMITHVILLE, TN 37166   \n",
       "84             5801 CROSSINGS BLVD, ANTIOCH, TN 37013   \n",
       "...                                               ...   \n",
       "56687            106 S MILITARY ST, LORETTO, TN 38469   \n",
       "56688  4230 HARDING PIKE STE 435, NASHVILLE, TN 37205   \n",
       "56691          529 W COMMERCE ST, LEWISBURG, TN 37091   \n",
       "56693        185 QUEEN CITY AVE, MANCHESTER, NH 03101   \n",
       "56695           1224 TROTWOOD AVE, COLUMBIA, TN 38401   \n",
       "\n",
       "                                  address_to  to_communityid  \\\n",
       "4      1559 SPARTA ST, MCMINNVILLE, TN 37110            9794   \n",
       "18       520 W MAIN ST, SMITHVILLE, TN 37166           20624   \n",
       "38       520 W MAIN ST, SMITHVILLE, TN 37166           20624   \n",
       "62       520 W MAIN ST, SMITHVILLE, TN 37166           20624   \n",
       "84     1224 TROTWOOD AVE, COLUMBIA, TN 38401           28767   \n",
       "...                                      ...             ...   \n",
       "56687  1224 TROTWOOD AVE, COLUMBIA, TN 38401           28767   \n",
       "56688  1224 TROTWOOD AVE, COLUMBIA, TN 38401           28767   \n",
       "56691  1224 TROTWOOD AVE, COLUMBIA, TN 38401           28767   \n",
       "56693  1224 TROTWOOD AVE, COLUMBIA, TN 38401           28767   \n",
       "56695  1224 TROTWOOD AVE, COLUMBIA, TN 38401           28767   \n",
       "\n",
       "       from_communityid               specialization2_from  \n",
       "4                 20624                                NaN  \n",
       "18                20624                                NaN  \n",
       "38                20624                                NaN  \n",
       "62                20624                                NaN  \n",
       "84                12061       Physician Assistant(Medical)  \n",
       "...                 ...                                ...  \n",
       "56687             28767         Nurse Practitioner(Family)  \n",
       "56688             28767                                NaN  \n",
       "56691             28767         Nurse Practitioner(Family)  \n",
       "56693             28767  Psychiatry & Neurology(Neurology)  \n",
       "56695             28767                                NaN  \n",
       "\n",
       "[7935 rows x 34 columns]"
      ]
     },
     "execution_count": 418,
     "metadata": {},
     "output_type": "execute_result"
    }
   ],
   "source": [
    "hospital_comms_filtered"
   ]
  },
  {
   "cell_type": "code",
   "execution_count": 427,
   "id": "f4b3236f",
   "metadata": {},
   "outputs": [
    {
     "data": {
      "text/html": [
       "<div>\n",
       "<style scoped>\n",
       "    .dataframe tbody tr th:only-of-type {\n",
       "        vertical-align: middle;\n",
       "    }\n",
       "\n",
       "    .dataframe tbody tr th {\n",
       "        vertical-align: top;\n",
       "    }\n",
       "\n",
       "    .dataframe thead th {\n",
       "        text-align: right;\n",
       "    }\n",
       "</style>\n",
       "<table border=\"1\" class=\"dataframe\">\n",
       "  <thead>\n",
       "    <tr style=\"text-align: right;\">\n",
       "      <th></th>\n",
       "      <th>from_npi</th>\n",
       "      <th>referral_id</th>\n",
       "      <th>entity_from</th>\n",
       "      <th>name_from</th>\n",
       "      <th>organization_from</th>\n",
       "      <th>taxonomy_code_from</th>\n",
       "      <th>classification_from</th>\n",
       "      <th>specialization_from</th>\n",
       "      <th>address_line1_from</th>\n",
       "      <th>address_line2_from</th>\n",
       "      <th>city_from</th>\n",
       "      <th>state_from</th>\n",
       "      <th>zip_from</th>\n",
       "      <th>to_npi</th>\n",
       "      <th>entity_to</th>\n",
       "      <th>name_to</th>\n",
       "      <th>organization_to</th>\n",
       "      <th>taxonomy_code_to</th>\n",
       "      <th>classification_to</th>\n",
       "      <th>specialization_to</th>\n",
       "      <th>address_line1_to</th>\n",
       "      <th>address_line2_to</th>\n",
       "      <th>city_to</th>\n",
       "      <th>state_to</th>\n",
       "      <th>zip_to</th>\n",
       "      <th>patient_count</th>\n",
       "      <th>transaction_count</th>\n",
       "      <th>average_day_wait</th>\n",
       "      <th>std_day_wait</th>\n",
       "      <th>address_from</th>\n",
       "      <th>address_to</th>\n",
       "      <th>to_communityid</th>\n",
       "      <th>from_communityid</th>\n",
       "      <th>specialization2_from</th>\n",
       "    </tr>\n",
       "  </thead>\n",
       "  <tbody>\n",
       "    <tr>\n",
       "      <th>19980</th>\n",
       "      <td>1972670552</td>\n",
       "      <td>200709422</td>\n",
       "      <td>1.00</td>\n",
       "      <td>PRIYADARSHI, SNIGDHA</td>\n",
       "      <td>NaN</td>\n",
       "      <td>208M00000X</td>\n",
       "      <td>Hospitalist</td>\n",
       "      <td>NaN</td>\n",
       "      <td>3400 LEBANON RD</td>\n",
       "      <td>NaN</td>\n",
       "      <td>MURFREESBORO</td>\n",
       "      <td>TN</td>\n",
       "      <td>37129</td>\n",
       "      <td>1306889597</td>\n",
       "      <td>2.00</td>\n",
       "      <td>NaN</td>\n",
       "      <td>VANDERBILT UNIVERSITY MEDICAL CENTER</td>\n",
       "      <td>282N00000X</td>\n",
       "      <td>General Acute Care Hospital</td>\n",
       "      <td>NaN</td>\n",
       "      <td>1411 W. BADDOUR PARKWAY</td>\n",
       "      <td>NaN</td>\n",
       "      <td>LEBANON</td>\n",
       "      <td>TN</td>\n",
       "      <td>37087</td>\n",
       "      <td>283</td>\n",
       "      <td>589</td>\n",
       "      <td>0.00</td>\n",
       "      <td>0.00</td>\n",
       "      <td>3400 LEBANON RD, MURFREESBORO, TN 37129</td>\n",
       "      <td>1411 W. BADDOUR PARKWAY, LEBANON, TN 37087</td>\n",
       "      <td>9794</td>\n",
       "      <td>9794</td>\n",
       "      <td>NaN</td>\n",
       "    </tr>\n",
       "    <tr>\n",
       "      <th>33626</th>\n",
       "      <td>1720059397</td>\n",
       "      <td>127200559</td>\n",
       "      <td>1.00</td>\n",
       "      <td>EFOBI, DEKA</td>\n",
       "      <td>NaN</td>\n",
       "      <td>2084N0400X</td>\n",
       "      <td>Psychiatry &amp; Neurology</td>\n",
       "      <td>Neurology</td>\n",
       "      <td>1029 N HIGHLAND AVE</td>\n",
       "      <td>NaN</td>\n",
       "      <td>MURFREESBORO</td>\n",
       "      <td>TN</td>\n",
       "      <td>37130</td>\n",
       "      <td>1306889597</td>\n",
       "      <td>2.00</td>\n",
       "      <td>NaN</td>\n",
       "      <td>VANDERBILT UNIVERSITY MEDICAL CENTER</td>\n",
       "      <td>282N00000X</td>\n",
       "      <td>General Acute Care Hospital</td>\n",
       "      <td>NaN</td>\n",
       "      <td>1411 W. BADDOUR PARKWAY</td>\n",
       "      <td>NaN</td>\n",
       "      <td>LEBANON</td>\n",
       "      <td>TN</td>\n",
       "      <td>37087</td>\n",
       "      <td>216</td>\n",
       "      <td>695</td>\n",
       "      <td>0.07</td>\n",
       "      <td>0.99</td>\n",
       "      <td>1029 N HIGHLAND AVE, MURFREESBORO, TN 37130</td>\n",
       "      <td>1411 W. BADDOUR PARKWAY, LEBANON, TN 37087</td>\n",
       "      <td>9794</td>\n",
       "      <td>20624</td>\n",
       "      <td>Psychiatry &amp; Neurology(Neurology)</td>\n",
       "    </tr>\n",
       "    <tr>\n",
       "      <th>1584</th>\n",
       "      <td>1619969482</td>\n",
       "      <td>84027371</td>\n",
       "      <td>1.00</td>\n",
       "      <td>KARAM, JYOTHEEN</td>\n",
       "      <td>NaN</td>\n",
       "      <td>207RN0300X</td>\n",
       "      <td>Internal Medicine</td>\n",
       "      <td>Nephrology</td>\n",
       "      <td>1617 WILLIAMS DR</td>\n",
       "      <td>STE. 200</td>\n",
       "      <td>MURFREESBORO</td>\n",
       "      <td>TN</td>\n",
       "      <td>37129</td>\n",
       "      <td>1396882205</td>\n",
       "      <td>2.00</td>\n",
       "      <td>NaN</td>\n",
       "      <td>VANDERBILT UNIVERSITY MEDICAL CENTER</td>\n",
       "      <td>282N00000X</td>\n",
       "      <td>General Acute Care Hospital</td>\n",
       "      <td>NaN</td>\n",
       "      <td>1211 MEDICAL CENTER DRIVE</td>\n",
       "      <td>NaN</td>\n",
       "      <td>NASHVILLE</td>\n",
       "      <td>TN</td>\n",
       "      <td>37232</td>\n",
       "      <td>140</td>\n",
       "      <td>220</td>\n",
       "      <td>35.81</td>\n",
       "      <td>45.63</td>\n",
       "      <td>1617 WILLIAMS DR, STE. 200, MURFREESBORO, TN 3...</td>\n",
       "      <td>1211 MEDICAL CENTER DRIVE, NASHVILLE, TN 37232</td>\n",
       "      <td>12834</td>\n",
       "      <td>20624</td>\n",
       "      <td>Internal Medicine(Nephrology)</td>\n",
       "    </tr>\n",
       "    <tr>\n",
       "      <th>11294</th>\n",
       "      <td>1083737589</td>\n",
       "      <td>28225674</td>\n",
       "      <td>1.00</td>\n",
       "      <td>GREEN, BRENNA</td>\n",
       "      <td>NaN</td>\n",
       "      <td>208100000X</td>\n",
       "      <td>Physical Medicine &amp; Rehabilitation</td>\n",
       "      <td>NaN</td>\n",
       "      <td>1272 GARRISON DR</td>\n",
       "      <td>SUITE 302</td>\n",
       "      <td>MURFREESBORO</td>\n",
       "      <td>TN</td>\n",
       "      <td>37129</td>\n",
       "      <td>1396882205</td>\n",
       "      <td>2.00</td>\n",
       "      <td>NaN</td>\n",
       "      <td>VANDERBILT UNIVERSITY MEDICAL CENTER</td>\n",
       "      <td>282N00000X</td>\n",
       "      <td>General Acute Care Hospital</td>\n",
       "      <td>NaN</td>\n",
       "      <td>1211 MEDICAL CENTER DRIVE</td>\n",
       "      <td>NaN</td>\n",
       "      <td>NASHVILLE</td>\n",
       "      <td>TN</td>\n",
       "      <td>37232</td>\n",
       "      <td>139</td>\n",
       "      <td>192</td>\n",
       "      <td>44.79</td>\n",
       "      <td>51.85</td>\n",
       "      <td>1272 GARRISON DR, SUITE 302, MURFREESBORO, TN ...</td>\n",
       "      <td>1211 MEDICAL CENTER DRIVE, NASHVILLE, TN 37232</td>\n",
       "      <td>12834</td>\n",
       "      <td>20624</td>\n",
       "      <td>NaN</td>\n",
       "    </tr>\n",
       "    <tr>\n",
       "      <th>34441</th>\n",
       "      <td>1740210152</td>\n",
       "      <td>140876472</td>\n",
       "      <td>1.00</td>\n",
       "      <td>JACK, LISA</td>\n",
       "      <td>NaN</td>\n",
       "      <td>363L00000X</td>\n",
       "      <td>Nurse Practitioner</td>\n",
       "      <td>NaN</td>\n",
       "      <td>2076 LASCASSAS PIKE STE B</td>\n",
       "      <td>NaN</td>\n",
       "      <td>MURFREESBORO</td>\n",
       "      <td>TN</td>\n",
       "      <td>37130</td>\n",
       "      <td>1306889597</td>\n",
       "      <td>2.00</td>\n",
       "      <td>NaN</td>\n",
       "      <td>VANDERBILT UNIVERSITY MEDICAL CENTER</td>\n",
       "      <td>282N00000X</td>\n",
       "      <td>General Acute Care Hospital</td>\n",
       "      <td>NaN</td>\n",
       "      <td>1411 W. BADDOUR PARKWAY</td>\n",
       "      <td>NaN</td>\n",
       "      <td>LEBANON</td>\n",
       "      <td>TN</td>\n",
       "      <td>37087</td>\n",
       "      <td>128</td>\n",
       "      <td>135</td>\n",
       "      <td>0.00</td>\n",
       "      <td>0.00</td>\n",
       "      <td>2076 LASCASSAS PIKE STE B, MURFREESBORO, TN 37130</td>\n",
       "      <td>1411 W. BADDOUR PARKWAY, LEBANON, TN 37087</td>\n",
       "      <td>9794</td>\n",
       "      <td>9794</td>\n",
       "      <td>NaN</td>\n",
       "    </tr>\n",
       "  </tbody>\n",
       "</table>\n",
       "</div>"
      ],
      "text/plain": [
       "         from_npi  referral_id  entity_from             name_from  \\\n",
       "19980  1972670552    200709422         1.00  PRIYADARSHI, SNIGDHA   \n",
       "33626  1720059397    127200559         1.00           EFOBI, DEKA   \n",
       "1584   1619969482     84027371         1.00       KARAM, JYOTHEEN   \n",
       "11294  1083737589     28225674         1.00         GREEN, BRENNA   \n",
       "34441  1740210152    140876472         1.00            JACK, LISA   \n",
       "\n",
       "      organization_from taxonomy_code_from  \\\n",
       "19980               NaN         208M00000X   \n",
       "33626               NaN         2084N0400X   \n",
       "1584                NaN         207RN0300X   \n",
       "11294               NaN         208100000X   \n",
       "34441               NaN         363L00000X   \n",
       "\n",
       "                      classification_from specialization_from  \\\n",
       "19980                         Hospitalist                 NaN   \n",
       "33626              Psychiatry & Neurology           Neurology   \n",
       "1584                    Internal Medicine          Nephrology   \n",
       "11294  Physical Medicine & Rehabilitation                 NaN   \n",
       "34441                  Nurse Practitioner                 NaN   \n",
       "\n",
       "              address_line1_from address_line2_from     city_from state_from  \\\n",
       "19980            3400 LEBANON RD                NaN  MURFREESBORO         TN   \n",
       "33626        1029 N HIGHLAND AVE                NaN  MURFREESBORO         TN   \n",
       "1584            1617 WILLIAMS DR           STE. 200  MURFREESBORO         TN   \n",
       "11294           1272 GARRISON DR          SUITE 302  MURFREESBORO         TN   \n",
       "34441  2076 LASCASSAS PIKE STE B                NaN  MURFREESBORO         TN   \n",
       "\n",
       "       zip_from      to_npi  entity_to name_to  \\\n",
       "19980     37129  1306889597       2.00     NaN   \n",
       "33626     37130  1306889597       2.00     NaN   \n",
       "1584      37129  1396882205       2.00     NaN   \n",
       "11294     37129  1396882205       2.00     NaN   \n",
       "34441     37130  1306889597       2.00     NaN   \n",
       "\n",
       "                            organization_to taxonomy_code_to  \\\n",
       "19980  VANDERBILT UNIVERSITY MEDICAL CENTER       282N00000X   \n",
       "33626  VANDERBILT UNIVERSITY MEDICAL CENTER       282N00000X   \n",
       "1584   VANDERBILT UNIVERSITY MEDICAL CENTER       282N00000X   \n",
       "11294  VANDERBILT UNIVERSITY MEDICAL CENTER       282N00000X   \n",
       "34441  VANDERBILT UNIVERSITY MEDICAL CENTER       282N00000X   \n",
       "\n",
       "                 classification_to specialization_to  \\\n",
       "19980  General Acute Care Hospital               NaN   \n",
       "33626  General Acute Care Hospital               NaN   \n",
       "1584   General Acute Care Hospital               NaN   \n",
       "11294  General Acute Care Hospital               NaN   \n",
       "34441  General Acute Care Hospital               NaN   \n",
       "\n",
       "                address_line1_to address_line2_to    city_to state_to  zip_to  \\\n",
       "19980    1411 W. BADDOUR PARKWAY              NaN    LEBANON       TN   37087   \n",
       "33626    1411 W. BADDOUR PARKWAY              NaN    LEBANON       TN   37087   \n",
       "1584   1211 MEDICAL CENTER DRIVE              NaN  NASHVILLE       TN   37232   \n",
       "11294  1211 MEDICAL CENTER DRIVE              NaN  NASHVILLE       TN   37232   \n",
       "34441    1411 W. BADDOUR PARKWAY              NaN    LEBANON       TN   37087   \n",
       "\n",
       "       patient_count  transaction_count  average_day_wait  std_day_wait  \\\n",
       "19980            283                589              0.00          0.00   \n",
       "33626            216                695              0.07          0.99   \n",
       "1584             140                220             35.81         45.63   \n",
       "11294            139                192             44.79         51.85   \n",
       "34441            128                135              0.00          0.00   \n",
       "\n",
       "                                            address_from  \\\n",
       "19980            3400 LEBANON RD, MURFREESBORO, TN 37129   \n",
       "33626        1029 N HIGHLAND AVE, MURFREESBORO, TN 37130   \n",
       "1584   1617 WILLIAMS DR, STE. 200, MURFREESBORO, TN 3...   \n",
       "11294  1272 GARRISON DR, SUITE 302, MURFREESBORO, TN ...   \n",
       "34441  2076 LASCASSAS PIKE STE B, MURFREESBORO, TN 37130   \n",
       "\n",
       "                                           address_to  to_communityid  \\\n",
       "19980      1411 W. BADDOUR PARKWAY, LEBANON, TN 37087            9794   \n",
       "33626      1411 W. BADDOUR PARKWAY, LEBANON, TN 37087            9794   \n",
       "1584   1211 MEDICAL CENTER DRIVE, NASHVILLE, TN 37232           12834   \n",
       "11294  1211 MEDICAL CENTER DRIVE, NASHVILLE, TN 37232           12834   \n",
       "34441      1411 W. BADDOUR PARKWAY, LEBANON, TN 37087            9794   \n",
       "\n",
       "       from_communityid               specialization2_from  \n",
       "19980              9794                                NaN  \n",
       "33626             20624  Psychiatry & Neurology(Neurology)  \n",
       "1584              20624      Internal Medicine(Nephrology)  \n",
       "11294             20624                                NaN  \n",
       "34441              9794                                NaN  "
      ]
     },
     "execution_count": 427,
     "metadata": {},
     "output_type": "execute_result"
    }
   ],
   "source": [
    "hospital_comms_filtered[(hospital_comms_filtered['city_from'] == 'MURFREESBORO') & (hospital_comms_filtered['organization_to'].str.contains('VANDERBILT'))].sort_values('patient_count', ascending = False).head(5)"
   ]
  },
  {
   "cell_type": "code",
   "execution_count": 486,
   "id": "b20be095",
   "metadata": {},
   "outputs": [],
   "source": [
    "out_of_comm_to_out = (tax_hop_comm2[(~tax_hop_comm2['from_communityid'].isin(vanderbilt_communities)) &\n",
    "                                    (~tax_hop_comm2['organization_to'].str.contains('VANDERBILT'))]\n",
    "                      .groupby(['city_from','state_from'])\n",
    "                      .agg({'patient_count':'sum',\n",
    "                           'from_npi':'nunique'})\n",
    "                     .reset_index()\n",
    "                      .rename(columns = {'patient_count':'sum_other_patients',\n",
    "                                         'from_npi':'num_other_doctors'}))"
   ]
  },
  {
   "cell_type": "code",
   "execution_count": 487,
   "id": "021ce67d",
   "metadata": {
    "scrolled": false
   },
   "outputs": [
    {
     "data": {
      "text/html": [
       "<div>\n",
       "<style scoped>\n",
       "    .dataframe tbody tr th:only-of-type {\n",
       "        vertical-align: middle;\n",
       "    }\n",
       "\n",
       "    .dataframe tbody tr th {\n",
       "        vertical-align: top;\n",
       "    }\n",
       "\n",
       "    .dataframe thead th {\n",
       "        text-align: right;\n",
       "    }\n",
       "</style>\n",
       "<table border=\"1\" class=\"dataframe\">\n",
       "  <thead>\n",
       "    <tr style=\"text-align: right;\">\n",
       "      <th></th>\n",
       "      <th>city_from</th>\n",
       "      <th>state_from</th>\n",
       "      <th>sum_other_patients</th>\n",
       "      <th>num_other_doctors</th>\n",
       "    </tr>\n",
       "  </thead>\n",
       "  <tbody>\n",
       "    <tr>\n",
       "      <th>0</th>\n",
       "      <td>ABERDEEN</td>\n",
       "      <td>MS</td>\n",
       "      <td>253</td>\n",
       "      <td>4</td>\n",
       "    </tr>\n",
       "    <tr>\n",
       "      <th>1</th>\n",
       "      <td>ABILENE</td>\n",
       "      <td>TX</td>\n",
       "      <td>43</td>\n",
       "      <td>1</td>\n",
       "    </tr>\n",
       "    <tr>\n",
       "      <th>2</th>\n",
       "      <td>ABINGDON</td>\n",
       "      <td>VA</td>\n",
       "      <td>289</td>\n",
       "      <td>2</td>\n",
       "    </tr>\n",
       "    <tr>\n",
       "      <th>3</th>\n",
       "      <td>ACWORTH</td>\n",
       "      <td>GA</td>\n",
       "      <td>366</td>\n",
       "      <td>3</td>\n",
       "    </tr>\n",
       "    <tr>\n",
       "      <th>4</th>\n",
       "      <td>ADAMSVILLE</td>\n",
       "      <td>TN</td>\n",
       "      <td>431</td>\n",
       "      <td>2</td>\n",
       "    </tr>\n",
       "    <tr>\n",
       "      <th>...</th>\n",
       "      <td>...</td>\n",
       "      <td>...</td>\n",
       "      <td>...</td>\n",
       "      <td>...</td>\n",
       "    </tr>\n",
       "    <tr>\n",
       "      <th>1356</th>\n",
       "      <td>YOUNGSTOWN</td>\n",
       "      <td>OH</td>\n",
       "      <td>86</td>\n",
       "      <td>2</td>\n",
       "    </tr>\n",
       "    <tr>\n",
       "      <th>1357</th>\n",
       "      <td>YPSILANTI</td>\n",
       "      <td>MI</td>\n",
       "      <td>65</td>\n",
       "      <td>1</td>\n",
       "    </tr>\n",
       "    <tr>\n",
       "      <th>1358</th>\n",
       "      <td>YUMA</td>\n",
       "      <td>TN</td>\n",
       "      <td>57</td>\n",
       "      <td>1</td>\n",
       "    </tr>\n",
       "    <tr>\n",
       "      <th>1359</th>\n",
       "      <td>ZANESVILLE</td>\n",
       "      <td>OH</td>\n",
       "      <td>365</td>\n",
       "      <td>3</td>\n",
       "    </tr>\n",
       "    <tr>\n",
       "      <th>1360</th>\n",
       "      <td>ZEPHYRHILLS</td>\n",
       "      <td>FL</td>\n",
       "      <td>525</td>\n",
       "      <td>2</td>\n",
       "    </tr>\n",
       "  </tbody>\n",
       "</table>\n",
       "<p>1361 rows × 4 columns</p>\n",
       "</div>"
      ],
      "text/plain": [
       "        city_from state_from  sum_other_patients  num_other_doctors\n",
       "0        ABERDEEN         MS                 253                  4\n",
       "1         ABILENE         TX                  43                  1\n",
       "2        ABINGDON         VA                 289                  2\n",
       "3         ACWORTH         GA                 366                  3\n",
       "4      ADAMSVILLE         TN                 431                  2\n",
       "...           ...        ...                 ...                ...\n",
       "1356   YOUNGSTOWN         OH                  86                  2\n",
       "1357    YPSILANTI         MI                  65                  1\n",
       "1358         YUMA         TN                  57                  1\n",
       "1359   ZANESVILLE         OH                 365                  3\n",
       "1360  ZEPHYRHILLS         FL                 525                  2\n",
       "\n",
       "[1361 rows x 4 columns]"
      ]
     },
     "execution_count": 487,
     "metadata": {},
     "output_type": "execute_result"
    }
   ],
   "source": [
    "out_of_comm_to_out"
   ]
  },
  {
   "cell_type": "code",
   "execution_count": 488,
   "id": "c960fb09",
   "metadata": {},
   "outputs": [],
   "source": [
    "out_of_comm_to_vandy = (tax_hop_comm2[(~tax_hop_comm2['from_communityid'].isin(vanderbilt_communities)) &\n",
    "                                    (tax_hop_comm2['organization_to'].str.contains('VANDERBILT')) &\n",
    "                                     (tax_hop_comm2['organization_to'] != 'None')]\n",
    "                      .groupby(['city_from','state_from'])\n",
    "                      .agg({'patient_count':'sum',\n",
    "                           'from_npi':'nunique'})\n",
    "                       .reset_index()\n",
    "                       .rename(columns = {'patient_count':'sum_vandy_patients',\n",
    "                                         'from_npi':'num_vandy_doctors'}))"
   ]
  },
  {
   "cell_type": "code",
   "execution_count": 494,
   "id": "8d4b270d",
   "metadata": {},
   "outputs": [],
   "source": [
    "totals = (tax_hop_comm2[(~tax_hop_comm2['from_communityid'].isin(vanderbilt_communities)) & (tax_hop_comm2['organization_to'] != 'None')] \n",
    "          .groupby(['city_from','state_from'])\n",
    "          .agg({'patient_count':'sum',\n",
    "                'from_npi':'nunique'})\n",
    "          .reset_index()\n",
    "          .rename(columns = {'patient_count':'total_patients',\n",
    "                                         'from_npi':'total_doctors'}))"
   ]
  },
  {
   "cell_type": "code",
   "execution_count": 495,
   "id": "b0bd87da",
   "metadata": {},
   "outputs": [],
   "source": [
    "out_of_community_city_comp = pd.merge(out_of_comm_to_vandy[out_of_comm_to_vandy['state_from'] == 'TN'],\n",
    "        out_of_comm_to_out[out_of_comm_to_out['state_from'] == 'TN'],\n",
    "        on = ['city_from','state_from'])"
   ]
  },
  {
   "cell_type": "code",
   "execution_count": 496,
   "id": "a5d71ed3",
   "metadata": {},
   "outputs": [],
   "source": [
    "out_of_community_city_comp['total_p'] = out_of_community_city_comp['sum_vandy_patients'] +out_of_community_city_comp['sum_other_patients']\n",
    "out_of_community_city_comp['total_d'] = out_of_community_city_comp['num_vandy_doctors']+out_of_community_city_comp['num_other_doctors']"
   ]
  },
  {
   "cell_type": "code",
   "execution_count": 507,
   "id": "c06f57c8",
   "metadata": {},
   "outputs": [],
   "source": [
    "out_of_community_city_comp['vandy_percentage'] = out_of_community_city_comp['sum_vandy_patients'] * 100 / out_of_community_city_comp['total_p']\n",
    "out_of_community_city_comp['other_percentage'] = out_of_community_city_comp['sum_other_patients'] * 100 / out_of_community_city_comp['total_p']"
   ]
  },
  {
   "cell_type": "code",
   "execution_count": 574,
   "id": "da4b338c",
   "metadata": {},
   "outputs": [
    {
     "data": {
      "image/png": "[encoded data removed]",
      "text/plain": [
       "<Figure size 432x288 with 1 Axes>"
      ]
     },
     "metadata": {
      "needs_background": "light"
     },
     "output_type": "display_data"
    }
   ],
   "source": [
    "(out_of_community_city_comp\n",
    " .sort_values('vandy_percentage', ascending=False)\n",
    " .head(5)\n",
    " [['city_from','vandy_percentage','other_percentage']]\n",
    ".rename(columns = {'vandy_percentage': 'Referrals to Vanderbilt',\n",
    "                 'other_percentage':'Referrals to Other Facilities'})).plot(kind = 'bar', x = 'city_from',stacked = True)\n",
    "plt.legend(loc='upper right', bbox_to_anchor = (1.54,1))\n",
    "plt.xlabel('')\n",
    "plt.ylabel('Percentage of Patients');"
   ]
  },
  {
   "cell_type": "code",
   "execution_count": 573,
   "id": "50ac330b",
   "metadata": {},
   "outputs": [],
   "source": [
    "top_5below_avg = (out_of_community_city_comp\n",
    " .sort_values('vandy_percentage', ascending=False)\n",
    " .head(5)\n",
    " [['city_from','vandy_percentage','other_percentage']]\n",
    ".rename(columns = {'vandy_percentage': 'Referrals to Vanderbilt',\n",
    "                 'other_percentage':'Referrals to Other Facilities'}))"
   ]
  },
  {
   "cell_type": "markdown",
   "id": "c02f3374",
   "metadata": {},
   "source": [
    "By percentage ['MONTEAGLE', 'SAVANNAH', 'MARTIN', 'CELINA', 'HUNTINGDON'] send the most patients out of community to vanderbilt, however, these places all have less than 10 doctors."
   ]
  },
  {
   "cell_type": "code",
   "execution_count": 575,
   "id": "f26fc9b0",
   "metadata": {},
   "outputs": [],
   "source": [
    "import plotly.graph_objs as go"
   ]
  },
  {
   "cell_type": "code",
   "execution_count": 584,
   "id": "7199794c",
   "metadata": {},
   "outputs": [
    {
     "data": {
      "application/vnd.plotly.v1+json": {
       "config": {
        "plotlyServerURL": "https://plot.ly"
       },
       "data": [
        {
         "marker": {
          "color": "rgba(0,128,0, 0.6)",
          "line": {
           "color": "rgba(0,128,0, 0.5)",
           "width": 0.05
          }
         },
         "name": "Vanderbilt",
         "type": "bar",
         "x": [
          "MONTEAGLE",
          "SAVANNAH",
          "MARTIN",
          "CELINA",
          "HUNTINGDON"
         ],
         "y": [
          58.333333333333336,
          48.10495626822158,
          36.8421052631579,
          34.6749226006192,
          33.021077283372364
         ]
        },
        {
         "marker": {
          "color": "rgba(0,0,255, 0.6)",
          "line": {
           "color": "rgba(0,0,255, 0.5)",
           "width": 0.05
          }
         },
         "name": "Other",
         "type": "bar",
         "x": [
          "MONTEAGLE",
          "SAVANNAH",
          "MARTIN",
          "CELINA",
          "HUNTINGDON"
         ],
         "y": [
          41.666666666666664,
          51.89504373177842,
          63.1578947368421,
          65.3250773993808,
          66.97892271662764
         ]
        }
       ],
       "layout": {
        "barmode": "stack",
        "hovermode": "x",
        "template": {
         "data": {
          "bar": [
           {
            "error_x": {
             "color": "#2a3f5f"
            },
            "error_y": {
             "color": "#2a3f5f"
            },
            "marker": {
             "line": {
              "color": "#E5ECF6",
              "width": 0.5
             },
             "pattern": {
              "fillmode": "overlay",
              "size": 10,
              "solidity": 0.2
             }
            },
            "type": "bar"
           }
          ],
          "barpolar": [
           {
            "marker": {
             "line": {
              "color": "#E5ECF6",
              "width": 0.5
             },
             "pattern": {
              "fillmode": "overlay",
              "size": 10,
              "solidity": 0.2
             }
            },
            "type": "barpolar"
           }
          ],
          "carpet": [
           {
            "aaxis": {
             "endlinecolor": "#2a3f5f",
             "gridcolor": "white",
             "linecolor": "white",
             "minorgridcolor": "white",
             "startlinecolor": "#2a3f5f"
            },
            "baxis": {
             "endlinecolor": "#2a3f5f",
             "gridcolor": "white",
             "linecolor": "white",
             "minorgridcolor": "white",
             "startlinecolor": "#2a3f5f"
            },
            "type": "carpet"
           }
          ],
          "choropleth": [
           {
            "colorbar": {
             "outlinewidth": 0,
             "ticks": ""
            },
            "type": "choropleth"
           }
          ],
          "contour": [
           {
            "colorbar": {
             "outlinewidth": 0,
             "ticks": ""
            },
            "colorscale": [
             [
              0,
              "#0d0887"
             ],
             [
              0.1111111111111111,
              "#46039f"
             ],
             [
              0.2222222222222222,
              "#7201a8"
             ],
             [
              0.3333333333333333,
              "#9c179e"
             ],
             [
              0.4444444444444444,
              "#bd3786"
             ],
             [
              0.5555555555555556,
              "#d8576b"
             ],
             [
              0.6666666666666666,
              "#ed7953"
             ],
             [
              0.7777777777777778,
              "#fb9f3a"
             ],
             [
              0.8888888888888888,
              "#fdca26"
             ],
             [
              1,
              "#f0f921"
             ]
            ],
            "type": "contour"
           }
          ],
          "contourcarpet": [
           {
            "colorbar": {
             "outlinewidth": 0,
             "ticks": ""
            },
            "type": "contourcarpet"
           }
          ],
          "heatmap": [
           {
            "colorbar": {
             "outlinewidth": 0,
             "ticks": ""
            },
            "colorscale": [
             [
              0,
              "#0d0887"
             ],
             [
              0.1111111111111111,
              "#46039f"
             ],
             [
              0.2222222222222222,
              "#7201a8"
             ],
             [
              0.3333333333333333,
              "#9c179e"
             ],
             [
              0.4444444444444444,
              "#bd3786"
             ],
             [
              0.5555555555555556,
              "#d8576b"
             ],
             [
              0.6666666666666666,
              "#ed7953"
             ],
             [
              0.7777777777777778,
              "#fb9f3a"
             ],
             [
              0.8888888888888888,
              "#fdca26"
             ],
             [
              1,
              "#f0f921"
             ]
            ],
            "type": "heatmap"
           }
          ],
          "heatmapgl": [
           {
            "colorbar": {
             "outlinewidth": 0,
             "ticks": ""
            },
            "colorscale": [
             [
              0,
              "#0d0887"
             ],
             [
              0.1111111111111111,
              "#46039f"
             ],
             [
              0.2222222222222222,
              "#7201a8"
             ],
             [
              0.3333333333333333,
              "#9c179e"
             ],
             [
              0.4444444444444444,
              "#bd3786"
             ],
             [
              0.5555555555555556,
              "#d8576b"
             ],
             [
              0.6666666666666666,
              "#ed7953"
             ],
             [
              0.7777777777777778,
              "#fb9f3a"
             ],
             [
              0.8888888888888888,
              "#fdca26"
             ],
             [
              1,
              "#f0f921"
             ]
            ],
            "type": "heatmapgl"
           }
          ],
          "histogram": [
           {
            "marker": {
             "pattern": {
              "fillmode": "overlay",
              "size": 10,
              "solidity": 0.2
             }
            },
            "type": "histogram"
           }
          ],
          "histogram2d": [
           {
            "colorbar": {
             "outlinewidth": 0,
             "ticks": ""
            },
            "colorscale": [
             [
              0,
              "#0d0887"
             ],
             [
              0.1111111111111111,
              "#46039f"
             ],
             [
              0.2222222222222222,
              "#7201a8"
             ],
             [
              0.3333333333333333,
              "#9c179e"
             ],
             [
              0.4444444444444444,
              "#bd3786"
             ],
             [
              0.5555555555555556,
              "#d8576b"
             ],
             [
              0.6666666666666666,
              "#ed7953"
             ],
             [
              0.7777777777777778,
              "#fb9f3a"
             ],
             [
              0.8888888888888888,
              "#fdca26"
             ],
             [
              1,
              "#f0f921"
             ]
            ],
            "type": "histogram2d"
           }
          ],
          "histogram2dcontour": [
           {
            "colorbar": {
             "outlinewidth": 0,
             "ticks": ""
            },
            "colorscale": [
             [
              0,
              "#0d0887"
             ],
             [
              0.1111111111111111,
              "#46039f"
             ],
             [
              0.2222222222222222,
              "#7201a8"
             ],
             [
              0.3333333333333333,
              "#9c179e"
             ],
             [
              0.4444444444444444,
              "#bd3786"
             ],
             [
              0.5555555555555556,
              "#d8576b"
             ],
             [
              0.6666666666666666,
              "#ed7953"
             ],
             [
              0.7777777777777778,
              "#fb9f3a"
             ],
             [
              0.8888888888888888,
              "#fdca26"
             ],
             [
              1,
              "#f0f921"
             ]
            ],
            "type": "histogram2dcontour"
           }
          ],
          "mesh3d": [
           {
            "colorbar": {
             "outlinewidth": 0,
             "ticks": ""
            },
            "type": "mesh3d"
           }
          ],
          "parcoords": [
           {
            "line": {
             "colorbar": {
              "outlinewidth": 0,
              "ticks": ""
             }
            },
            "type": "parcoords"
           }
          ],
          "pie": [
           {
            "automargin": true,
            "type": "pie"
           }
          ],
          "scatter": [
           {
            "marker": {
             "colorbar": {
              "outlinewidth": 0,
              "ticks": ""
             }
            },
            "type": "scatter"
           }
          ],
          "scatter3d": [
           {
            "line": {
             "colorbar": {
              "outlinewidth": 0,
              "ticks": ""
             }
            },
            "marker": {
             "colorbar": {
              "outlinewidth": 0,
              "ticks": ""
             }
            },
            "type": "scatter3d"
           }
          ],
          "scattercarpet": [
           {
            "marker": {
             "colorbar": {
              "outlinewidth": 0,
              "ticks": ""
             }
            },
            "type": "scattercarpet"
           }
          ],
          "scattergeo": [
           {
            "marker": {
             "colorbar": {
              "outlinewidth": 0,
              "ticks": ""
             }
            },
            "type": "scattergeo"
           }
          ],
          "scattergl": [
           {
            "marker": {
             "colorbar": {
              "outlinewidth": 0,
              "ticks": ""
             }
            },
            "type": "scattergl"
           }
          ],
          "scattermapbox": [
           {
            "marker": {
             "colorbar": {
              "outlinewidth": 0,
              "ticks": ""
             }
            },
            "type": "scattermapbox"
           }
          ],
          "scatterpolar": [
           {
            "marker": {
             "colorbar": {
              "outlinewidth": 0,
              "ticks": ""
             }
            },
            "type": "scatterpolar"
           }
          ],
          "scatterpolargl": [
           {
            "marker": {
             "colorbar": {
              "outlinewidth": 0,
              "ticks": ""
             }
            },
            "type": "scatterpolargl"
           }
          ],
          "scatterternary": [
           {
            "marker": {
             "colorbar": {
              "outlinewidth": 0,
              "ticks": ""
             }
            },
            "type": "scatterternary"
           }
          ],
          "surface": [
           {
            "colorbar": {
             "outlinewidth": 0,
             "ticks": ""
            },
            "colorscale": [
             [
              0,
              "#0d0887"
             ],
             [
              0.1111111111111111,
              "#46039f"
             ],
             [
              0.2222222222222222,
              "#7201a8"
             ],
             [
              0.3333333333333333,
              "#9c179e"
             ],
             [
              0.4444444444444444,
              "#bd3786"
             ],
             [
              0.5555555555555556,
              "#d8576b"
             ],
             [
              0.6666666666666666,
              "#ed7953"
             ],
             [
              0.7777777777777778,
              "#fb9f3a"
             ],
             [
              0.8888888888888888,
              "#fdca26"
             ],
             [
              1,
              "#f0f921"
             ]
            ],
            "type": "surface"
           }
          ],
          "table": [
           {
            "cells": {
             "fill": {
              "color": "#EBF0F8"
             },
             "line": {
              "color": "white"
             }
            },
            "header": {
             "fill": {
              "color": "#C8D4E3"
             },
             "line": {
              "color": "white"
             }
            },
            "type": "table"
           }
          ]
         },
         "layout": {
          "annotationdefaults": {
           "arrowcolor": "#2a3f5f",
           "arrowhead": 0,
           "arrowwidth": 1
          },
          "autotypenumbers": "strict",
          "coloraxis": {
           "colorbar": {
            "outlinewidth": 0,
            "ticks": ""
           }
          },
          "colorscale": {
           "diverging": [
            [
             0,
             "#8e0152"
            ],
            [
             0.1,
             "#c51b7d"
            ],
            [
             0.2,
             "#de77ae"
            ],
            [
             0.3,
             "#f1b6da"
            ],
            [
             0.4,
             "#fde0ef"
            ],
            [
             0.5,
             "#f7f7f7"
            ],
            [
             0.6,
             "#e6f5d0"
            ],
            [
             0.7,
             "#b8e186"
            ],
            [
             0.8,
             "#7fbc41"
            ],
            [
             0.9,
             "#4d9221"
            ],
            [
             1,
             "#276419"
            ]
           ],
           "sequential": [
            [
             0,
             "#0d0887"
            ],
            [
             0.1111111111111111,
             "#46039f"
            ],
            [
             0.2222222222222222,
             "#7201a8"
            ],
            [
             0.3333333333333333,
             "#9c179e"
            ],
            [
             0.4444444444444444,
             "#bd3786"
            ],
            [
             0.5555555555555556,
             "#d8576b"
            ],
            [
             0.6666666666666666,
             "#ed7953"
            ],
            [
             0.7777777777777778,
             "#fb9f3a"
            ],
            [
             0.8888888888888888,
             "#fdca26"
            ],
            [
             1,
             "#f0f921"
            ]
           ],
           "sequentialminus": [
            [
             0,
             "#0d0887"
            ],
            [
             0.1111111111111111,
             "#46039f"
            ],
            [
             0.2222222222222222,
             "#7201a8"
            ],
            [
             0.3333333333333333,
             "#9c179e"
            ],
            [
             0.4444444444444444,
             "#bd3786"
            ],
            [
             0.5555555555555556,
             "#d8576b"
            ],
            [
             0.6666666666666666,
             "#ed7953"
            ],
            [
             0.7777777777777778,
             "#fb9f3a"
            ],
            [
             0.8888888888888888,
             "#fdca26"
            ],
            [
             1,
             "#f0f921"
            ]
           ]
          },
          "colorway": [
           "#636efa",
           "#EF553B",
           "#00cc96",
           "#ab63fa",
           "#FFA15A",
           "#19d3f3",
           "#FF6692",
           "#B6E880",
           "#FF97FF",
           "#FECB52"
          ],
          "font": {
           "color": "#2a3f5f"
          },
          "geo": {
           "bgcolor": "white",
           "lakecolor": "white",
           "landcolor": "#E5ECF6",
           "showlakes": true,
           "showland": true,
           "subunitcolor": "white"
          },
          "hoverlabel": {
           "align": "left"
          },
          "hovermode": "closest",
          "mapbox": {
           "style": "light"
          },
          "paper_bgcolor": "white",
          "plot_bgcolor": "#E5ECF6",
          "polar": {
           "angularaxis": {
            "gridcolor": "white",
            "linecolor": "white",
            "ticks": ""
           },
           "bgcolor": "#E5ECF6",
           "radialaxis": {
            "gridcolor": "white",
            "linecolor": "white",
            "ticks": ""
           }
          },
          "scene": {
           "xaxis": {
            "backgroundcolor": "#E5ECF6",
            "gridcolor": "white",
            "gridwidth": 2,
            "linecolor": "white",
            "showbackground": true,
            "ticks": "",
            "zerolinecolor": "white"
           },
           "yaxis": {
            "backgroundcolor": "#E5ECF6",
            "gridcolor": "white",
            "gridwidth": 2,
            "linecolor": "white",
            "showbackground": true,
            "ticks": "",
            "zerolinecolor": "white"
           },
           "zaxis": {
            "backgroundcolor": "#E5ECF6",
            "gridcolor": "white",
            "gridwidth": 2,
            "linecolor": "white",
            "showbackground": true,
            "ticks": "",
            "zerolinecolor": "white"
           }
          },
          "shapedefaults": {
           "line": {
            "color": "#2a3f5f"
           }
          },
          "ternary": {
           "aaxis": {
            "gridcolor": "white",
            "linecolor": "white",
            "ticks": ""
           },
           "baxis": {
            "gridcolor": "white",
            "linecolor": "white",
            "ticks": ""
           },
           "bgcolor": "#E5ECF6",
           "caxis": {
            "gridcolor": "white",
            "linecolor": "white",
            "ticks": ""
           }
          },
          "title": {
           "x": 0.05
          },
          "xaxis": {
           "automargin": true,
           "gridcolor": "white",
           "linecolor": "white",
           "ticks": "",
           "title": {
            "standoff": 15
           },
           "zerolinecolor": "white",
           "zerolinewidth": 2
          },
          "yaxis": {
           "automargin": true,
           "gridcolor": "white",
           "linecolor": "white",
           "ticks": "",
           "title": {
            "standoff": 15
           },
           "zerolinecolor": "white",
           "zerolinewidth": 2
          }
         }
        },
        "yaxis": {
         "title": {
          "text": "Percentage of Patients"
         }
        }
       }
      },
      "text/html": [
       "<div>                            <div id=\"ff842508-4e11-4254-b8d2-f700ae26a1dd\" class=\"plotly-graph-div\" style=\"height:525px; width:100%;\"></div>            <script type=\"text/javascript\">                require([\"plotly\"], function(Plotly) {                    window.PLOTLYENV=window.PLOTLYENV || {};                                    if (document.getElementById(\"ff842508-4e11-4254-b8d2-f700ae26a1dd\")) {                    Plotly.newPlot(                        \"ff842508-4e11-4254-b8d2-f700ae26a1dd\",                        [{\"marker\":{\"color\":\"rgba(0,128,0, 0.6)\",\"line\":{\"color\":\"rgba(0,128,0, 0.5)\",\"width\":0.05}},\"name\":\"Vanderbilt\",\"type\":\"bar\",\"x\":[\"MONTEAGLE\",\"SAVANNAH\",\"MARTIN\",\"CELINA\",\"HUNTINGDON\"],\"y\":[58.333333333333336,48.10495626822158,36.8421052631579,34.6749226006192,33.021077283372364]},{\"marker\":{\"color\":\"rgba(0,0,255, 0.6)\",\"line\":{\"color\":\"rgba(0,0,255, 0.5)\",\"width\":0.05}},\"name\":\"Other\",\"type\":\"bar\",\"x\":[\"MONTEAGLE\",\"SAVANNAH\",\"MARTIN\",\"CELINA\",\"HUNTINGDON\"],\"y\":[41.666666666666664,51.89504373177842,63.1578947368421,65.3250773993808,66.97892271662764]}],                        {\"barmode\":\"stack\",\"hovermode\":\"x\",\"template\":{\"data\":{\"bar\":[{\"error_x\":{\"color\":\"#2a3f5f\"},\"error_y\":{\"color\":\"#2a3f5f\"},\"marker\":{\"line\":{\"color\":\"#E5ECF6\",\"width\":0.5},\"pattern\":{\"fillmode\":\"overlay\",\"size\":10,\"solidity\":0.2}},\"type\":\"bar\"}],\"barpolar\":[{\"marker\":{\"line\":{\"color\":\"#E5ECF6\",\"width\":0.5},\"pattern\":{\"fillmode\":\"overlay\",\"size\":10,\"solidity\":0.2}},\"type\":\"barpolar\"}],\"carpet\":[{\"aaxis\":{\"endlinecolor\":\"#2a3f5f\",\"gridcolor\":\"white\",\"linecolor\":\"white\",\"minorgridcolor\":\"white\",\"startlinecolor\":\"#2a3f5f\"},\"baxis\":{\"endlinecolor\":\"#2a3f5f\",\"gridcolor\":\"white\",\"linecolor\":\"white\",\"minorgridcolor\":\"white\",\"startlinecolor\":\"#2a3f5f\"},\"type\":\"carpet\"}],\"choropleth\":[{\"colorbar\":{\"outlinewidth\":0,\"ticks\":\"\"},\"type\":\"choropleth\"}],\"contour\":[{\"colorbar\":{\"outlinewidth\":0,\"ticks\":\"\"},\"colorscale\":[[0.0,\"#0d0887\"],[0.1111111111111111,\"#46039f\"],[0.2222222222222222,\"#7201a8\"],[0.3333333333333333,\"#9c179e\"],[0.4444444444444444,\"#bd3786\"],[0.5555555555555556,\"#d8576b\"],[0.6666666666666666,\"#ed7953\"],[0.7777777777777778,\"#fb9f3a\"],[0.8888888888888888,\"#fdca26\"],[1.0,\"#f0f921\"]],\"type\":\"contour\"}],\"contourcarpet\":[{\"colorbar\":{\"outlinewidth\":0,\"ticks\":\"\"},\"type\":\"contourcarpet\"}],\"heatmap\":[{\"colorbar\":{\"outlinewidth\":0,\"ticks\":\"\"},\"colorscale\":[[0.0,\"#0d0887\"],[0.1111111111111111,\"#46039f\"],[0.2222222222222222,\"#7201a8\"],[0.3333333333333333,\"#9c179e\"],[0.4444444444444444,\"#bd3786\"],[0.5555555555555556,\"#d8576b\"],[0.6666666666666666,\"#ed7953\"],[0.7777777777777778,\"#fb9f3a\"],[0.8888888888888888,\"#fdca26\"],[1.0,\"#f0f921\"]],\"type\":\"heatmap\"}],\"heatmapgl\":[{\"colorbar\":{\"outlinewidth\":0,\"ticks\":\"\"},\"colorscale\":[[0.0,\"#0d0887\"],[0.1111111111111111,\"#46039f\"],[0.2222222222222222,\"#7201a8\"],[0.3333333333333333,\"#9c179e\"],[0.4444444444444444,\"#bd3786\"],[0.5555555555555556,\"#d8576b\"],[0.6666666666666666,\"#ed7953\"],[0.7777777777777778,\"#fb9f3a\"],[0.8888888888888888,\"#fdca26\"],[1.0,\"#f0f921\"]],\"type\":\"heatmapgl\"}],\"histogram\":[{\"marker\":{\"pattern\":{\"fillmode\":\"overlay\",\"size\":10,\"solidity\":0.2}},\"type\":\"histogram\"}],\"histogram2d\":[{\"colorbar\":{\"outlinewidth\":0,\"ticks\":\"\"},\"colorscale\":[[0.0,\"#0d0887\"],[0.1111111111111111,\"#46039f\"],[0.2222222222222222,\"#7201a8\"],[0.3333333333333333,\"#9c179e\"],[0.4444444444444444,\"#bd3786\"],[0.5555555555555556,\"#d8576b\"],[0.6666666666666666,\"#ed7953\"],[0.7777777777777778,\"#fb9f3a\"],[0.8888888888888888,\"#fdca26\"],[1.0,\"#f0f921\"]],\"type\":\"histogram2d\"}],\"histogram2dcontour\":[{\"colorbar\":{\"outlinewidth\":0,\"ticks\":\"\"},\"colorscale\":[[0.0,\"#0d0887\"],[0.1111111111111111,\"#46039f\"],[0.2222222222222222,\"#7201a8\"],[0.3333333333333333,\"#9c179e\"],[0.4444444444444444,\"#bd3786\"],[0.5555555555555556,\"#d8576b\"],[0.6666666666666666,\"#ed7953\"],[0.7777777777777778,\"#fb9f3a\"],[0.8888888888888888,\"#fdca26\"],[1.0,\"#f0f921\"]],\"type\":\"histogram2dcontour\"}],\"mesh3d\":[{\"colorbar\":{\"outlinewidth\":0,\"ticks\":\"\"},\"type\":\"mesh3d\"}],\"parcoords\":[{\"line\":{\"colorbar\":{\"outlinewidth\":0,\"ticks\":\"\"}},\"type\":\"parcoords\"}],\"pie\":[{\"automargin\":true,\"type\":\"pie\"}],\"scatter\":[{\"marker\":{\"colorbar\":{\"outlinewidth\":0,\"ticks\":\"\"}},\"type\":\"scatter\"}],\"scatter3d\":[{\"line\":{\"colorbar\":{\"outlinewidth\":0,\"ticks\":\"\"}},\"marker\":{\"colorbar\":{\"outlinewidth\":0,\"ticks\":\"\"}},\"type\":\"scatter3d\"}],\"scattercarpet\":[{\"marker\":{\"colorbar\":{\"outlinewidth\":0,\"ticks\":\"\"}},\"type\":\"scattercarpet\"}],\"scattergeo\":[{\"marker\":{\"colorbar\":{\"outlinewidth\":0,\"ticks\":\"\"}},\"type\":\"scattergeo\"}],\"scattergl\":[{\"marker\":{\"colorbar\":{\"outlinewidth\":0,\"ticks\":\"\"}},\"type\":\"scattergl\"}],\"scattermapbox\":[{\"marker\":{\"colorbar\":{\"outlinewidth\":0,\"ticks\":\"\"}},\"type\":\"scattermapbox\"}],\"scatterpolar\":[{\"marker\":{\"colorbar\":{\"outlinewidth\":0,\"ticks\":\"\"}},\"type\":\"scatterpolar\"}],\"scatterpolargl\":[{\"marker\":{\"colorbar\":{\"outlinewidth\":0,\"ticks\":\"\"}},\"type\":\"scatterpolargl\"}],\"scatterternary\":[{\"marker\":{\"colorbar\":{\"outlinewidth\":0,\"ticks\":\"\"}},\"type\":\"scatterternary\"}],\"surface\":[{\"colorbar\":{\"outlinewidth\":0,\"ticks\":\"\"},\"colorscale\":[[0.0,\"#0d0887\"],[0.1111111111111111,\"#46039f\"],[0.2222222222222222,\"#7201a8\"],[0.3333333333333333,\"#9c179e\"],[0.4444444444444444,\"#bd3786\"],[0.5555555555555556,\"#d8576b\"],[0.6666666666666666,\"#ed7953\"],[0.7777777777777778,\"#fb9f3a\"],[0.8888888888888888,\"#fdca26\"],[1.0,\"#f0f921\"]],\"type\":\"surface\"}],\"table\":[{\"cells\":{\"fill\":{\"color\":\"#EBF0F8\"},\"line\":{\"color\":\"white\"}},\"header\":{\"fill\":{\"color\":\"#C8D4E3\"},\"line\":{\"color\":\"white\"}},\"type\":\"table\"}]},\"layout\":{\"annotationdefaults\":{\"arrowcolor\":\"#2a3f5f\",\"arrowhead\":0,\"arrowwidth\":1},\"autotypenumbers\":\"strict\",\"coloraxis\":{\"colorbar\":{\"outlinewidth\":0,\"ticks\":\"\"}},\"colorscale\":{\"diverging\":[[0,\"#8e0152\"],[0.1,\"#c51b7d\"],[0.2,\"#de77ae\"],[0.3,\"#f1b6da\"],[0.4,\"#fde0ef\"],[0.5,\"#f7f7f7\"],[0.6,\"#e6f5d0\"],[0.7,\"#b8e186\"],[0.8,\"#7fbc41\"],[0.9,\"#4d9221\"],[1,\"#276419\"]],\"sequential\":[[0.0,\"#0d0887\"],[0.1111111111111111,\"#46039f\"],[0.2222222222222222,\"#7201a8\"],[0.3333333333333333,\"#9c179e\"],[0.4444444444444444,\"#bd3786\"],[0.5555555555555556,\"#d8576b\"],[0.6666666666666666,\"#ed7953\"],[0.7777777777777778,\"#fb9f3a\"],[0.8888888888888888,\"#fdca26\"],[1.0,\"#f0f921\"]],\"sequentialminus\":[[0.0,\"#0d0887\"],[0.1111111111111111,\"#46039f\"],[0.2222222222222222,\"#7201a8\"],[0.3333333333333333,\"#9c179e\"],[0.4444444444444444,\"#bd3786\"],[0.5555555555555556,\"#d8576b\"],[0.6666666666666666,\"#ed7953\"],[0.7777777777777778,\"#fb9f3a\"],[0.8888888888888888,\"#fdca26\"],[1.0,\"#f0f921\"]]},\"colorway\":[\"#636efa\",\"#EF553B\",\"#00cc96\",\"#ab63fa\",\"#FFA15A\",\"#19d3f3\",\"#FF6692\",\"#B6E880\",\"#FF97FF\",\"#FECB52\"],\"font\":{\"color\":\"#2a3f5f\"},\"geo\":{\"bgcolor\":\"white\",\"lakecolor\":\"white\",\"landcolor\":\"#E5ECF6\",\"showlakes\":true,\"showland\":true,\"subunitcolor\":\"white\"},\"hoverlabel\":{\"align\":\"left\"},\"hovermode\":\"closest\",\"mapbox\":{\"style\":\"light\"},\"paper_bgcolor\":\"white\",\"plot_bgcolor\":\"#E5ECF6\",\"polar\":{\"angularaxis\":{\"gridcolor\":\"white\",\"linecolor\":\"white\",\"ticks\":\"\"},\"bgcolor\":\"#E5ECF6\",\"radialaxis\":{\"gridcolor\":\"white\",\"linecolor\":\"white\",\"ticks\":\"\"}},\"scene\":{\"xaxis\":{\"backgroundcolor\":\"#E5ECF6\",\"gridcolor\":\"white\",\"gridwidth\":2,\"linecolor\":\"white\",\"showbackground\":true,\"ticks\":\"\",\"zerolinecolor\":\"white\"},\"yaxis\":{\"backgroundcolor\":\"#E5ECF6\",\"gridcolor\":\"white\",\"gridwidth\":2,\"linecolor\":\"white\",\"showbackground\":true,\"ticks\":\"\",\"zerolinecolor\":\"white\"},\"zaxis\":{\"backgroundcolor\":\"#E5ECF6\",\"gridcolor\":\"white\",\"gridwidth\":2,\"linecolor\":\"white\",\"showbackground\":true,\"ticks\":\"\",\"zerolinecolor\":\"white\"}},\"shapedefaults\":{\"line\":{\"color\":\"#2a3f5f\"}},\"ternary\":{\"aaxis\":{\"gridcolor\":\"white\",\"linecolor\":\"white\",\"ticks\":\"\"},\"baxis\":{\"gridcolor\":\"white\",\"linecolor\":\"white\",\"ticks\":\"\"},\"bgcolor\":\"#E5ECF6\",\"caxis\":{\"gridcolor\":\"white\",\"linecolor\":\"white\",\"ticks\":\"\"}},\"title\":{\"x\":0.05},\"xaxis\":{\"automargin\":true,\"gridcolor\":\"white\",\"linecolor\":\"white\",\"ticks\":\"\",\"title\":{\"standoff\":15},\"zerolinecolor\":\"white\",\"zerolinewidth\":2},\"yaxis\":{\"automargin\":true,\"gridcolor\":\"white\",\"linecolor\":\"white\",\"ticks\":\"\",\"title\":{\"standoff\":15},\"zerolinecolor\":\"white\",\"zerolinewidth\":2}}},\"yaxis\":{\"title\":{\"text\":\"Percentage of Patients\"}}},                        {\"responsive\": true}                    ).then(function(){\n",
       "                            \n",
       "var gd = document.getElementById('ff842508-4e11-4254-b8d2-f700ae26a1dd');\n",
       "var x = new MutationObserver(function (mutations, observer) {{\n",
       "        var display = window.getComputedStyle(gd).display;\n",
       "        if (!display || display === 'none') {{\n",
       "            console.log([gd, 'removed!']);\n",
       "            Plotly.purge(gd);\n",
       "            observer.disconnect();\n",
       "        }}\n",
       "}});\n",
       "\n",
       "// Listen for the removal of the full notebook cells\n",
       "var notebookContainer = gd.closest('#notebook-container');\n",
       "if (notebookContainer) {{\n",
       "    x.observe(notebookContainer, {childList: true});\n",
       "}}\n",
       "\n",
       "// Listen for the clearing of the current output cell\n",
       "var outputEl = gd.closest('.output');\n",
       "if (outputEl) {{\n",
       "    x.observe(outputEl, {childList: true});\n",
       "}}\n",
       "\n",
       "                        })                };                });            </script>        </div>"
      ]
     },
     "metadata": {},
     "output_type": "display_data"
    }
   ],
   "source": [
    "fig = go.Figure()\n",
    "fig.add_trace(go.Bar(\n",
    "    y=top_5below_avg['Referrals to Vanderbilt'],\n",
    "    x=top_5below_avg.city_from,\n",
    "    name=\"Vanderbilt\",\n",
    "    marker=dict(\n",
    "        color='rgba(0,128,0, 0.6)',\n",
    "        line=dict(color='rgba(0,128,0, 0.5)', width=0.05)\n",
    "    )))\n",
    "\n",
    "fig.add_trace(go.Bar(\n",
    "    y=top_5below_avg['Referrals to Other Facilities'],\n",
    "    x=top_5below_avg.city_from,\n",
    "    name=\"Other\",\n",
    "    marker=dict(\n",
    "        color='rgba(0,0,255, 0.6)',\n",
    "        line=dict(color='rgba(0,0,255, 0.5)', width=0.05)\n",
    "    )\n",
    "))\n",
    "\n",
    "fig.update_layout(barmode = 'stack',\n",
    "                  hovermode = 'x', \n",
    "                  yaxis = dict(title_text = 'Percentage of Patients'))\n",
    "fig.show()"
   ]
  },
  {
   "cell_type": "code",
   "execution_count": 529,
   "id": "1d1ccaa2",
   "metadata": {
    "scrolled": true
   },
   "outputs": [],
   "source": [
    "high_vandy_cities = out_of_community_city_comp[out_of_community_city_comp['total_d'] >= out_of_community_city_comp['total_d'].mean()].sort_values('vandy_percentage', ascending=False).head(5).city_from.to_list()"
   ]
  },
  {
   "cell_type": "code",
   "execution_count": 566,
   "id": "3422ee1d",
   "metadata": {},
   "outputs": [],
   "source": [
    "top_5_abv_avg = (out_of_community_city_comp[out_of_community_city_comp['total_d'] >=\n",
    "                            out_of_community_city_comp['total_d'].mean()]\n",
    " .sort_values('vandy_percentage', ascending=False)\n",
    " .head(5)[['city_from','vandy_percentage','other_percentage']]\n",
    ".rename(columns = {'vandy_percentage': 'Referrals to Vanderbilt',\n",
    "                 'other_percentage':'Referrals to Other Facilities'}))"
   ]
  },
  {
   "cell_type": "code",
   "execution_count": 568,
   "id": "bab9a87d",
   "metadata": {
    "scrolled": true
   },
   "outputs": [
    {
     "data": {
      "image/png": "[encoded data removed]",
      "text/plain": [
       "<Figure size 432x288 with 1 Axes>"
      ]
     },
     "metadata": {
      "needs_background": "light"
     },
     "output_type": "display_data"
    }
   ],
   "source": [
    "top_5_abv_avg.plot(kind = 'bar', x = 'city_from',stacked = True)\n",
    "plt.legend(loc='upper right', bbox_to_anchor = (1.54,1))\n",
    "plt.xlabel('')\n",
    "plt.ylabel('Percentage of Patients')"
   ]
  },
  {
   "cell_type": "markdown",
   "id": "964c7433",
   "metadata": {},
   "source": [
    "When taking number of doctors into account, cities that refer to vanderbilt outside of their community most often by percentage are Tullahoma, Lawrenceburg, Lebanon, Franklin, and Clarksville."
   ]
  },
  {
   "cell_type": "code",
   "execution_count": 585,
   "id": "2a4a9100",
   "metadata": {},
   "outputs": [
    {
     "data": {
      "application/vnd.plotly.v1+json": {
       "config": {
        "plotlyServerURL": "https://plot.ly"
       },
       "data": [
        {
         "marker": {
          "color": "rgba(0,128,0, 0.6)",
          "line": {
           "color": "rgba(0,128,0, 0.5)",
           "width": 0.05
          }
         },
         "name": "Vanderbilt",
         "type": "bar",
         "x": [
          "TULLAHOMA",
          "LAWRENCEBURG",
          "LEBANON",
          "FRANKLIN",
          "CLARKSVILLE"
         ],
         "y": [
          10.365935692183506,
          10.24959926723151,
          8.695861405197306,
          7.0430035947277325,
          6.981957353745216
         ]
        },
        {
         "marker": {
          "color": "rgba(0,0,255, 0.6)",
          "line": {
           "color": "rgba(0,0,255, 0.5)",
           "width": 0.05
          }
         },
         "name": "Other",
         "type": "bar",
         "x": [
          "TULLAHOMA",
          "LAWRENCEBURG",
          "LEBANON",
          "FRANKLIN",
          "CLARKSVILLE"
         ],
         "y": [
          89.63406430781649,
          89.7504007327685,
          91.3041385948027,
          92.95699640527226,
          93.01804264625478
         ]
        }
       ],
       "layout": {
        "barmode": "stack",
        "hovermode": "x",
        "template": {
         "data": {
          "bar": [
           {
            "error_x": {
             "color": "#2a3f5f"
            },
            "error_y": {
             "color": "#2a3f5f"
            },
            "marker": {
             "line": {
              "color": "#E5ECF6",
              "width": 0.5
             },
             "pattern": {
              "fillmode": "overlay",
              "size": 10,
              "solidity": 0.2
             }
            },
            "type": "bar"
           }
          ],
          "barpolar": [
           {
            "marker": {
             "line": {
              "color": "#E5ECF6",
              "width": 0.5
             },
             "pattern": {
              "fillmode": "overlay",
              "size": 10,
              "solidity": 0.2
             }
            },
            "type": "barpolar"
           }
          ],
          "carpet": [
           {
            "aaxis": {
             "endlinecolor": "#2a3f5f",
             "gridcolor": "white",
             "linecolor": "white",
             "minorgridcolor": "white",
             "startlinecolor": "#2a3f5f"
            },
            "baxis": {
             "endlinecolor": "#2a3f5f",
             "gridcolor": "white",
             "linecolor": "white",
             "minorgridcolor": "white",
             "startlinecolor": "#2a3f5f"
            },
            "type": "carpet"
           }
          ],
          "choropleth": [
           {
            "colorbar": {
             "outlinewidth": 0,
             "ticks": ""
            },
            "type": "choropleth"
           }
          ],
          "contour": [
           {
            "colorbar": {
             "outlinewidth": 0,
             "ticks": ""
            },
            "colorscale": [
             [
              0,
              "#0d0887"
             ],
             [
              0.1111111111111111,
              "#46039f"
             ],
             [
              0.2222222222222222,
              "#7201a8"
             ],
             [
              0.3333333333333333,
              "#9c179e"
             ],
             [
              0.4444444444444444,
              "#bd3786"
             ],
             [
              0.5555555555555556,
              "#d8576b"
             ],
             [
              0.6666666666666666,
              "#ed7953"
             ],
             [
              0.7777777777777778,
              "#fb9f3a"
             ],
             [
              0.8888888888888888,
              "#fdca26"
             ],
             [
              1,
              "#f0f921"
             ]
            ],
            "type": "contour"
           }
          ],
          "contourcarpet": [
           {
            "colorbar": {
             "outlinewidth": 0,
             "ticks": ""
            },
            "type": "contourcarpet"
           }
          ],
          "heatmap": [
           {
            "colorbar": {
             "outlinewidth": 0,
             "ticks": ""
            },
            "colorscale": [
             [
              0,
              "#0d0887"
             ],
             [
              0.1111111111111111,
              "#46039f"
             ],
             [
              0.2222222222222222,
              "#7201a8"
             ],
             [
              0.3333333333333333,
              "#9c179e"
             ],
             [
              0.4444444444444444,
              "#bd3786"
             ],
             [
              0.5555555555555556,
              "#d8576b"
             ],
             [
              0.6666666666666666,
              "#ed7953"
             ],
             [
              0.7777777777777778,
              "#fb9f3a"
             ],
             [
              0.8888888888888888,
              "#fdca26"
             ],
             [
              1,
              "#f0f921"
             ]
            ],
            "type": "heatmap"
           }
          ],
          "heatmapgl": [
           {
            "colorbar": {
             "outlinewidth": 0,
             "ticks": ""
            },
            "colorscale": [
             [
              0,
              "#0d0887"
             ],
             [
              0.1111111111111111,
              "#46039f"
             ],
             [
              0.2222222222222222,
              "#7201a8"
             ],
             [
              0.3333333333333333,
              "#9c179e"
             ],
             [
              0.4444444444444444,
              "#bd3786"
             ],
             [
              0.5555555555555556,
              "#d8576b"
             ],
             [
              0.6666666666666666,
              "#ed7953"
             ],
             [
              0.7777777777777778,
              "#fb9f3a"
             ],
             [
              0.8888888888888888,
              "#fdca26"
             ],
             [
              1,
              "#f0f921"
             ]
            ],
            "type": "heatmapgl"
           }
          ],
          "histogram": [
           {
            "marker": {
             "pattern": {
              "fillmode": "overlay",
              "size": 10,
              "solidity": 0.2
             }
            },
            "type": "histogram"
           }
          ],
          "histogram2d": [
           {
            "colorbar": {
             "outlinewidth": 0,
             "ticks": ""
            },
            "colorscale": [
             [
              0,
              "#0d0887"
             ],
             [
              0.1111111111111111,
              "#46039f"
             ],
             [
              0.2222222222222222,
              "#7201a8"
             ],
             [
              0.3333333333333333,
              "#9c179e"
             ],
             [
              0.4444444444444444,
              "#bd3786"
             ],
             [
              0.5555555555555556,
              "#d8576b"
             ],
             [
              0.6666666666666666,
              "#ed7953"
             ],
             [
              0.7777777777777778,
              "#fb9f3a"
             ],
             [
              0.8888888888888888,
              "#fdca26"
             ],
             [
              1,
              "#f0f921"
             ]
            ],
            "type": "histogram2d"
           }
          ],
          "histogram2dcontour": [
           {
            "colorbar": {
             "outlinewidth": 0,
             "ticks": ""
            },
            "colorscale": [
             [
              0,
              "#0d0887"
             ],
             [
              0.1111111111111111,
              "#46039f"
             ],
             [
              0.2222222222222222,
              "#7201a8"
             ],
             [
              0.3333333333333333,
              "#9c179e"
             ],
             [
              0.4444444444444444,
              "#bd3786"
             ],
             [
              0.5555555555555556,
              "#d8576b"
             ],
             [
              0.6666666666666666,
              "#ed7953"
             ],
             [
              0.7777777777777778,
              "#fb9f3a"
             ],
             [
              0.8888888888888888,
              "#fdca26"
             ],
             [
              1,
              "#f0f921"
             ]
            ],
            "type": "histogram2dcontour"
           }
          ],
          "mesh3d": [
           {
            "colorbar": {
             "outlinewidth": 0,
             "ticks": ""
            },
            "type": "mesh3d"
           }
          ],
          "parcoords": [
           {
            "line": {
             "colorbar": {
              "outlinewidth": 0,
              "ticks": ""
             }
            },
            "type": "parcoords"
           }
          ],
          "pie": [
           {
            "automargin": true,
            "type": "pie"
           }
          ],
          "scatter": [
           {
            "marker": {
             "colorbar": {
              "outlinewidth": 0,
              "ticks": ""
             }
            },
            "type": "scatter"
           }
          ],
          "scatter3d": [
           {
            "line": {
             "colorbar": {
              "outlinewidth": 0,
              "ticks": ""
             }
            },
            "marker": {
             "colorbar": {
              "outlinewidth": 0,
              "ticks": ""
             }
            },
            "type": "scatter3d"
           }
          ],
          "scattercarpet": [
           {
            "marker": {
             "colorbar": {
              "outlinewidth": 0,
              "ticks": ""
             }
            },
            "type": "scattercarpet"
           }
          ],
          "scattergeo": [
           {
            "marker": {
             "colorbar": {
              "outlinewidth": 0,
              "ticks": ""
             }
            },
            "type": "scattergeo"
           }
          ],
          "scattergl": [
           {
            "marker": {
             "colorbar": {
              "outlinewidth": 0,
              "ticks": ""
             }
            },
            "type": "scattergl"
           }
          ],
          "scattermapbox": [
           {
            "marker": {
             "colorbar": {
              "outlinewidth": 0,
              "ticks": ""
             }
            },
            "type": "scattermapbox"
           }
          ],
          "scatterpolar": [
           {
            "marker": {
             "colorbar": {
              "outlinewidth": 0,
              "ticks": ""
             }
            },
            "type": "scatterpolar"
           }
          ],
          "scatterpolargl": [
           {
            "marker": {
             "colorbar": {
              "outlinewidth": 0,
              "ticks": ""
             }
            },
            "type": "scatterpolargl"
           }
          ],
          "scatterternary": [
           {
            "marker": {
             "colorbar": {
              "outlinewidth": 0,
              "ticks": ""
             }
            },
            "type": "scatterternary"
           }
          ],
          "surface": [
           {
            "colorbar": {
             "outlinewidth": 0,
             "ticks": ""
            },
            "colorscale": [
             [
              0,
              "#0d0887"
             ],
             [
              0.1111111111111111,
              "#46039f"
             ],
             [
              0.2222222222222222,
              "#7201a8"
             ],
             [
              0.3333333333333333,
              "#9c179e"
             ],
             [
              0.4444444444444444,
              "#bd3786"
             ],
             [
              0.5555555555555556,
              "#d8576b"
             ],
             [
              0.6666666666666666,
              "#ed7953"
             ],
             [
              0.7777777777777778,
              "#fb9f3a"
             ],
             [
              0.8888888888888888,
              "#fdca26"
             ],
             [
              1,
              "#f0f921"
             ]
            ],
            "type": "surface"
           }
          ],
          "table": [
           {
            "cells": {
             "fill": {
              "color": "#EBF0F8"
             },
             "line": {
              "color": "white"
             }
            },
            "header": {
             "fill": {
              "color": "#C8D4E3"
             },
             "line": {
              "color": "white"
             }
            },
            "type": "table"
           }
          ]
         },
         "layout": {
          "annotationdefaults": {
           "arrowcolor": "#2a3f5f",
           "arrowhead": 0,
           "arrowwidth": 1
          },
          "autotypenumbers": "strict",
          "coloraxis": {
           "colorbar": {
            "outlinewidth": 0,
            "ticks": ""
           }
          },
          "colorscale": {
           "diverging": [
            [
             0,
             "#8e0152"
            ],
            [
             0.1,
             "#c51b7d"
            ],
            [
             0.2,
             "#de77ae"
            ],
            [
             0.3,
             "#f1b6da"
            ],
            [
             0.4,
             "#fde0ef"
            ],
            [
             0.5,
             "#f7f7f7"
            ],
            [
             0.6,
             "#e6f5d0"
            ],
            [
             0.7,
             "#b8e186"
            ],
            [
             0.8,
             "#7fbc41"
            ],
            [
             0.9,
             "#4d9221"
            ],
            [
             1,
             "#276419"
            ]
           ],
           "sequential": [
            [
             0,
             "#0d0887"
            ],
            [
             0.1111111111111111,
             "#46039f"
            ],
            [
             0.2222222222222222,
             "#7201a8"
            ],
            [
             0.3333333333333333,
             "#9c179e"
            ],
            [
             0.4444444444444444,
             "#bd3786"
            ],
            [
             0.5555555555555556,
             "#d8576b"
            ],
            [
             0.6666666666666666,
             "#ed7953"
            ],
            [
             0.7777777777777778,
             "#fb9f3a"
            ],
            [
             0.8888888888888888,
             "#fdca26"
            ],
            [
             1,
             "#f0f921"
            ]
           ],
           "sequentialminus": [
            [
             0,
             "#0d0887"
            ],
            [
             0.1111111111111111,
             "#46039f"
            ],
            [
             0.2222222222222222,
             "#7201a8"
            ],
            [
             0.3333333333333333,
             "#9c179e"
            ],
            [
             0.4444444444444444,
             "#bd3786"
            ],
            [
             0.5555555555555556,
             "#d8576b"
            ],
            [
             0.6666666666666666,
             "#ed7953"
            ],
            [
             0.7777777777777778,
             "#fb9f3a"
            ],
            [
             0.8888888888888888,
             "#fdca26"
            ],
            [
             1,
             "#f0f921"
            ]
           ]
          },
          "colorway": [
           "#636efa",
           "#EF553B",
           "#00cc96",
           "#ab63fa",
           "#FFA15A",
           "#19d3f3",
           "#FF6692",
           "#B6E880",
           "#FF97FF",
           "#FECB52"
          ],
          "font": {
           "color": "#2a3f5f"
          },
          "geo": {
           "bgcolor": "white",
           "lakecolor": "white",
           "landcolor": "#E5ECF6",
           "showlakes": true,
           "showland": true,
           "subunitcolor": "white"
          },
          "hoverlabel": {
           "align": "left"
          },
          "hovermode": "closest",
          "mapbox": {
           "style": "light"
          },
          "paper_bgcolor": "white",
          "plot_bgcolor": "#E5ECF6",
          "polar": {
           "angularaxis": {
            "gridcolor": "white",
            "linecolor": "white",
            "ticks": ""
           },
           "bgcolor": "#E5ECF6",
           "radialaxis": {
            "gridcolor": "white",
            "linecolor": "white",
            "ticks": ""
           }
          },
          "scene": {
           "xaxis": {
            "backgroundcolor": "#E5ECF6",
            "gridcolor": "white",
            "gridwidth": 2,
            "linecolor": "white",
            "showbackground": true,
            "ticks": "",
            "zerolinecolor": "white"
           },
           "yaxis": {
            "backgroundcolor": "#E5ECF6",
            "gridcolor": "white",
            "gridwidth": 2,
            "linecolor": "white",
            "showbackground": true,
            "ticks": "",
            "zerolinecolor": "white"
           },
           "zaxis": {
            "backgroundcolor": "#E5ECF6",
            "gridcolor": "white",
            "gridwidth": 2,
            "linecolor": "white",
            "showbackground": true,
            "ticks": "",
            "zerolinecolor": "white"
           }
          },
          "shapedefaults": {
           "line": {
            "color": "#2a3f5f"
           }
          },
          "ternary": {
           "aaxis": {
            "gridcolor": "white",
            "linecolor": "white",
            "ticks": ""
           },
           "baxis": {
            "gridcolor": "white",
            "linecolor": "white",
            "ticks": ""
           },
           "bgcolor": "#E5ECF6",
           "caxis": {
            "gridcolor": "white",
            "linecolor": "white",
            "ticks": ""
           }
          },
          "title": {
           "x": 0.05
          },
          "xaxis": {
           "automargin": true,
           "gridcolor": "white",
           "linecolor": "white",
           "ticks": "",
           "title": {
            "standoff": 15
           },
           "zerolinecolor": "white",
           "zerolinewidth": 2
          },
          "yaxis": {
           "automargin": true,
           "gridcolor": "white",
           "linecolor": "white",
           "ticks": "",
           "title": {
            "standoff": 15
           },
           "zerolinecolor": "white",
           "zerolinewidth": 2
          }
         }
        },
        "yaxis": {
         "title": {
          "text": "Percentage of Patients"
         }
        }
       }
      },
      "text/html": [
       "<div>                            <div id=\"a7925d0b-a96c-4f6e-ae15-10cf5cb4f69a\" class=\"plotly-graph-div\" style=\"height:525px; width:100%;\"></div>            <script type=\"text/javascript\">                require([\"plotly\"], function(Plotly) {                    window.PLOTLYENV=window.PLOTLYENV || {};                                    if (document.getElementById(\"a7925d0b-a96c-4f6e-ae15-10cf5cb4f69a\")) {                    Plotly.newPlot(                        \"a7925d0b-a96c-4f6e-ae15-10cf5cb4f69a\",                        [{\"marker\":{\"color\":\"rgba(0,128,0, 0.6)\",\"line\":{\"color\":\"rgba(0,128,0, 0.5)\",\"width\":0.05}},\"name\":\"Vanderbilt\",\"type\":\"bar\",\"x\":[\"TULLAHOMA\",\"LAWRENCEBURG\",\"LEBANON\",\"FRANKLIN\",\"CLARKSVILLE\"],\"y\":[10.365935692183506,10.24959926723151,8.695861405197306,7.0430035947277325,6.981957353745216]},{\"marker\":{\"color\":\"rgba(0,0,255, 0.6)\",\"line\":{\"color\":\"rgba(0,0,255, 0.5)\",\"width\":0.05}},\"name\":\"Other\",\"type\":\"bar\",\"x\":[\"TULLAHOMA\",\"LAWRENCEBURG\",\"LEBANON\",\"FRANKLIN\",\"CLARKSVILLE\"],\"y\":[89.63406430781649,89.7504007327685,91.3041385948027,92.95699640527226,93.01804264625478]}],                        {\"barmode\":\"stack\",\"hovermode\":\"x\",\"template\":{\"data\":{\"bar\":[{\"error_x\":{\"color\":\"#2a3f5f\"},\"error_y\":{\"color\":\"#2a3f5f\"},\"marker\":{\"line\":{\"color\":\"#E5ECF6\",\"width\":0.5},\"pattern\":{\"fillmode\":\"overlay\",\"size\":10,\"solidity\":0.2}},\"type\":\"bar\"}],\"barpolar\":[{\"marker\":{\"line\":{\"color\":\"#E5ECF6\",\"width\":0.5},\"pattern\":{\"fillmode\":\"overlay\",\"size\":10,\"solidity\":0.2}},\"type\":\"barpolar\"}],\"carpet\":[{\"aaxis\":{\"endlinecolor\":\"#2a3f5f\",\"gridcolor\":\"white\",\"linecolor\":\"white\",\"minorgridcolor\":\"white\",\"startlinecolor\":\"#2a3f5f\"},\"baxis\":{\"endlinecolor\":\"#2a3f5f\",\"gridcolor\":\"white\",\"linecolor\":\"white\",\"minorgridcolor\":\"white\",\"startlinecolor\":\"#2a3f5f\"},\"type\":\"carpet\"}],\"choropleth\":[{\"colorbar\":{\"outlinewidth\":0,\"ticks\":\"\"},\"type\":\"choropleth\"}],\"contour\":[{\"colorbar\":{\"outlinewidth\":0,\"ticks\":\"\"},\"colorscale\":[[0.0,\"#0d0887\"],[0.1111111111111111,\"#46039f\"],[0.2222222222222222,\"#7201a8\"],[0.3333333333333333,\"#9c179e\"],[0.4444444444444444,\"#bd3786\"],[0.5555555555555556,\"#d8576b\"],[0.6666666666666666,\"#ed7953\"],[0.7777777777777778,\"#fb9f3a\"],[0.8888888888888888,\"#fdca26\"],[1.0,\"#f0f921\"]],\"type\":\"contour\"}],\"contourcarpet\":[{\"colorbar\":{\"outlinewidth\":0,\"ticks\":\"\"},\"type\":\"contourcarpet\"}],\"heatmap\":[{\"colorbar\":{\"outlinewidth\":0,\"ticks\":\"\"},\"colorscale\":[[0.0,\"#0d0887\"],[0.1111111111111111,\"#46039f\"],[0.2222222222222222,\"#7201a8\"],[0.3333333333333333,\"#9c179e\"],[0.4444444444444444,\"#bd3786\"],[0.5555555555555556,\"#d8576b\"],[0.6666666666666666,\"#ed7953\"],[0.7777777777777778,\"#fb9f3a\"],[0.8888888888888888,\"#fdca26\"],[1.0,\"#f0f921\"]],\"type\":\"heatmap\"}],\"heatmapgl\":[{\"colorbar\":{\"outlinewidth\":0,\"ticks\":\"\"},\"colorscale\":[[0.0,\"#0d0887\"],[0.1111111111111111,\"#46039f\"],[0.2222222222222222,\"#7201a8\"],[0.3333333333333333,\"#9c179e\"],[0.4444444444444444,\"#bd3786\"],[0.5555555555555556,\"#d8576b\"],[0.6666666666666666,\"#ed7953\"],[0.7777777777777778,\"#fb9f3a\"],[0.8888888888888888,\"#fdca26\"],[1.0,\"#f0f921\"]],\"type\":\"heatmapgl\"}],\"histogram\":[{\"marker\":{\"pattern\":{\"fillmode\":\"overlay\",\"size\":10,\"solidity\":0.2}},\"type\":\"histogram\"}],\"histogram2d\":[{\"colorbar\":{\"outlinewidth\":0,\"ticks\":\"\"},\"colorscale\":[[0.0,\"#0d0887\"],[0.1111111111111111,\"#46039f\"],[0.2222222222222222,\"#7201a8\"],[0.3333333333333333,\"#9c179e\"],[0.4444444444444444,\"#bd3786\"],[0.5555555555555556,\"#d8576b\"],[0.6666666666666666,\"#ed7953\"],[0.7777777777777778,\"#fb9f3a\"],[0.8888888888888888,\"#fdca26\"],[1.0,\"#f0f921\"]],\"type\":\"histogram2d\"}],\"histogram2dcontour\":[{\"colorbar\":{\"outlinewidth\":0,\"ticks\":\"\"},\"colorscale\":[[0.0,\"#0d0887\"],[0.1111111111111111,\"#46039f\"],[0.2222222222222222,\"#7201a8\"],[0.3333333333333333,\"#9c179e\"],[0.4444444444444444,\"#bd3786\"],[0.5555555555555556,\"#d8576b\"],[0.6666666666666666,\"#ed7953\"],[0.7777777777777778,\"#fb9f3a\"],[0.8888888888888888,\"#fdca26\"],[1.0,\"#f0f921\"]],\"type\":\"histogram2dcontour\"}],\"mesh3d\":[{\"colorbar\":{\"outlinewidth\":0,\"ticks\":\"\"},\"type\":\"mesh3d\"}],\"parcoords\":[{\"line\":{\"colorbar\":{\"outlinewidth\":0,\"ticks\":\"\"}},\"type\":\"parcoords\"}],\"pie\":[{\"automargin\":true,\"type\":\"pie\"}],\"scatter\":[{\"marker\":{\"colorbar\":{\"outlinewidth\":0,\"ticks\":\"\"}},\"type\":\"scatter\"}],\"scatter3d\":[{\"line\":{\"colorbar\":{\"outlinewidth\":0,\"ticks\":\"\"}},\"marker\":{\"colorbar\":{\"outlinewidth\":0,\"ticks\":\"\"}},\"type\":\"scatter3d\"}],\"scattercarpet\":[{\"marker\":{\"colorbar\":{\"outlinewidth\":0,\"ticks\":\"\"}},\"type\":\"scattercarpet\"}],\"scattergeo\":[{\"marker\":{\"colorbar\":{\"outlinewidth\":0,\"ticks\":\"\"}},\"type\":\"scattergeo\"}],\"scattergl\":[{\"marker\":{\"colorbar\":{\"outlinewidth\":0,\"ticks\":\"\"}},\"type\":\"scattergl\"}],\"scattermapbox\":[{\"marker\":{\"colorbar\":{\"outlinewidth\":0,\"ticks\":\"\"}},\"type\":\"scattermapbox\"}],\"scatterpolar\":[{\"marker\":{\"colorbar\":{\"outlinewidth\":0,\"ticks\":\"\"}},\"type\":\"scatterpolar\"}],\"scatterpolargl\":[{\"marker\":{\"colorbar\":{\"outlinewidth\":0,\"ticks\":\"\"}},\"type\":\"scatterpolargl\"}],\"scatterternary\":[{\"marker\":{\"colorbar\":{\"outlinewidth\":0,\"ticks\":\"\"}},\"type\":\"scatterternary\"}],\"surface\":[{\"colorbar\":{\"outlinewidth\":0,\"ticks\":\"\"},\"colorscale\":[[0.0,\"#0d0887\"],[0.1111111111111111,\"#46039f\"],[0.2222222222222222,\"#7201a8\"],[0.3333333333333333,\"#9c179e\"],[0.4444444444444444,\"#bd3786\"],[0.5555555555555556,\"#d8576b\"],[0.6666666666666666,\"#ed7953\"],[0.7777777777777778,\"#fb9f3a\"],[0.8888888888888888,\"#fdca26\"],[1.0,\"#f0f921\"]],\"type\":\"surface\"}],\"table\":[{\"cells\":{\"fill\":{\"color\":\"#EBF0F8\"},\"line\":{\"color\":\"white\"}},\"header\":{\"fill\":{\"color\":\"#C8D4E3\"},\"line\":{\"color\":\"white\"}},\"type\":\"table\"}]},\"layout\":{\"annotationdefaults\":{\"arrowcolor\":\"#2a3f5f\",\"arrowhead\":0,\"arrowwidth\":1},\"autotypenumbers\":\"strict\",\"coloraxis\":{\"colorbar\":{\"outlinewidth\":0,\"ticks\":\"\"}},\"colorscale\":{\"diverging\":[[0,\"#8e0152\"],[0.1,\"#c51b7d\"],[0.2,\"#de77ae\"],[0.3,\"#f1b6da\"],[0.4,\"#fde0ef\"],[0.5,\"#f7f7f7\"],[0.6,\"#e6f5d0\"],[0.7,\"#b8e186\"],[0.8,\"#7fbc41\"],[0.9,\"#4d9221\"],[1,\"#276419\"]],\"sequential\":[[0.0,\"#0d0887\"],[0.1111111111111111,\"#46039f\"],[0.2222222222222222,\"#7201a8\"],[0.3333333333333333,\"#9c179e\"],[0.4444444444444444,\"#bd3786\"],[0.5555555555555556,\"#d8576b\"],[0.6666666666666666,\"#ed7953\"],[0.7777777777777778,\"#fb9f3a\"],[0.8888888888888888,\"#fdca26\"],[1.0,\"#f0f921\"]],\"sequentialminus\":[[0.0,\"#0d0887\"],[0.1111111111111111,\"#46039f\"],[0.2222222222222222,\"#7201a8\"],[0.3333333333333333,\"#9c179e\"],[0.4444444444444444,\"#bd3786\"],[0.5555555555555556,\"#d8576b\"],[0.6666666666666666,\"#ed7953\"],[0.7777777777777778,\"#fb9f3a\"],[0.8888888888888888,\"#fdca26\"],[1.0,\"#f0f921\"]]},\"colorway\":[\"#636efa\",\"#EF553B\",\"#00cc96\",\"#ab63fa\",\"#FFA15A\",\"#19d3f3\",\"#FF6692\",\"#B6E880\",\"#FF97FF\",\"#FECB52\"],\"font\":{\"color\":\"#2a3f5f\"},\"geo\":{\"bgcolor\":\"white\",\"lakecolor\":\"white\",\"landcolor\":\"#E5ECF6\",\"showlakes\":true,\"showland\":true,\"subunitcolor\":\"white\"},\"hoverlabel\":{\"align\":\"left\"},\"hovermode\":\"closest\",\"mapbox\":{\"style\":\"light\"},\"paper_bgcolor\":\"white\",\"plot_bgcolor\":\"#E5ECF6\",\"polar\":{\"angularaxis\":{\"gridcolor\":\"white\",\"linecolor\":\"white\",\"ticks\":\"\"},\"bgcolor\":\"#E5ECF6\",\"radialaxis\":{\"gridcolor\":\"white\",\"linecolor\":\"white\",\"ticks\":\"\"}},\"scene\":{\"xaxis\":{\"backgroundcolor\":\"#E5ECF6\",\"gridcolor\":\"white\",\"gridwidth\":2,\"linecolor\":\"white\",\"showbackground\":true,\"ticks\":\"\",\"zerolinecolor\":\"white\"},\"yaxis\":{\"backgroundcolor\":\"#E5ECF6\",\"gridcolor\":\"white\",\"gridwidth\":2,\"linecolor\":\"white\",\"showbackground\":true,\"ticks\":\"\",\"zerolinecolor\":\"white\"},\"zaxis\":{\"backgroundcolor\":\"#E5ECF6\",\"gridcolor\":\"white\",\"gridwidth\":2,\"linecolor\":\"white\",\"showbackground\":true,\"ticks\":\"\",\"zerolinecolor\":\"white\"}},\"shapedefaults\":{\"line\":{\"color\":\"#2a3f5f\"}},\"ternary\":{\"aaxis\":{\"gridcolor\":\"white\",\"linecolor\":\"white\",\"ticks\":\"\"},\"baxis\":{\"gridcolor\":\"white\",\"linecolor\":\"white\",\"ticks\":\"\"},\"bgcolor\":\"#E5ECF6\",\"caxis\":{\"gridcolor\":\"white\",\"linecolor\":\"white\",\"ticks\":\"\"}},\"title\":{\"x\":0.05},\"xaxis\":{\"automargin\":true,\"gridcolor\":\"white\",\"linecolor\":\"white\",\"ticks\":\"\",\"title\":{\"standoff\":15},\"zerolinecolor\":\"white\",\"zerolinewidth\":2},\"yaxis\":{\"automargin\":true,\"gridcolor\":\"white\",\"linecolor\":\"white\",\"ticks\":\"\",\"title\":{\"standoff\":15},\"zerolinecolor\":\"white\",\"zerolinewidth\":2}}},\"yaxis\":{\"title\":{\"text\":\"Percentage of Patients\"}}},                        {\"responsive\": true}                    ).then(function(){\n",
       "                            \n",
       "var gd = document.getElementById('a7925d0b-a96c-4f6e-ae15-10cf5cb4f69a');\n",
       "var x = new MutationObserver(function (mutations, observer) {{\n",
       "        var display = window.getComputedStyle(gd).display;\n",
       "        if (!display || display === 'none') {{\n",
       "            console.log([gd, 'removed!']);\n",
       "            Plotly.purge(gd);\n",
       "            observer.disconnect();\n",
       "        }}\n",
       "}});\n",
       "\n",
       "// Listen for the removal of the full notebook cells\n",
       "var notebookContainer = gd.closest('#notebook-container');\n",
       "if (notebookContainer) {{\n",
       "    x.observe(notebookContainer, {childList: true});\n",
       "}}\n",
       "\n",
       "// Listen for the clearing of the current output cell\n",
       "var outputEl = gd.closest('.output');\n",
       "if (outputEl) {{\n",
       "    x.observe(outputEl, {childList: true});\n",
       "}}\n",
       "\n",
       "                        })                };                });            </script>        </div>"
      ]
     },
     "metadata": {},
     "output_type": "display_data"
    }
   ],
   "source": [
    "fig = go.Figure()\n",
    "fig.add_trace(go.Bar(\n",
    "    y=top_5_abv_avg['Referrals to Vanderbilt'],\n",
    "    x=top_5_abv_avg.city_from,\n",
    "    name=\"Vanderbilt\",\n",
    "    marker=dict(\n",
    "        color='rgba(0,128,0, 0.6)',\n",
    "        line=dict(color='rgba(0,128,0, 0.5)', width=0.05)\n",
    "    )))\n",
    "\n",
    "fig.add_trace(go.Bar(\n",
    "    y=top_5_abv_avg['Referrals to Other Facilities'],\n",
    "    x=top_5_abv_avg.city_from,\n",
    "    name=\"Other\",\n",
    "    marker=dict(\n",
    "        color='rgba(0,0,255, 0.6)',\n",
    "        line=dict(color='rgba(0,0,255, 0.5)', width=0.05)\n",
    "    )\n",
    "))\n",
    "\n",
    "fig.update_layout(barmode = 'stack',\n",
    "                  hovermode = 'x', \n",
    "                  yaxis = dict(title_text = 'Percentage of Patients'))\n",
    "fig.show()"
   ]
  },
  {
   "cell_type": "code",
   "execution_count": 553,
   "id": "9925a703",
   "metadata": {},
   "outputs": [
    {
     "data": {
      "text/html": [
       "<div>\n",
       "<style scoped>\n",
       "    .dataframe tbody tr th:only-of-type {\n",
       "        vertical-align: middle;\n",
       "    }\n",
       "\n",
       "    .dataframe tbody tr th {\n",
       "        vertical-align: top;\n",
       "    }\n",
       "\n",
       "    .dataframe thead th {\n",
       "        text-align: right;\n",
       "    }\n",
       "</style>\n",
       "<table border=\"1\" class=\"dataframe\">\n",
       "  <thead>\n",
       "    <tr style=\"text-align: right;\">\n",
       "      <th></th>\n",
       "      <th>city_from</th>\n",
       "      <th>state_from</th>\n",
       "      <th>sum_vandy_patients</th>\n",
       "      <th>num_vandy_doctors</th>\n",
       "      <th>sum_other_patients</th>\n",
       "      <th>num_other_doctors</th>\n",
       "      <th>total_p</th>\n",
       "      <th>total_d</th>\n",
       "      <th>vandy_percentage</th>\n",
       "      <th>other_percentage</th>\n",
       "    </tr>\n",
       "  </thead>\n",
       "  <tbody>\n",
       "    <tr>\n",
       "      <th>82</th>\n",
       "      <td>TULLAHOMA</td>\n",
       "      <td>TN</td>\n",
       "      <td>3082</td>\n",
       "      <td>24</td>\n",
       "      <td>26650</td>\n",
       "      <td>56</td>\n",
       "      <td>29732</td>\n",
       "      <td>80</td>\n",
       "      <td>10.37</td>\n",
       "      <td>89.63</td>\n",
       "    </tr>\n",
       "    <tr>\n",
       "      <th>44</th>\n",
       "      <td>LAWRENCEBURG</td>\n",
       "      <td>TN</td>\n",
       "      <td>2238</td>\n",
       "      <td>24</td>\n",
       "      <td>19597</td>\n",
       "      <td>42</td>\n",
       "      <td>21835</td>\n",
       "      <td>66</td>\n",
       "      <td>10.25</td>\n",
       "      <td>89.75</td>\n",
       "    </tr>\n",
       "    <tr>\n",
       "      <th>45</th>\n",
       "      <td>LEBANON</td>\n",
       "      <td>TN</td>\n",
       "      <td>5421</td>\n",
       "      <td>29</td>\n",
       "      <td>56919</td>\n",
       "      <td>77</td>\n",
       "      <td>62340</td>\n",
       "      <td>106</td>\n",
       "      <td>8.70</td>\n",
       "      <td>91.30</td>\n",
       "    </tr>\n",
       "    <tr>\n",
       "      <th>24</th>\n",
       "      <td>FRANKLIN</td>\n",
       "      <td>TN</td>\n",
       "      <td>3703</td>\n",
       "      <td>26</td>\n",
       "      <td>48874</td>\n",
       "      <td>113</td>\n",
       "      <td>52577</td>\n",
       "      <td>139</td>\n",
       "      <td>7.04</td>\n",
       "      <td>92.96</td>\n",
       "    </tr>\n",
       "    <tr>\n",
       "      <th>10</th>\n",
       "      <td>CLARKSVILLE</td>\n",
       "      <td>TN</td>\n",
       "      <td>10216</td>\n",
       "      <td>55</td>\n",
       "      <td>136104</td>\n",
       "      <td>144</td>\n",
       "      <td>146320</td>\n",
       "      <td>199</td>\n",
       "      <td>6.98</td>\n",
       "      <td>93.02</td>\n",
       "    </tr>\n",
       "  </tbody>\n",
       "</table>\n",
       "</div>"
      ],
      "text/plain": [
       "       city_from state_from  sum_vandy_patients  num_vandy_doctors  \\\n",
       "82     TULLAHOMA         TN                3082                 24   \n",
       "44  LAWRENCEBURG         TN                2238                 24   \n",
       "45       LEBANON         TN                5421                 29   \n",
       "24      FRANKLIN         TN                3703                 26   \n",
       "10   CLARKSVILLE         TN               10216                 55   \n",
       "\n",
       "    sum_other_patients  num_other_doctors  total_p  total_d  vandy_percentage  \\\n",
       "82               26650                 56    29732       80             10.37   \n",
       "44               19597                 42    21835       66             10.25   \n",
       "45               56919                 77    62340      106              8.70   \n",
       "24               48874                113    52577      139              7.04   \n",
       "10              136104                144   146320      199              6.98   \n",
       "\n",
       "    other_percentage  \n",
       "82             89.63  \n",
       "44             89.75  \n",
       "45             91.30  \n",
       "24             92.96  \n",
       "10             93.02  "
      ]
     },
     "execution_count": 553,
     "metadata": {},
     "output_type": "execute_result"
    }
   ],
   "source": [
    "out_of_community_city_comp[out_of_community_city_comp['total_d'] >=\n",
    "                            out_of_community_city_comp['total_d'].mean()].sort_values('vandy_percentage', ascending=False).head(5)"
   ]
  },
  {
   "cell_type": "code",
   "execution_count": 547,
   "id": "4b7ba8b8",
   "metadata": {},
   "outputs": [
    {
     "data": {
      "text/html": [
       "<div>\n",
       "<style scoped>\n",
       "    .dataframe tbody tr th:only-of-type {\n",
       "        vertical-align: middle;\n",
       "    }\n",
       "\n",
       "    .dataframe tbody tr th {\n",
       "        vertical-align: top;\n",
       "    }\n",
       "\n",
       "    .dataframe thead th {\n",
       "        text-align: right;\n",
       "    }\n",
       "</style>\n",
       "<table border=\"1\" class=\"dataframe\">\n",
       "  <thead>\n",
       "    <tr style=\"text-align: right;\">\n",
       "      <th></th>\n",
       "      <th>city_from</th>\n",
       "      <th>state_from</th>\n",
       "      <th>sum_vandy_patients</th>\n",
       "      <th>num_vandy_doctors</th>\n",
       "      <th>sum_other_patients</th>\n",
       "      <th>num_other_doctors</th>\n",
       "      <th>total_p</th>\n",
       "      <th>total_d</th>\n",
       "      <th>vandy_percentage</th>\n",
       "      <th>other_percentage</th>\n",
       "    </tr>\n",
       "  </thead>\n",
       "  <tbody>\n",
       "    <tr>\n",
       "      <th>67</th>\n",
       "      <td>NASHVILLE</td>\n",
       "      <td>TN</td>\n",
       "      <td>38556</td>\n",
       "      <td>238</td>\n",
       "      <td>1195896</td>\n",
       "      <td>1230</td>\n",
       "      <td>1234452</td>\n",
       "      <td>1468</td>\n",
       "      <td>3.12</td>\n",
       "      <td>96.88</td>\n",
       "    </tr>\n",
       "  </tbody>\n",
       "</table>\n",
       "</div>"
      ],
      "text/plain": [
       "    city_from state_from  sum_vandy_patients  num_vandy_doctors  \\\n",
       "67  NASHVILLE         TN               38556                238   \n",
       "\n",
       "    sum_other_patients  num_other_doctors  total_p  total_d  vandy_percentage  \\\n",
       "67             1195896               1230  1234452     1468              3.12   \n",
       "\n",
       "    other_percentage  \n",
       "67             96.88  "
      ]
     },
     "execution_count": 547,
     "metadata": {},
     "output_type": "execute_result"
    }
   ],
   "source": [
    "out_of_community_city_comp[out_of_community_city_comp['city_from'] == 'NASHVILLE']"
   ]
  },
  {
   "cell_type": "code",
   "execution_count": 586,
   "id": "ac6a561b",
   "metadata": {},
   "outputs": [],
   "source": [
    "top_5_abv_avg.to_csv('data/top_5_abv_avg')\n",
    "top_5below_avg.to_csv('data/top_5below_avg')"
   ]
  },
  {
   "cell_type": "code",
   "execution_count": 591,
   "id": "81b85525",
   "metadata": {},
   "outputs": [
    {
     "data": {
      "text/html": [
       "<div>\n",
       "<style scoped>\n",
       "    .dataframe tbody tr th:only-of-type {\n",
       "        vertical-align: middle;\n",
       "    }\n",
       "\n",
       "    .dataframe tbody tr th {\n",
       "        vertical-align: top;\n",
       "    }\n",
       "\n",
       "    .dataframe thead th {\n",
       "        text-align: right;\n",
       "    }\n",
       "</style>\n",
       "<table border=\"1\" class=\"dataframe\">\n",
       "  <thead>\n",
       "    <tr style=\"text-align: right;\">\n",
       "      <th></th>\n",
       "      <th>city_from</th>\n",
       "      <th>state_from</th>\n",
       "      <th>sum_vandy_patients</th>\n",
       "      <th>num_vandy_doctors</th>\n",
       "      <th>sum_other_patients</th>\n",
       "      <th>num_other_doctors</th>\n",
       "      <th>total_p</th>\n",
       "      <th>total_d</th>\n",
       "      <th>vandy_percentage</th>\n",
       "      <th>other_percentage</th>\n",
       "    </tr>\n",
       "  </thead>\n",
       "  <tbody>\n",
       "    <tr>\n",
       "      <th>67</th>\n",
       "      <td>NASHVILLE</td>\n",
       "      <td>TN</td>\n",
       "      <td>38556</td>\n",
       "      <td>238</td>\n",
       "      <td>1195896</td>\n",
       "      <td>1230</td>\n",
       "      <td>1234452</td>\n",
       "      <td>1468</td>\n",
       "      <td>3.12</td>\n",
       "      <td>96.88</td>\n",
       "    </tr>\n",
       "    <tr>\n",
       "      <th>65</th>\n",
       "      <td>MURFREESBORO</td>\n",
       "      <td>TN</td>\n",
       "      <td>14489</td>\n",
       "      <td>119</td>\n",
       "      <td>320923</td>\n",
       "      <td>424</td>\n",
       "      <td>335412</td>\n",
       "      <td>543</td>\n",
       "      <td>4.32</td>\n",
       "      <td>95.68</td>\n",
       "    </tr>\n",
       "    <tr>\n",
       "      <th>12</th>\n",
       "      <td>COLUMBIA</td>\n",
       "      <td>TN</td>\n",
       "      <td>14885</td>\n",
       "      <td>84</td>\n",
       "      <td>262675</td>\n",
       "      <td>218</td>\n",
       "      <td>277560</td>\n",
       "      <td>302</td>\n",
       "      <td>5.36</td>\n",
       "      <td>94.64</td>\n",
       "    </tr>\n",
       "    <tr>\n",
       "      <th>32</th>\n",
       "      <td>HENDERSONVILLE</td>\n",
       "      <td>TN</td>\n",
       "      <td>2485</td>\n",
       "      <td>23</td>\n",
       "      <td>220076</td>\n",
       "      <td>142</td>\n",
       "      <td>222561</td>\n",
       "      <td>165</td>\n",
       "      <td>1.12</td>\n",
       "      <td>98.88</td>\n",
       "    </tr>\n",
       "    <tr>\n",
       "      <th>33</th>\n",
       "      <td>HERMITAGE</td>\n",
       "      <td>TN</td>\n",
       "      <td>5643</td>\n",
       "      <td>43</td>\n",
       "      <td>192447</td>\n",
       "      <td>115</td>\n",
       "      <td>198090</td>\n",
       "      <td>158</td>\n",
       "      <td>2.85</td>\n",
       "      <td>97.15</td>\n",
       "    </tr>\n",
       "    <tr>\n",
       "      <th>25</th>\n",
       "      <td>GALLATIN</td>\n",
       "      <td>TN</td>\n",
       "      <td>3044</td>\n",
       "      <td>28</td>\n",
       "      <td>153177</td>\n",
       "      <td>100</td>\n",
       "      <td>156221</td>\n",
       "      <td>128</td>\n",
       "      <td>1.95</td>\n",
       "      <td>98.05</td>\n",
       "    </tr>\n",
       "  </tbody>\n",
       "</table>\n",
       "</div>"
      ],
      "text/plain": [
       "         city_from state_from  sum_vandy_patients  num_vandy_doctors  \\\n",
       "67       NASHVILLE         TN               38556                238   \n",
       "65    MURFREESBORO         TN               14489                119   \n",
       "12        COLUMBIA         TN               14885                 84   \n",
       "32  HENDERSONVILLE         TN                2485                 23   \n",
       "33       HERMITAGE         TN                5643                 43   \n",
       "25        GALLATIN         TN                3044                 28   \n",
       "\n",
       "    sum_other_patients  num_other_doctors  total_p  total_d  vandy_percentage  \\\n",
       "67             1195896               1230  1234452     1468              3.12   \n",
       "65              320923                424   335412      543              4.32   \n",
       "12              262675                218   277560      302              5.36   \n",
       "32              220076                142   222561      165              1.12   \n",
       "33              192447                115   198090      158              2.85   \n",
       "25              153177                100   156221      128              1.95   \n",
       "\n",
       "    other_percentage  \n",
       "67             96.88  \n",
       "65             95.68  \n",
       "12             94.64  \n",
       "32             98.88  \n",
       "33             97.15  \n",
       "25             98.05  "
      ]
     },
     "execution_count": 591,
     "metadata": {},
     "output_type": "execute_result"
    }
   ],
   "source": [
    "out_of_community_city_comp.sort_values('total_p', ascending = False).head(6)"
   ]
  },
  {
   "cell_type": "code",
   "execution_count": null,
   "id": "a21609ea",
   "metadata": {},
   "outputs": [],
   "source": []
  }
 ],
 "metadata": {
  "kernelspec": {
   "display_name": "Python 3",
   "language": "python",
   "name": "python3"
  },
  "language_info": {
   "codemirror_mode": {
    "name": "ipython",
    "version": 3
   },
   "file_extension": ".py",
   "mimetype": "text/x-python",
   "name": "python",
   "nbconvert_exporter": "python",
   "pygments_lexer": "ipython3",
   "version": "3.8.8"
  }
 },
 "nbformat": 4,
 "nbformat_minor": 5
}

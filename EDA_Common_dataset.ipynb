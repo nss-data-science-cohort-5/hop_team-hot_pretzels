{
 "cells": [
  {
   "cell_type": "code",
   "execution_count": 1,
   "id": "77f335ca",
   "metadata": {},
   "outputs": [],
   "source": [
    "import pandas as pd\n",
    "import sqlite3\n",
    "import numpy as np\n",
    "import seaborn as sns\n",
    "sns.set(color_codes=True)\n",
    "import matplotlib.pyplot as plt\n",
    "%matplotlib inline\n",
    "import plotly.express as px\n",
    "import chart_studio.tools\n",
    "import chart_studio.plotly as py"
   ]
  },
  {
   "cell_type": "code",
   "execution_count": 2,
   "id": "5c47e2ab",
   "metadata": {
    "collapsed": true
   },
   "outputs": [
    {
     "name": "stdout",
     "output_type": "stream",
     "text": [
      "CPU times: user 4.24 s, sys: 325 ms, total: 4.57 s\n",
      "Wall time: 4.82 s\n"
     ]
    },
    {
     "data": {
      "text/html": [
       "<div>\n",
       "<style scoped>\n",
       "    .dataframe tbody tr th:only-of-type {\n",
       "        vertical-align: middle;\n",
       "    }\n",
       "\n",
       "    .dataframe tbody tr th {\n",
       "        vertical-align: top;\n",
       "    }\n",
       "\n",
       "    .dataframe thead th {\n",
       "        text-align: right;\n",
       "    }\n",
       "</style>\n",
       "<table border=\"1\" class=\"dataframe\">\n",
       "  <thead>\n",
       "    <tr style=\"text-align: right;\">\n",
       "      <th></th>\n",
       "      <th>from_npi</th>\n",
       "      <th>referral_id</th>\n",
       "      <th>entity_from</th>\n",
       "      <th>name_from</th>\n",
       "      <th>organization_from</th>\n",
       "      <th>taxonomy_code_from</th>\n",
       "      <th>classification_from</th>\n",
       "      <th>specialization_from</th>\n",
       "      <th>address_line1_from</th>\n",
       "      <th>address_line2_from</th>\n",
       "      <th>...</th>\n",
       "      <th>address_to</th>\n",
       "      <th>lat_from</th>\n",
       "      <th>lng_from</th>\n",
       "      <th>lat_to</th>\n",
       "      <th>lng_to</th>\n",
       "      <th>distance_miles</th>\n",
       "      <th>from_communityid</th>\n",
       "      <th>to_communityid</th>\n",
       "      <th>affiliation_from</th>\n",
       "      <th>affiliation_to</th>\n",
       "    </tr>\n",
       "  </thead>\n",
       "  <tbody>\n",
       "    <tr>\n",
       "      <th>0</th>\n",
       "      <td>1821080961</td>\n",
       "      <td>18854880</td>\n",
       "      <td>1.0</td>\n",
       "      <td>SHERWOOD, WILLIAM</td>\n",
       "      <td>None</td>\n",
       "      <td>207Q00000X</td>\n",
       "      <td>Family Medicine</td>\n",
       "      <td>None</td>\n",
       "      <td>302 N CONGRESS BLVD</td>\n",
       "      <td>None</td>\n",
       "      <td>...</td>\n",
       "      <td>400 E PUBLIC SQUARE, ALEXANDRIA, TN 37012</td>\n",
       "      <td>35.969171</td>\n",
       "      <td>-85.807472</td>\n",
       "      <td>36.077559</td>\n",
       "      <td>-86.033322</td>\n",
       "      <td>14.665166</td>\n",
       "      <td>20624.0</td>\n",
       "      <td>20624.0</td>\n",
       "      <td>NOT IN NASHVILLE</td>\n",
       "      <td>NO MAJOR AFFILIATION/OTHER</td>\n",
       "    </tr>\n",
       "    <tr>\n",
       "      <th>1</th>\n",
       "      <td>1679677199</td>\n",
       "      <td>104890727</td>\n",
       "      <td>2.0</td>\n",
       "      <td>None</td>\n",
       "      <td>CRIPPS, HOOPER &amp; RHODY, PLLC</td>\n",
       "      <td>207Q00000X</td>\n",
       "      <td>Family Medicine</td>\n",
       "      <td>None</td>\n",
       "      <td>302 N CONGRESS BLVD</td>\n",
       "      <td>None</td>\n",
       "      <td>...</td>\n",
       "      <td>400 E PUBLIC SQUARE, ALEXANDRIA, TN 37012</td>\n",
       "      <td>35.969171</td>\n",
       "      <td>-85.807472</td>\n",
       "      <td>36.077559</td>\n",
       "      <td>-86.033322</td>\n",
       "      <td>14.665166</td>\n",
       "      <td>NaN</td>\n",
       "      <td>20624.0</td>\n",
       "      <td>NOT IN NASHVILLE</td>\n",
       "      <td>NO MAJOR AFFILIATION/OTHER</td>\n",
       "    </tr>\n",
       "    <tr>\n",
       "      <th>2</th>\n",
       "      <td>1841282779</td>\n",
       "      <td>131966153</td>\n",
       "      <td>1.0</td>\n",
       "      <td>RHODY, KEVIN</td>\n",
       "      <td>None</td>\n",
       "      <td>207Q00000X</td>\n",
       "      <td>Family Medicine</td>\n",
       "      <td>None</td>\n",
       "      <td>302 N CONGRESS BLVD</td>\n",
       "      <td>None</td>\n",
       "      <td>...</td>\n",
       "      <td>400 E PUBLIC SQUARE, ALEXANDRIA, TN 37012</td>\n",
       "      <td>35.969171</td>\n",
       "      <td>-85.807472</td>\n",
       "      <td>36.077559</td>\n",
       "      <td>-86.033322</td>\n",
       "      <td>14.665166</td>\n",
       "      <td>20624.0</td>\n",
       "      <td>20624.0</td>\n",
       "      <td>NOT IN NASHVILLE</td>\n",
       "      <td>NO MAJOR AFFILIATION/OTHER</td>\n",
       "    </tr>\n",
       "    <tr>\n",
       "      <th>3</th>\n",
       "      <td>1770575607</td>\n",
       "      <td>146169993</td>\n",
       "      <td>1.0</td>\n",
       "      <td>COOPER, STEVEN</td>\n",
       "      <td>None</td>\n",
       "      <td>207Q00000X</td>\n",
       "      <td>Family Medicine</td>\n",
       "      <td>None</td>\n",
       "      <td>302 N CONGRESS BLVD</td>\n",
       "      <td>None</td>\n",
       "      <td>...</td>\n",
       "      <td>400 E PUBLIC SQUARE, ALEXANDRIA, TN 37012</td>\n",
       "      <td>35.969171</td>\n",
       "      <td>-85.807472</td>\n",
       "      <td>36.077559</td>\n",
       "      <td>-86.033322</td>\n",
       "      <td>14.665166</td>\n",
       "      <td>20624.0</td>\n",
       "      <td>20624.0</td>\n",
       "      <td>NOT IN NASHVILLE</td>\n",
       "      <td>NO MAJOR AFFILIATION/OTHER</td>\n",
       "    </tr>\n",
       "    <tr>\n",
       "      <th>4</th>\n",
       "      <td>1093741464</td>\n",
       "      <td>29450644</td>\n",
       "      <td>2.0</td>\n",
       "      <td>None</td>\n",
       "      <td>ADVANCED DIAGNOSTIC IMAGING, PC</td>\n",
       "      <td>207R00000X</td>\n",
       "      <td>Internal Medicine</td>\n",
       "      <td>None</td>\n",
       "      <td>3024 BUSINESS PARK CIR</td>\n",
       "      <td>None</td>\n",
       "      <td>...</td>\n",
       "      <td>400 E PUBLIC SQUARE, ALEXANDRIA, TN 37012</td>\n",
       "      <td>36.332108</td>\n",
       "      <td>-86.700830</td>\n",
       "      <td>36.077559</td>\n",
       "      <td>-86.033322</td>\n",
       "      <td>41.132856</td>\n",
       "      <td>NaN</td>\n",
       "      <td>20624.0</td>\n",
       "      <td>HCA</td>\n",
       "      <td>NO MAJOR AFFILIATION/OTHER</td>\n",
       "    </tr>\n",
       "    <tr>\n",
       "      <th>...</th>\n",
       "      <td>...</td>\n",
       "      <td>...</td>\n",
       "      <td>...</td>\n",
       "      <td>...</td>\n",
       "      <td>...</td>\n",
       "      <td>...</td>\n",
       "      <td>...</td>\n",
       "      <td>...</td>\n",
       "      <td>...</td>\n",
       "      <td>...</td>\n",
       "      <td>...</td>\n",
       "      <td>...</td>\n",
       "      <td>...</td>\n",
       "      <td>...</td>\n",
       "      <td>...</td>\n",
       "      <td>...</td>\n",
       "      <td>...</td>\n",
       "      <td>...</td>\n",
       "      <td>...</td>\n",
       "      <td>...</td>\n",
       "      <td>...</td>\n",
       "    </tr>\n",
       "    <tr>\n",
       "      <th>240562</th>\n",
       "      <td>1245257005</td>\n",
       "      <td>191055279</td>\n",
       "      <td>2.0</td>\n",
       "      <td>None</td>\n",
       "      <td>CARDIOLOGY AND INTERNAL MEDICINE GROUP OF NORT...</td>\n",
       "      <td>207R00000X</td>\n",
       "      <td>Internal Medicine</td>\n",
       "      <td>None</td>\n",
       "      <td>155 AVENUE E</td>\n",
       "      <td>None</td>\n",
       "      <td>...</td>\n",
       "      <td>1510 HATCHER LN, SUITE 1, COLUMBIA, TN 38401</td>\n",
       "      <td>29.721553</td>\n",
       "      <td>-84.991627</td>\n",
       "      <td>35.603333</td>\n",
       "      <td>-87.061742</td>\n",
       "      <td>423.526420</td>\n",
       "      <td>NaN</td>\n",
       "      <td>NaN</td>\n",
       "      <td>NOT IN NASHVILLE</td>\n",
       "      <td>NOT IN NASHVILLE</td>\n",
       "    </tr>\n",
       "    <tr>\n",
       "      <th>240563</th>\n",
       "      <td>1245623701</td>\n",
       "      <td>191233185</td>\n",
       "      <td>2.0</td>\n",
       "      <td>None</td>\n",
       "      <td>L &amp; K HEALTH SERVICES</td>\n",
       "      <td>363LF0000X</td>\n",
       "      <td>Nurse Practitioner</td>\n",
       "      <td>Family</td>\n",
       "      <td>1004 HICKORY HILL LN</td>\n",
       "      <td>SUITE 106</td>\n",
       "      <td>...</td>\n",
       "      <td>1324 TROTWOOD AVE STE 1, COLUMBIA, TN 38401</td>\n",
       "      <td>36.189579</td>\n",
       "      <td>-86.629045</td>\n",
       "      <td>35.600876</td>\n",
       "      <td>-87.072753</td>\n",
       "      <td>47.624578</td>\n",
       "      <td>NaN</td>\n",
       "      <td>NaN</td>\n",
       "      <td>NO MAJOR AFFILIATION/OTHER</td>\n",
       "      <td>NOT IN NASHVILLE</td>\n",
       "    </tr>\n",
       "    <tr>\n",
       "      <th>240564</th>\n",
       "      <td>1205875713</td>\n",
       "      <td>184518074</td>\n",
       "      <td>2.0</td>\n",
       "      <td>None</td>\n",
       "      <td>ACCELERATED REHABILITATION CENTERS LTD</td>\n",
       "      <td>225100000X</td>\n",
       "      <td>Physical Therapist</td>\n",
       "      <td>None</td>\n",
       "      <td>600 OAKMONT LN STE 600C</td>\n",
       "      <td>None</td>\n",
       "      <td>...</td>\n",
       "      <td>1810 SHADY BROOK ST STE 4, COLUMBIA, TN 38401</td>\n",
       "      <td>41.821708</td>\n",
       "      <td>-87.960959</td>\n",
       "      <td>35.602084</td>\n",
       "      <td>-87.057549</td>\n",
       "      <td>432.176893</td>\n",
       "      <td>NaN</td>\n",
       "      <td>NaN</td>\n",
       "      <td>NOT IN NASHVILLE</td>\n",
       "      <td>NOT IN NASHVILLE</td>\n",
       "    </tr>\n",
       "    <tr>\n",
       "      <th>240565</th>\n",
       "      <td>1558441311</td>\n",
       "      <td>31085666</td>\n",
       "      <td>2.0</td>\n",
       "      <td>None</td>\n",
       "      <td>KAU HOSPITAL</td>\n",
       "      <td>282NC0060X</td>\n",
       "      <td>General Acute Care Hospital</td>\n",
       "      <td>Critical Access</td>\n",
       "      <td>1 KAMANI STREET</td>\n",
       "      <td>None</td>\n",
       "      <td>...</td>\n",
       "      <td>166 FIFTH RD, SUMMERTOWN, TN 38483</td>\n",
       "      <td>19.199622</td>\n",
       "      <td>-155.472070</td>\n",
       "      <td>35.484525</td>\n",
       "      <td>-87.341322</td>\n",
       "      <td>4245.485254</td>\n",
       "      <td>NaN</td>\n",
       "      <td>NaN</td>\n",
       "      <td>NOT IN NASHVILLE</td>\n",
       "      <td>NOT IN NASHVILLE</td>\n",
       "    </tr>\n",
       "    <tr>\n",
       "      <th>240566</th>\n",
       "      <td>1144304338</td>\n",
       "      <td>160483987</td>\n",
       "      <td>2.0</td>\n",
       "      <td>None</td>\n",
       "      <td>KAU HOSPITAL</td>\n",
       "      <td>261QR1300X</td>\n",
       "      <td>Clinic/Center</td>\n",
       "      <td>Rural Health</td>\n",
       "      <td>1 KAMANI STREET</td>\n",
       "      <td>None</td>\n",
       "      <td>...</td>\n",
       "      <td>166 FIFTH RD, SUMMERTOWN, TN 38483</td>\n",
       "      <td>19.199622</td>\n",
       "      <td>-155.472070</td>\n",
       "      <td>35.484525</td>\n",
       "      <td>-87.341322</td>\n",
       "      <td>4245.485254</td>\n",
       "      <td>NaN</td>\n",
       "      <td>NaN</td>\n",
       "      <td>NOT IN NASHVILLE</td>\n",
       "      <td>NOT IN NASHVILLE</td>\n",
       "    </tr>\n",
       "  </tbody>\n",
       "</table>\n",
       "<p>240567 rows × 40 columns</p>\n",
       "</div>"
      ],
      "text/plain": [
       "          from_npi  referral_id  entity_from          name_from  \\\n",
       "0       1821080961     18854880          1.0  SHERWOOD, WILLIAM   \n",
       "1       1679677199    104890727          2.0               None   \n",
       "2       1841282779    131966153          1.0       RHODY, KEVIN   \n",
       "3       1770575607    146169993          1.0     COOPER, STEVEN   \n",
       "4       1093741464     29450644          2.0               None   \n",
       "...            ...          ...          ...                ...   \n",
       "240562  1245257005    191055279          2.0               None   \n",
       "240563  1245623701    191233185          2.0               None   \n",
       "240564  1205875713    184518074          2.0               None   \n",
       "240565  1558441311     31085666          2.0               None   \n",
       "240566  1144304338    160483987          2.0               None   \n",
       "\n",
       "                                        organization_from taxonomy_code_from  \\\n",
       "0                                                    None         207Q00000X   \n",
       "1                            CRIPPS, HOOPER & RHODY, PLLC         207Q00000X   \n",
       "2                                                    None         207Q00000X   \n",
       "3                                                    None         207Q00000X   \n",
       "4                         ADVANCED DIAGNOSTIC IMAGING, PC         207R00000X   \n",
       "...                                                   ...                ...   \n",
       "240562  CARDIOLOGY AND INTERNAL MEDICINE GROUP OF NORT...         207R00000X   \n",
       "240563                              L & K HEALTH SERVICES         363LF0000X   \n",
       "240564             ACCELERATED REHABILITATION CENTERS LTD         225100000X   \n",
       "240565                                       KAU HOSPITAL         282NC0060X   \n",
       "240566                                       KAU HOSPITAL         261QR1300X   \n",
       "\n",
       "                classification_from specialization_from  \\\n",
       "0                   Family Medicine                None   \n",
       "1                   Family Medicine                None   \n",
       "2                   Family Medicine                None   \n",
       "3                   Family Medicine                None   \n",
       "4                 Internal Medicine                None   \n",
       "...                             ...                 ...   \n",
       "240562            Internal Medicine                None   \n",
       "240563           Nurse Practitioner              Family   \n",
       "240564           Physical Therapist                None   \n",
       "240565  General Acute Care Hospital     Critical Access   \n",
       "240566                Clinic/Center        Rural Health   \n",
       "\n",
       "             address_line1_from address_line2_from  ...  \\\n",
       "0           302 N CONGRESS BLVD               None  ...   \n",
       "1           302 N CONGRESS BLVD               None  ...   \n",
       "2           302 N CONGRESS BLVD               None  ...   \n",
       "3           302 N CONGRESS BLVD               None  ...   \n",
       "4        3024 BUSINESS PARK CIR               None  ...   \n",
       "...                         ...                ...  ...   \n",
       "240562             155 AVENUE E               None  ...   \n",
       "240563     1004 HICKORY HILL LN          SUITE 106  ...   \n",
       "240564  600 OAKMONT LN STE 600C               None  ...   \n",
       "240565          1 KAMANI STREET               None  ...   \n",
       "240566          1 KAMANI STREET               None  ...   \n",
       "\n",
       "                                           address_to   lat_from    lng_from  \\\n",
       "0           400 E PUBLIC SQUARE, ALEXANDRIA, TN 37012  35.969171  -85.807472   \n",
       "1           400 E PUBLIC SQUARE, ALEXANDRIA, TN 37012  35.969171  -85.807472   \n",
       "2           400 E PUBLIC SQUARE, ALEXANDRIA, TN 37012  35.969171  -85.807472   \n",
       "3           400 E PUBLIC SQUARE, ALEXANDRIA, TN 37012  35.969171  -85.807472   \n",
       "4           400 E PUBLIC SQUARE, ALEXANDRIA, TN 37012  36.332108  -86.700830   \n",
       "...                                               ...        ...         ...   \n",
       "240562   1510 HATCHER LN, SUITE 1, COLUMBIA, TN 38401  29.721553  -84.991627   \n",
       "240563    1324 TROTWOOD AVE STE 1, COLUMBIA, TN 38401  36.189579  -86.629045   \n",
       "240564  1810 SHADY BROOK ST STE 4, COLUMBIA, TN 38401  41.821708  -87.960959   \n",
       "240565             166 FIFTH RD, SUMMERTOWN, TN 38483  19.199622 -155.472070   \n",
       "240566             166 FIFTH RD, SUMMERTOWN, TN 38483  19.199622 -155.472070   \n",
       "\n",
       "           lat_to     lng_to distance_miles from_communityid to_communityid  \\\n",
       "0       36.077559 -86.033322      14.665166          20624.0        20624.0   \n",
       "1       36.077559 -86.033322      14.665166              NaN        20624.0   \n",
       "2       36.077559 -86.033322      14.665166          20624.0        20624.0   \n",
       "3       36.077559 -86.033322      14.665166          20624.0        20624.0   \n",
       "4       36.077559 -86.033322      41.132856              NaN        20624.0   \n",
       "...           ...        ...            ...              ...            ...   \n",
       "240562  35.603333 -87.061742     423.526420              NaN            NaN   \n",
       "240563  35.600876 -87.072753      47.624578              NaN            NaN   \n",
       "240564  35.602084 -87.057549     432.176893              NaN            NaN   \n",
       "240565  35.484525 -87.341322    4245.485254              NaN            NaN   \n",
       "240566  35.484525 -87.341322    4245.485254              NaN            NaN   \n",
       "\n",
       "                  affiliation_from              affiliation_to  \n",
       "0                 NOT IN NASHVILLE  NO MAJOR AFFILIATION/OTHER  \n",
       "1                 NOT IN NASHVILLE  NO MAJOR AFFILIATION/OTHER  \n",
       "2                 NOT IN NASHVILLE  NO MAJOR AFFILIATION/OTHER  \n",
       "3                 NOT IN NASHVILLE  NO MAJOR AFFILIATION/OTHER  \n",
       "4                              HCA  NO MAJOR AFFILIATION/OTHER  \n",
       "...                            ...                         ...  \n",
       "240562            NOT IN NASHVILLE            NOT IN NASHVILLE  \n",
       "240563  NO MAJOR AFFILIATION/OTHER            NOT IN NASHVILLE  \n",
       "240564            NOT IN NASHVILLE            NOT IN NASHVILLE  \n",
       "240565            NOT IN NASHVILLE            NOT IN NASHVILLE  \n",
       "240566            NOT IN NASHVILLE            NOT IN NASHVILLE  \n",
       "\n",
       "[240567 rows x 40 columns]"
      ]
     },
     "execution_count": 2,
     "metadata": {},
     "output_type": "execute_result"
    }
   ],
   "source": [
    "%%time\n",
    "# Get all rows of referrals_geo together with communities from Louvain algorithm\n",
    "query = \"\"\"\n",
    "     \n",
    "     SELECT *\n",
    "     FROM referrals_geo\n",
    "     LEFT JOIN communities_from\n",
    "         USING (from_npi)\n",
    "     LEFT JOIN communities_to\n",
    "         USING (to_npi)\n",
    "     LEFT JOIN affiliations_from\n",
    "         USING (from_npi)\n",
    "     LEFT JOIN affiliations_to\n",
    "         USING (to_npi)\n",
    "\n",
    "\"\"\"\n",
    "\n",
    "with sqlite3.connect('data/hopteam_broad.sqlite') as db:\n",
    "    all_fields = pd.read_sql(query, db)\n",
    "    \n",
    "all_fields"
   ]
  },
  {
   "cell_type": "code",
   "execution_count": null,
   "id": "8bbf19a9",
   "metadata": {},
   "outputs": [],
   "source": [
    "plt.figure(figsize=(20,10))\n",
    "c= all_fields.corr() \n",
    "sns.heatmap(c[(c >= 0.4) | (c <= -0.4)], cmap= 'BrBG' , annot=True)\n",
    "c\n",
    "#"
   ]
  },
  {
   "cell_type": "code",
   "execution_count": null,
   "id": "a8359c96",
   "metadata": {},
   "outputs": [],
   "source": [
    "affiliations = all_fields[['affiliation_from','affiliation_to']].value_counts()\n",
    "affiliations = affiliations.to_frame()\n",
    "affiliations.nlargest(10, columns = affiliations)"
   ]
  },
  {
   "cell_type": "code",
   "execution_count": null,
   "id": "d38bcd83",
   "metadata": {},
   "outputs": [],
   "source": [
    "pd.crosstab(all_fields['affiliation_from'], \n",
    "            all_fields['affiliation_to'], normalize = 'index').plot(kind = 'bar', \n",
    "                                    edgecolor = 'black', \n",
    "                                    width = 0.75,\n",
    "                                    stacked = True,\n",
    "                                    figsize = (12,8))\n",
    "plt.ylabel('Counts');\n",
    "plt.legend(bbox_to_anchor = (1, 0.5), loc = 'center left');"
   ]
  },
  {
   "cell_type": "code",
   "execution_count": 3,
   "id": "493c22d0",
   "metadata": {},
   "outputs": [],
   "source": [
    "filtered_fields = all_fields[['from_npi',\n",
    "                              'referral_id',\n",
    "                              'name_from',\n",
    "                              'organization_from',\n",
    "                              'classification_from',\n",
    "                              'to_npi',\n",
    "                              'name_to',\n",
    "                              'organization_to',\n",
    "                              'classification_to',\n",
    "                              'from_communityid',\n",
    "                              'to_communityid',\n",
    "                              'affiliation_from',\n",
    "                              'affiliation_to',\n",
    "                              'patient_count',\n",
    "                              'transaction_count', \n",
    "                              'average_day_wait',\n",
    "                              'std_day_wait' ]]\n",
    "filtered_fields = (filtered_fields.dropna(subset = ['from_communityid', 'to_communityid'])\n",
    "                  )\n",
    "filtered_fields = filtered_fields.drop(columns = 'to_communityid')\n",
    "filtered_fields = filtered_fields.rename(columns = {'from_communityid':'communityid'})\n",
    "filtered_fields = filtered_fields[((filtered_fields['classification_to']!='Radiology') \n",
    "                                   & (filtered_fields['classification_to']!='Emergency')\n",
    "                                   & (filtered_fields['classification_to']!='Pathology') \n",
    "                                   & (filtered_fields['classification_to']!='Laboratory')\n",
    "                                   & (filtered_fields['classification_to']!='Anesthesiology'))]"
   ]
  },
  {
   "cell_type": "code",
   "execution_count": 57,
   "id": "d60fe90c",
   "metadata": {
    "collapsed": true
   },
   "outputs": [
    {
     "data": {
      "image/png": "[encoded data removed]",
      "text/plain": [
       "<Figure size 864x576 with 1 Axes>"
      ]
     },
     "metadata": {
      "needs_background": "light"
     },
     "output_type": "display_data"
    }
   ],
   "source": [
    "pd.crosstab(filtered_fields['affiliation_from'], \n",
    "            filtered_fields['affiliation_to']).plot(kind = 'bar', \n",
    "                                    edgecolor = 'black', \n",
    "                                    width = 0.75,\n",
    "                                    stacked = True,\n",
    "                                    figsize = (12,8))\n",
    "\n",
    "plt.ylabel('Counts', fontweight = 'bold')\n",
    "plt.yticks(fontweight = 'bold')\n",
    "plt.legend(bbox_to_anchor = (1, 0.5), loc = 'center left')\n",
    "plt.xticks(fontweight = 'bold');"
   ]
  },
  {
   "cell_type": "code",
   "execution_count": 17,
   "id": "93fc41fa",
   "metadata": {
    "collapsed": true
   },
   "outputs": [
    {
     "data": {
      "image/png": "[encoded data removed]",
      "text/plain": [
       "<Figure size 864x576 with 1 Axes>"
      ]
     },
     "metadata": {
      "needs_background": "light"
     },
     "output_type": "display_data"
    }
   ],
   "source": [
    "pd.crosstab(filtered_fields['affiliation_from'], \n",
    "            filtered_fields['affiliation_to'], normalize = 'index').plot(kind = 'bar', \n",
    "                                    edgecolor = 'black', \n",
    "                                    width = 0.75,\n",
    "                                    stacked = True,\n",
    "                                    figsize = (12,8),\n",
    "                                                                        fontsize = 15)\n",
    "\n",
    "plt.ylabel('Counts', fontweight = 'bold')\n",
    "plt.yticks(fontweight = 'bold')\n",
    "plt.legend(bbox_to_anchor = (1, 0.5), loc = 'center left',fontsize = 15)\n",
    "plt.xticks(fontweight = 'bold');\n",
    "#plt.savefig('data/affiliations.png');"
   ]
  },
  {
   "cell_type": "code",
   "execution_count": 4,
   "id": "ff0d390f",
   "metadata": {},
   "outputs": [],
   "source": [
    "crosstab = pd.crosstab(filtered_fields['affiliation_from'], \n",
    "            filtered_fields['affiliation_to'], normalize = 'index')"
   ]
  },
  {
   "cell_type": "code",
   "execution_count": 18,
   "id": "2c2607f2",
   "metadata": {},
   "outputs": [],
   "source": [
    "chart_studio.tools.set_credentials_file(username='james.a.gilbert', api_key='ojmzhFB4ylYBMMQwepbZ')"
   ]
  },
  {
   "cell_type": "code",
   "execution_count": 9,
   "id": "bcda03a4",
   "metadata": {
    "scrolled": false
   },
   "outputs": [
    {
     "data": {
      "application/vnd.plotly.v1+json": {
       "config": {
        "plotlyServerURL": "https://plotly.com"
       },
       "data": [
        {
         "alignmentgroup": "True",
         "hovertemplate": "Affiliation To=CHS<br>From Affiliation=%{x}<br>Percentage=%{y}<extra></extra>",
         "legendgroup": "CHS",
         "marker": {
          "color": "#636efa",
          "pattern": {
           "shape": ""
          }
         },
         "name": "CHS",
         "offsetgroup": "CHS",
         "orientation": "v",
         "showlegend": true,
         "textposition": "auto",
         "type": "bar",
         "x": [
          "CHS",
          "HCA",
          "LIFEPOINT",
          "NO MAJOR AFFILIATION/OTHER",
          "NOT IN NASHVILLE",
          "SAINT THOMAS ASCENSION",
          "SURGERY CENTER",
          "VANDERBILT"
         ],
         "xaxis": "x",
         "y": [
          0.06866197183098592,
          0.015586903517938,
          0.0036065573770491803,
          0.004794885455514118,
          0.009501862491318897,
          0.0042929621438792765,
          0.00558659217877095,
          0.0015651901706057287
         ],
         "yaxis": "y"
        },
        {
         "alignmentgroup": "True",
         "hovertemplate": "Affiliation To=HCA<br>From Affiliation=%{x}<br>Percentage=%{y}<extra></extra>",
         "legendgroup": "HCA",
         "marker": {
          "color": "#EF553B",
          "pattern": {
           "shape": ""
          }
         },
         "name": "HCA",
         "offsetgroup": "HCA",
         "orientation": "v",
         "showlegend": true,
         "textposition": "auto",
         "type": "bar",
         "x": [
          "CHS",
          "HCA",
          "LIFEPOINT",
          "NO MAJOR AFFILIATION/OTHER",
          "NOT IN NASHVILLE",
          "SAINT THOMAS ASCENSION",
          "SURGERY CENTER",
          "VANDERBILT"
         ],
         "xaxis": "x",
         "y": [
          0.397887323943662,
          0.5555120167189133,
          0.23737704918032787,
          0.29488545551411827,
          0.32066418334490815,
          0.25972420970469623,
          0.329608938547486,
          0.1789012365002348
         ],
         "yaxis": "y"
        },
        {
         "alignmentgroup": "True",
         "hovertemplate": "Affiliation To=LIFEPOINT<br>From Affiliation=%{x}<br>Percentage=%{y}<extra></extra>",
         "legendgroup": "LIFEPOINT",
         "marker": {
          "color": "#00cc96",
          "pattern": {
           "shape": ""
          }
         },
         "name": "LIFEPOINT",
         "offsetgroup": "LIFEPOINT",
         "orientation": "v",
         "showlegend": true,
         "textposition": "auto",
         "type": "bar",
         "x": [
          "CHS",
          "HCA",
          "LIFEPOINT",
          "NO MAJOR AFFILIATION/OTHER",
          "NOT IN NASHVILLE",
          "SAINT THOMAS ASCENSION",
          "SURGERY CENTER",
          "VANDERBILT"
         ],
         "xaxis": "x",
         "y": [
          0.03169014084507042,
          0.03152211772901428,
          0.21639344262295082,
          0.04022376132125732,
          0.025443525475093126,
          0.014505008455834526,
          0.00558659217877095,
          0.03905149475661293
         ],
         "yaxis": "y"
        },
        {
         "alignmentgroup": "True",
         "hovertemplate": "Affiliation To=NO MAJOR AFFILIATION/OTHER<br>From Affiliation=%{x}<br>Percentage=%{y}<extra></extra>",
         "legendgroup": "NO MAJOR AFFILIATION/OTHER",
         "marker": {
          "color": "#ab63fa",
          "pattern": {
           "shape": ""
          }
         },
         "name": "NO MAJOR AFFILIATION/OTHER",
         "offsetgroup": "NO MAJOR AFFILIATION/OTHER",
         "orientation": "v",
         "showlegend": true,
         "textposition": "auto",
         "type": "bar",
         "x": [
          "CHS",
          "HCA",
          "LIFEPOINT",
          "NO MAJOR AFFILIATION/OTHER",
          "NOT IN NASHVILLE",
          "SAINT THOMAS ASCENSION",
          "SURGERY CENTER",
          "VANDERBILT"
         ],
         "xaxis": "x",
         "y": [
          0.11267605633802817,
          0.10087948450017416,
          0.0898360655737705,
          0.26078849227490675,
          0.12399772712923796,
          0.06888252894497203,
          0.0670391061452514,
          0.06182501173892628
         ],
         "yaxis": "y"
        },
        {
         "alignmentgroup": "True",
         "hovertemplate": "Affiliation To=NOT IN NASHVILLE<br>From Affiliation=%{x}<br>Percentage=%{y}<extra></extra>",
         "legendgroup": "NOT IN NASHVILLE",
         "marker": {
          "color": "#FFA15A",
          "pattern": {
           "shape": ""
          }
         },
         "name": "NOT IN NASHVILLE",
         "offsetgroup": "NOT IN NASHVILLE",
         "orientation": "v",
         "showlegend": true,
         "textposition": "auto",
         "type": "bar",
         "x": [
          "CHS",
          "HCA",
          "LIFEPOINT",
          "NO MAJOR AFFILIATION/OTHER",
          "NOT IN NASHVILLE",
          "SAINT THOMAS ASCENSION",
          "SURGERY CENTER",
          "VANDERBILT"
         ],
         "xaxis": "x",
         "y": [
          0.06338028169014084,
          0.055033089515848135,
          0.038688524590163934,
          0.07671816728822589,
          0.2264347496685397,
          0.03401847274619488,
          0.027932960893854747,
          0.05172953513851933
         ],
         "yaxis": "y"
        },
        {
         "alignmentgroup": "True",
         "hovertemplate": "Affiliation To=SAINT THOMAS ASCENSION<br>From Affiliation=%{x}<br>Percentage=%{y}<extra></extra>",
         "legendgroup": "SAINT THOMAS ASCENSION",
         "marker": {
          "color": "#19d3f3",
          "pattern": {
           "shape": ""
          }
         },
         "name": "SAINT THOMAS ASCENSION",
         "offsetgroup": "SAINT THOMAS ASCENSION",
         "orientation": "v",
         "showlegend": true,
         "textposition": "auto",
         "type": "bar",
         "x": [
          "CHS",
          "HCA",
          "LIFEPOINT",
          "NO MAJOR AFFILIATION/OTHER",
          "NOT IN NASHVILLE",
          "SAINT THOMAS ASCENSION",
          "SURGERY CENTER",
          "VANDERBILT"
         ],
         "xaxis": "x",
         "y": [
          0.14964788732394366,
          0.10188087774294671,
          0.11934426229508197,
          0.11827384123601492,
          0.10685649346549655,
          0.49219461428385586,
          0.15083798882681565,
          0.08170292690561903
         ],
         "yaxis": "y"
        },
        {
         "alignmentgroup": "True",
         "hovertemplate": "Affiliation To=SURGERY CENTER<br>From Affiliation=%{x}<br>Percentage=%{y}<extra></extra>",
         "legendgroup": "SURGERY CENTER",
         "marker": {
          "color": "#FF6692",
          "pattern": {
           "shape": ""
          }
         },
         "name": "SURGERY CENTER",
         "offsetgroup": "SURGERY CENTER",
         "orientation": "v",
         "showlegend": true,
         "textposition": "auto",
         "type": "bar",
         "x": [
          "CHS",
          "HCA",
          "LIFEPOINT",
          "NO MAJOR AFFILIATION/OTHER",
          "NOT IN NASHVILLE",
          "SAINT THOMAS ASCENSION",
          "SURGERY CENTER",
          "VANDERBILT"
         ],
         "xaxis": "x",
         "y": [
          0.03697183098591549,
          0.00805468477882271,
          0.00819672131147541,
          0.010655301012253596,
          0.002588547256771261,
          0.007740340835176272,
          0.22346368715083798,
          0.004773830020347473
         ],
         "yaxis": "y"
        },
        {
         "alignmentgroup": "True",
         "hovertemplate": "Affiliation To=VANDERBILT<br>From Affiliation=%{x}<br>Percentage=%{y}<extra></extra>",
         "legendgroup": "VANDERBILT",
         "marker": {
          "color": "#B6E880",
          "pattern": {
           "shape": ""
          }
         },
         "name": "VANDERBILT",
         "offsetgroup": "VANDERBILT",
         "orientation": "v",
         "showlegend": true,
         "textposition": "auto",
         "type": "bar",
         "x": [
          "CHS",
          "HCA",
          "LIFEPOINT",
          "NO MAJOR AFFILIATION/OTHER",
          "NOT IN NASHVILLE",
          "SAINT THOMAS ASCENSION",
          "SURGERY CENTER",
          "VANDERBILT"
         ],
         "xaxis": "x",
         "y": [
          0.13908450704225353,
          0.13153082549634273,
          0.28655737704918033,
          0.1936600958977091,
          0.18451291116863439,
          0.11864186288539091,
          0.18994413407821228,
          0.5804507747691344
         ],
         "yaxis": "y"
        }
       ],
       "layout": {
        "barmode": "relative",
        "legend": {
         "title": {
          "text": "Affiliation To"
         },
         "tracegroupgap": 0
        },
        "template": {
         "data": {
          "bar": [
           {
            "error_x": {
             "color": "#2a3f5f"
            },
            "error_y": {
             "color": "#2a3f5f"
            },
            "marker": {
             "line": {
              "color": "#E5ECF6",
              "width": 0.5
             },
             "pattern": {
              "fillmode": "overlay",
              "size": 10,
              "solidity": 0.2
             }
            },
            "type": "bar"
           }
          ],
          "barpolar": [
           {
            "marker": {
             "line": {
              "color": "#E5ECF6",
              "width": 0.5
             },
             "pattern": {
              "fillmode": "overlay",
              "size": 10,
              "solidity": 0.2
             }
            },
            "type": "barpolar"
           }
          ],
          "carpet": [
           {
            "aaxis": {
             "endlinecolor": "#2a3f5f",
             "gridcolor": "white",
             "linecolor": "white",
             "minorgridcolor": "white",
             "startlinecolor": "#2a3f5f"
            },
            "baxis": {
             "endlinecolor": "#2a3f5f",
             "gridcolor": "white",
             "linecolor": "white",
             "minorgridcolor": "white",
             "startlinecolor": "#2a3f5f"
            },
            "type": "carpet"
           }
          ],
          "choropleth": [
           {
            "colorbar": {
             "outlinewidth": 0,
             "ticks": ""
            },
            "type": "choropleth"
           }
          ],
          "contour": [
           {
            "colorbar": {
             "outlinewidth": 0,
             "ticks": ""
            },
            "colorscale": [
             [
              0,
              "#0d0887"
             ],
             [
              0.1111111111111111,
              "#46039f"
             ],
             [
              0.2222222222222222,
              "#7201a8"
             ],
             [
              0.3333333333333333,
              "#9c179e"
             ],
             [
              0.4444444444444444,
              "#bd3786"
             ],
             [
              0.5555555555555556,
              "#d8576b"
             ],
             [
              0.6666666666666666,
              "#ed7953"
             ],
             [
              0.7777777777777778,
              "#fb9f3a"
             ],
             [
              0.8888888888888888,
              "#fdca26"
             ],
             [
              1,
              "#f0f921"
             ]
            ],
            "type": "contour"
           }
          ],
          "contourcarpet": [
           {
            "colorbar": {
             "outlinewidth": 0,
             "ticks": ""
            },
            "type": "contourcarpet"
           }
          ],
          "heatmap": [
           {
            "colorbar": {
             "outlinewidth": 0,
             "ticks": ""
            },
            "colorscale": [
             [
              0,
              "#0d0887"
             ],
             [
              0.1111111111111111,
              "#46039f"
             ],
             [
              0.2222222222222222,
              "#7201a8"
             ],
             [
              0.3333333333333333,
              "#9c179e"
             ],
             [
              0.4444444444444444,
              "#bd3786"
             ],
             [
              0.5555555555555556,
              "#d8576b"
             ],
             [
              0.6666666666666666,
              "#ed7953"
             ],
             [
              0.7777777777777778,
              "#fb9f3a"
             ],
             [
              0.8888888888888888,
              "#fdca26"
             ],
             [
              1,
              "#f0f921"
             ]
            ],
            "type": "heatmap"
           }
          ],
          "heatmapgl": [
           {
            "colorbar": {
             "outlinewidth": 0,
             "ticks": ""
            },
            "colorscale": [
             [
              0,
              "#0d0887"
             ],
             [
              0.1111111111111111,
              "#46039f"
             ],
             [
              0.2222222222222222,
              "#7201a8"
             ],
             [
              0.3333333333333333,
              "#9c179e"
             ],
             [
              0.4444444444444444,
              "#bd3786"
             ],
             [
              0.5555555555555556,
              "#d8576b"
             ],
             [
              0.6666666666666666,
              "#ed7953"
             ],
             [
              0.7777777777777778,
              "#fb9f3a"
             ],
             [
              0.8888888888888888,
              "#fdca26"
             ],
             [
              1,
              "#f0f921"
             ]
            ],
            "type": "heatmapgl"
           }
          ],
          "histogram": [
           {
            "marker": {
             "pattern": {
              "fillmode": "overlay",
              "size": 10,
              "solidity": 0.2
             }
            },
            "type": "histogram"
           }
          ],
          "histogram2d": [
           {
            "colorbar": {
             "outlinewidth": 0,
             "ticks": ""
            },
            "colorscale": [
             [
              0,
              "#0d0887"
             ],
             [
              0.1111111111111111,
              "#46039f"
             ],
             [
              0.2222222222222222,
              "#7201a8"
             ],
             [
              0.3333333333333333,
              "#9c179e"
             ],
             [
              0.4444444444444444,
              "#bd3786"
             ],
             [
              0.5555555555555556,
              "#d8576b"
             ],
             [
              0.6666666666666666,
              "#ed7953"
             ],
             [
              0.7777777777777778,
              "#fb9f3a"
             ],
             [
              0.8888888888888888,
              "#fdca26"
             ],
             [
              1,
              "#f0f921"
             ]
            ],
            "type": "histogram2d"
           }
          ],
          "histogram2dcontour": [
           {
            "colorbar": {
             "outlinewidth": 0,
             "ticks": ""
            },
            "colorscale": [
             [
              0,
              "#0d0887"
             ],
             [
              0.1111111111111111,
              "#46039f"
             ],
             [
              0.2222222222222222,
              "#7201a8"
             ],
             [
              0.3333333333333333,
              "#9c179e"
             ],
             [
              0.4444444444444444,
              "#bd3786"
             ],
             [
              0.5555555555555556,
              "#d8576b"
             ],
             [
              0.6666666666666666,
              "#ed7953"
             ],
             [
              0.7777777777777778,
              "#fb9f3a"
             ],
             [
              0.8888888888888888,
              "#fdca26"
             ],
             [
              1,
              "#f0f921"
             ]
            ],
            "type": "histogram2dcontour"
           }
          ],
          "mesh3d": [
           {
            "colorbar": {
             "outlinewidth": 0,
             "ticks": ""
            },
            "type": "mesh3d"
           }
          ],
          "parcoords": [
           {
            "line": {
             "colorbar": {
              "outlinewidth": 0,
              "ticks": ""
             }
            },
            "type": "parcoords"
           }
          ],
          "pie": [
           {
            "automargin": true,
            "type": "pie"
           }
          ],
          "scatter": [
           {
            "marker": {
             "colorbar": {
              "outlinewidth": 0,
              "ticks": ""
             }
            },
            "type": "scatter"
           }
          ],
          "scatter3d": [
           {
            "line": {
             "colorbar": {
              "outlinewidth": 0,
              "ticks": ""
             }
            },
            "marker": {
             "colorbar": {
              "outlinewidth": 0,
              "ticks": ""
             }
            },
            "type": "scatter3d"
           }
          ],
          "scattercarpet": [
           {
            "marker": {
             "colorbar": {
              "outlinewidth": 0,
              "ticks": ""
             }
            },
            "type": "scattercarpet"
           }
          ],
          "scattergeo": [
           {
            "marker": {
             "colorbar": {
              "outlinewidth": 0,
              "ticks": ""
             }
            },
            "type": "scattergeo"
           }
          ],
          "scattergl": [
           {
            "marker": {
             "colorbar": {
              "outlinewidth": 0,
              "ticks": ""
             }
            },
            "type": "scattergl"
           }
          ],
          "scattermapbox": [
           {
            "marker": {
             "colorbar": {
              "outlinewidth": 0,
              "ticks": ""
             }
            },
            "type": "scattermapbox"
           }
          ],
          "scatterpolar": [
           {
            "marker": {
             "colorbar": {
              "outlinewidth": 0,
              "ticks": ""
             }
            },
            "type": "scatterpolar"
           }
          ],
          "scatterpolargl": [
           {
            "marker": {
             "colorbar": {
              "outlinewidth": 0,
              "ticks": ""
             }
            },
            "type": "scatterpolargl"
           }
          ],
          "scatterternary": [
           {
            "marker": {
             "colorbar": {
              "outlinewidth": 0,
              "ticks": ""
             }
            },
            "type": "scatterternary"
           }
          ],
          "surface": [
           {
            "colorbar": {
             "outlinewidth": 0,
             "ticks": ""
            },
            "colorscale": [
             [
              0,
              "#0d0887"
             ],
             [
              0.1111111111111111,
              "#46039f"
             ],
             [
              0.2222222222222222,
              "#7201a8"
             ],
             [
              0.3333333333333333,
              "#9c179e"
             ],
             [
              0.4444444444444444,
              "#bd3786"
             ],
             [
              0.5555555555555556,
              "#d8576b"
             ],
             [
              0.6666666666666666,
              "#ed7953"
             ],
             [
              0.7777777777777778,
              "#fb9f3a"
             ],
             [
              0.8888888888888888,
              "#fdca26"
             ],
             [
              1,
              "#f0f921"
             ]
            ],
            "type": "surface"
           }
          ],
          "table": [
           {
            "cells": {
             "fill": {
              "color": "#EBF0F8"
             },
             "line": {
              "color": "white"
             }
            },
            "header": {
             "fill": {
              "color": "#C8D4E3"
             },
             "line": {
              "color": "white"
             }
            },
            "type": "table"
           }
          ]
         },
         "layout": {
          "annotationdefaults": {
           "arrowcolor": "#2a3f5f",
           "arrowhead": 0,
           "arrowwidth": 1
          },
          "autotypenumbers": "strict",
          "coloraxis": {
           "colorbar": {
            "outlinewidth": 0,
            "ticks": ""
           }
          },
          "colorscale": {
           "diverging": [
            [
             0,
             "#8e0152"
            ],
            [
             0.1,
             "#c51b7d"
            ],
            [
             0.2,
             "#de77ae"
            ],
            [
             0.3,
             "#f1b6da"
            ],
            [
             0.4,
             "#fde0ef"
            ],
            [
             0.5,
             "#f7f7f7"
            ],
            [
             0.6,
             "#e6f5d0"
            ],
            [
             0.7,
             "#b8e186"
            ],
            [
             0.8,
             "#7fbc41"
            ],
            [
             0.9,
             "#4d9221"
            ],
            [
             1,
             "#276419"
            ]
           ],
           "sequential": [
            [
             0,
             "#0d0887"
            ],
            [
             0.1111111111111111,
             "#46039f"
            ],
            [
             0.2222222222222222,
             "#7201a8"
            ],
            [
             0.3333333333333333,
             "#9c179e"
            ],
            [
             0.4444444444444444,
             "#bd3786"
            ],
            [
             0.5555555555555556,
             "#d8576b"
            ],
            [
             0.6666666666666666,
             "#ed7953"
            ],
            [
             0.7777777777777778,
             "#fb9f3a"
            ],
            [
             0.8888888888888888,
             "#fdca26"
            ],
            [
             1,
             "#f0f921"
            ]
           ],
           "sequentialminus": [
            [
             0,
             "#0d0887"
            ],
            [
             0.1111111111111111,
             "#46039f"
            ],
            [
             0.2222222222222222,
             "#7201a8"
            ],
            [
             0.3333333333333333,
             "#9c179e"
            ],
            [
             0.4444444444444444,
             "#bd3786"
            ],
            [
             0.5555555555555556,
             "#d8576b"
            ],
            [
             0.6666666666666666,
             "#ed7953"
            ],
            [
             0.7777777777777778,
             "#fb9f3a"
            ],
            [
             0.8888888888888888,
             "#fdca26"
            ],
            [
             1,
             "#f0f921"
            ]
           ]
          },
          "colorway": [
           "#636efa",
           "#EF553B",
           "#00cc96",
           "#ab63fa",
           "#FFA15A",
           "#19d3f3",
           "#FF6692",
           "#B6E880",
           "#FF97FF",
           "#FECB52"
          ],
          "font": {
           "color": "#2a3f5f"
          },
          "geo": {
           "bgcolor": "white",
           "lakecolor": "white",
           "landcolor": "#E5ECF6",
           "showlakes": true,
           "showland": true,
           "subunitcolor": "white"
          },
          "hoverlabel": {
           "align": "left"
          },
          "hovermode": "closest",
          "mapbox": {
           "style": "light"
          },
          "paper_bgcolor": "white",
          "plot_bgcolor": "#E5ECF6",
          "polar": {
           "angularaxis": {
            "gridcolor": "white",
            "linecolor": "white",
            "ticks": ""
           },
           "bgcolor": "#E5ECF6",
           "radialaxis": {
            "gridcolor": "white",
            "linecolor": "white",
            "ticks": ""
           }
          },
          "scene": {
           "xaxis": {
            "backgroundcolor": "#E5ECF6",
            "gridcolor": "white",
            "gridwidth": 2,
            "linecolor": "white",
            "showbackground": true,
            "ticks": "",
            "zerolinecolor": "white"
           },
           "yaxis": {
            "backgroundcolor": "#E5ECF6",
            "gridcolor": "white",
            "gridwidth": 2,
            "linecolor": "white",
            "showbackground": true,
            "ticks": "",
            "zerolinecolor": "white"
           },
           "zaxis": {
            "backgroundcolor": "#E5ECF6",
            "gridcolor": "white",
            "gridwidth": 2,
            "linecolor": "white",
            "showbackground": true,
            "ticks": "",
            "zerolinecolor": "white"
           }
          },
          "shapedefaults": {
           "line": {
            "color": "#2a3f5f"
           }
          },
          "ternary": {
           "aaxis": {
            "gridcolor": "white",
            "linecolor": "white",
            "ticks": ""
           },
           "baxis": {
            "gridcolor": "white",
            "linecolor": "white",
            "ticks": ""
           },
           "bgcolor": "#E5ECF6",
           "caxis": {
            "gridcolor": "white",
            "linecolor": "white",
            "ticks": ""
           }
          },
          "title": {
           "x": 0.05
          },
          "xaxis": {
           "automargin": true,
           "gridcolor": "white",
           "linecolor": "white",
           "ticks": "",
           "title": {
            "standoff": 15
           },
           "zerolinecolor": "white",
           "zerolinewidth": 2
          },
          "yaxis": {
           "automargin": true,
           "gridcolor": "white",
           "linecolor": "white",
           "ticks": "",
           "title": {
            "standoff": 15
           },
           "zerolinecolor": "white",
           "zerolinewidth": 2
          }
         }
        },
        "title": {
         "text": "Percent of Referrals to Affiliations",
         "x": 0.5
        },
        "xaxis": {
         "anchor": "y",
         "domain": [
          0,
          1
         ],
         "title": {
          "text": "From Affiliation"
         }
        },
        "yaxis": {
         "anchor": "x",
         "domain": [
          0,
          1
         ],
         "title": {
          "text": "Percentage"
         }
        }
       }
      },
      "text/html": [
       "<div>                            <div id=\"cc563814-f6f6-418e-bdb0-813eeba4660e\" class=\"plotly-graph-div\" style=\"height:525px; width:100%;\"></div>            <script type=\"text/javascript\">                require([\"plotly\"], function(Plotly) {                    window.PLOTLYENV=window.PLOTLYENV || {};                                    if (document.getElementById(\"cc563814-f6f6-418e-bdb0-813eeba4660e\")) {                    Plotly.newPlot(                        \"cc563814-f6f6-418e-bdb0-813eeba4660e\",                        [{\"alignmentgroup\":\"True\",\"hovertemplate\":\"Affiliation To=CHS<br>From Affiliation=%{x}<br>Percentage=%{y}<extra></extra>\",\"legendgroup\":\"CHS\",\"marker\":{\"color\":\"#636efa\",\"pattern\":{\"shape\":\"\"}},\"name\":\"CHS\",\"offsetgroup\":\"CHS\",\"orientation\":\"v\",\"showlegend\":true,\"textposition\":\"auto\",\"x\":[\"CHS\",\"HCA\",\"LIFEPOINT\",\"NO MAJOR AFFILIATION/OTHER\",\"NOT IN NASHVILLE\",\"SAINT THOMAS ASCENSION\",\"SURGERY CENTER\",\"VANDERBILT\"],\"xaxis\":\"x\",\"y\":[0.06866197183098592,0.015586903517938,0.0036065573770491803,0.004794885455514118,0.009501862491318897,0.0042929621438792765,0.00558659217877095,0.0015651901706057287],\"yaxis\":\"y\",\"type\":\"bar\"},{\"alignmentgroup\":\"True\",\"hovertemplate\":\"Affiliation To=HCA<br>From Affiliation=%{x}<br>Percentage=%{y}<extra></extra>\",\"legendgroup\":\"HCA\",\"marker\":{\"color\":\"#EF553B\",\"pattern\":{\"shape\":\"\"}},\"name\":\"HCA\",\"offsetgroup\":\"HCA\",\"orientation\":\"v\",\"showlegend\":true,\"textposition\":\"auto\",\"x\":[\"CHS\",\"HCA\",\"LIFEPOINT\",\"NO MAJOR AFFILIATION/OTHER\",\"NOT IN NASHVILLE\",\"SAINT THOMAS ASCENSION\",\"SURGERY CENTER\",\"VANDERBILT\"],\"xaxis\":\"x\",\"y\":[0.397887323943662,0.5555120167189133,0.23737704918032787,0.29488545551411827,0.32066418334490815,0.25972420970469623,0.329608938547486,0.1789012365002348],\"yaxis\":\"y\",\"type\":\"bar\"},{\"alignmentgroup\":\"True\",\"hovertemplate\":\"Affiliation To=LIFEPOINT<br>From Affiliation=%{x}<br>Percentage=%{y}<extra></extra>\",\"legendgroup\":\"LIFEPOINT\",\"marker\":{\"color\":\"#00cc96\",\"pattern\":{\"shape\":\"\"}},\"name\":\"LIFEPOINT\",\"offsetgroup\":\"LIFEPOINT\",\"orientation\":\"v\",\"showlegend\":true,\"textposition\":\"auto\",\"x\":[\"CHS\",\"HCA\",\"LIFEPOINT\",\"NO MAJOR AFFILIATION/OTHER\",\"NOT IN NASHVILLE\",\"SAINT THOMAS ASCENSION\",\"SURGERY CENTER\",\"VANDERBILT\"],\"xaxis\":\"x\",\"y\":[0.03169014084507042,0.03152211772901428,0.21639344262295082,0.04022376132125732,0.025443525475093126,0.014505008455834526,0.00558659217877095,0.03905149475661293],\"yaxis\":\"y\",\"type\":\"bar\"},{\"alignmentgroup\":\"True\",\"hovertemplate\":\"Affiliation To=NO MAJOR AFFILIATION/OTHER<br>From Affiliation=%{x}<br>Percentage=%{y}<extra></extra>\",\"legendgroup\":\"NO MAJOR AFFILIATION/OTHER\",\"marker\":{\"color\":\"#ab63fa\",\"pattern\":{\"shape\":\"\"}},\"name\":\"NO MAJOR AFFILIATION/OTHER\",\"offsetgroup\":\"NO MAJOR AFFILIATION/OTHER\",\"orientation\":\"v\",\"showlegend\":true,\"textposition\":\"auto\",\"x\":[\"CHS\",\"HCA\",\"LIFEPOINT\",\"NO MAJOR AFFILIATION/OTHER\",\"NOT IN NASHVILLE\",\"SAINT THOMAS ASCENSION\",\"SURGERY CENTER\",\"VANDERBILT\"],\"xaxis\":\"x\",\"y\":[0.11267605633802817,0.10087948450017416,0.0898360655737705,0.26078849227490675,0.12399772712923796,0.06888252894497203,0.0670391061452514,0.06182501173892628],\"yaxis\":\"y\",\"type\":\"bar\"},{\"alignmentgroup\":\"True\",\"hovertemplate\":\"Affiliation To=NOT IN NASHVILLE<br>From Affiliation=%{x}<br>Percentage=%{y}<extra></extra>\",\"legendgroup\":\"NOT IN NASHVILLE\",\"marker\":{\"color\":\"#FFA15A\",\"pattern\":{\"shape\":\"\"}},\"name\":\"NOT IN NASHVILLE\",\"offsetgroup\":\"NOT IN NASHVILLE\",\"orientation\":\"v\",\"showlegend\":true,\"textposition\":\"auto\",\"x\":[\"CHS\",\"HCA\",\"LIFEPOINT\",\"NO MAJOR AFFILIATION/OTHER\",\"NOT IN NASHVILLE\",\"SAINT THOMAS ASCENSION\",\"SURGERY CENTER\",\"VANDERBILT\"],\"xaxis\":\"x\",\"y\":[0.06338028169014084,0.055033089515848135,0.038688524590163934,0.07671816728822589,0.2264347496685397,0.03401847274619488,0.027932960893854747,0.05172953513851933],\"yaxis\":\"y\",\"type\":\"bar\"},{\"alignmentgroup\":\"True\",\"hovertemplate\":\"Affiliation To=SAINT THOMAS ASCENSION<br>From Affiliation=%{x}<br>Percentage=%{y}<extra></extra>\",\"legendgroup\":\"SAINT THOMAS ASCENSION\",\"marker\":{\"color\":\"#19d3f3\",\"pattern\":{\"shape\":\"\"}},\"name\":\"SAINT THOMAS ASCENSION\",\"offsetgroup\":\"SAINT THOMAS ASCENSION\",\"orientation\":\"v\",\"showlegend\":true,\"textposition\":\"auto\",\"x\":[\"CHS\",\"HCA\",\"LIFEPOINT\",\"NO MAJOR AFFILIATION/OTHER\",\"NOT IN NASHVILLE\",\"SAINT THOMAS ASCENSION\",\"SURGERY CENTER\",\"VANDERBILT\"],\"xaxis\":\"x\",\"y\":[0.14964788732394366,0.10188087774294671,0.11934426229508197,0.11827384123601492,0.10685649346549655,0.49219461428385586,0.15083798882681565,0.08170292690561903],\"yaxis\":\"y\",\"type\":\"bar\"},{\"alignmentgroup\":\"True\",\"hovertemplate\":\"Affiliation To=SURGERY CENTER<br>From Affiliation=%{x}<br>Percentage=%{y}<extra></extra>\",\"legendgroup\":\"SURGERY CENTER\",\"marker\":{\"color\":\"#FF6692\",\"pattern\":{\"shape\":\"\"}},\"name\":\"SURGERY CENTER\",\"offsetgroup\":\"SURGERY CENTER\",\"orientation\":\"v\",\"showlegend\":true,\"textposition\":\"auto\",\"x\":[\"CHS\",\"HCA\",\"LIFEPOINT\",\"NO MAJOR AFFILIATION/OTHER\",\"NOT IN NASHVILLE\",\"SAINT THOMAS ASCENSION\",\"SURGERY CENTER\",\"VANDERBILT\"],\"xaxis\":\"x\",\"y\":[0.03697183098591549,0.00805468477882271,0.00819672131147541,0.010655301012253596,0.002588547256771261,0.007740340835176272,0.22346368715083798,0.004773830020347473],\"yaxis\":\"y\",\"type\":\"bar\"},{\"alignmentgroup\":\"True\",\"hovertemplate\":\"Affiliation To=VANDERBILT<br>From Affiliation=%{x}<br>Percentage=%{y}<extra></extra>\",\"legendgroup\":\"VANDERBILT\",\"marker\":{\"color\":\"#B6E880\",\"pattern\":{\"shape\":\"\"}},\"name\":\"VANDERBILT\",\"offsetgroup\":\"VANDERBILT\",\"orientation\":\"v\",\"showlegend\":true,\"textposition\":\"auto\",\"x\":[\"CHS\",\"HCA\",\"LIFEPOINT\",\"NO MAJOR AFFILIATION/OTHER\",\"NOT IN NASHVILLE\",\"SAINT THOMAS ASCENSION\",\"SURGERY CENTER\",\"VANDERBILT\"],\"xaxis\":\"x\",\"y\":[0.13908450704225353,0.13153082549634273,0.28655737704918033,0.1936600958977091,0.18451291116863439,0.11864186288539091,0.18994413407821228,0.5804507747691344],\"yaxis\":\"y\",\"type\":\"bar\"}],                        {\"template\":{\"data\":{\"bar\":[{\"error_x\":{\"color\":\"#2a3f5f\"},\"error_y\":{\"color\":\"#2a3f5f\"},\"marker\":{\"line\":{\"color\":\"#E5ECF6\",\"width\":0.5},\"pattern\":{\"fillmode\":\"overlay\",\"size\":10,\"solidity\":0.2}},\"type\":\"bar\"}],\"barpolar\":[{\"marker\":{\"line\":{\"color\":\"#E5ECF6\",\"width\":0.5},\"pattern\":{\"fillmode\":\"overlay\",\"size\":10,\"solidity\":0.2}},\"type\":\"barpolar\"}],\"carpet\":[{\"aaxis\":{\"endlinecolor\":\"#2a3f5f\",\"gridcolor\":\"white\",\"linecolor\":\"white\",\"minorgridcolor\":\"white\",\"startlinecolor\":\"#2a3f5f\"},\"baxis\":{\"endlinecolor\":\"#2a3f5f\",\"gridcolor\":\"white\",\"linecolor\":\"white\",\"minorgridcolor\":\"white\",\"startlinecolor\":\"#2a3f5f\"},\"type\":\"carpet\"}],\"choropleth\":[{\"colorbar\":{\"outlinewidth\":0,\"ticks\":\"\"},\"type\":\"choropleth\"}],\"contour\":[{\"colorbar\":{\"outlinewidth\":0,\"ticks\":\"\"},\"colorscale\":[[0.0,\"#0d0887\"],[0.1111111111111111,\"#46039f\"],[0.2222222222222222,\"#7201a8\"],[0.3333333333333333,\"#9c179e\"],[0.4444444444444444,\"#bd3786\"],[0.5555555555555556,\"#d8576b\"],[0.6666666666666666,\"#ed7953\"],[0.7777777777777778,\"#fb9f3a\"],[0.8888888888888888,\"#fdca26\"],[1.0,\"#f0f921\"]],\"type\":\"contour\"}],\"contourcarpet\":[{\"colorbar\":{\"outlinewidth\":0,\"ticks\":\"\"},\"type\":\"contourcarpet\"}],\"heatmap\":[{\"colorbar\":{\"outlinewidth\":0,\"ticks\":\"\"},\"colorscale\":[[0.0,\"#0d0887\"],[0.1111111111111111,\"#46039f\"],[0.2222222222222222,\"#7201a8\"],[0.3333333333333333,\"#9c179e\"],[0.4444444444444444,\"#bd3786\"],[0.5555555555555556,\"#d8576b\"],[0.6666666666666666,\"#ed7953\"],[0.7777777777777778,\"#fb9f3a\"],[0.8888888888888888,\"#fdca26\"],[1.0,\"#f0f921\"]],\"type\":\"heatmap\"}],\"heatmapgl\":[{\"colorbar\":{\"outlinewidth\":0,\"ticks\":\"\"},\"colorscale\":[[0.0,\"#0d0887\"],[0.1111111111111111,\"#46039f\"],[0.2222222222222222,\"#7201a8\"],[0.3333333333333333,\"#9c179e\"],[0.4444444444444444,\"#bd3786\"],[0.5555555555555556,\"#d8576b\"],[0.6666666666666666,\"#ed7953\"],[0.7777777777777778,\"#fb9f3a\"],[0.8888888888888888,\"#fdca26\"],[1.0,\"#f0f921\"]],\"type\":\"heatmapgl\"}],\"histogram\":[{\"marker\":{\"pattern\":{\"fillmode\":\"overlay\",\"size\":10,\"solidity\":0.2}},\"type\":\"histogram\"}],\"histogram2d\":[{\"colorbar\":{\"outlinewidth\":0,\"ticks\":\"\"},\"colorscale\":[[0.0,\"#0d0887\"],[0.1111111111111111,\"#46039f\"],[0.2222222222222222,\"#7201a8\"],[0.3333333333333333,\"#9c179e\"],[0.4444444444444444,\"#bd3786\"],[0.5555555555555556,\"#d8576b\"],[0.6666666666666666,\"#ed7953\"],[0.7777777777777778,\"#fb9f3a\"],[0.8888888888888888,\"#fdca26\"],[1.0,\"#f0f921\"]],\"type\":\"histogram2d\"}],\"histogram2dcontour\":[{\"colorbar\":{\"outlinewidth\":0,\"ticks\":\"\"},\"colorscale\":[[0.0,\"#0d0887\"],[0.1111111111111111,\"#46039f\"],[0.2222222222222222,\"#7201a8\"],[0.3333333333333333,\"#9c179e\"],[0.4444444444444444,\"#bd3786\"],[0.5555555555555556,\"#d8576b\"],[0.6666666666666666,\"#ed7953\"],[0.7777777777777778,\"#fb9f3a\"],[0.8888888888888888,\"#fdca26\"],[1.0,\"#f0f921\"]],\"type\":\"histogram2dcontour\"}],\"mesh3d\":[{\"colorbar\":{\"outlinewidth\":0,\"ticks\":\"\"},\"type\":\"mesh3d\"}],\"parcoords\":[{\"line\":{\"colorbar\":{\"outlinewidth\":0,\"ticks\":\"\"}},\"type\":\"parcoords\"}],\"pie\":[{\"automargin\":true,\"type\":\"pie\"}],\"scatter\":[{\"marker\":{\"colorbar\":{\"outlinewidth\":0,\"ticks\":\"\"}},\"type\":\"scatter\"}],\"scatter3d\":[{\"line\":{\"colorbar\":{\"outlinewidth\":0,\"ticks\":\"\"}},\"marker\":{\"colorbar\":{\"outlinewidth\":0,\"ticks\":\"\"}},\"type\":\"scatter3d\"}],\"scattercarpet\":[{\"marker\":{\"colorbar\":{\"outlinewidth\":0,\"ticks\":\"\"}},\"type\":\"scattercarpet\"}],\"scattergeo\":[{\"marker\":{\"colorbar\":{\"outlinewidth\":0,\"ticks\":\"\"}},\"type\":\"scattergeo\"}],\"scattergl\":[{\"marker\":{\"colorbar\":{\"outlinewidth\":0,\"ticks\":\"\"}},\"type\":\"scattergl\"}],\"scattermapbox\":[{\"marker\":{\"colorbar\":{\"outlinewidth\":0,\"ticks\":\"\"}},\"type\":\"scattermapbox\"}],\"scatterpolar\":[{\"marker\":{\"colorbar\":{\"outlinewidth\":0,\"ticks\":\"\"}},\"type\":\"scatterpolar\"}],\"scatterpolargl\":[{\"marker\":{\"colorbar\":{\"outlinewidth\":0,\"ticks\":\"\"}},\"type\":\"scatterpolargl\"}],\"scatterternary\":[{\"marker\":{\"colorbar\":{\"outlinewidth\":0,\"ticks\":\"\"}},\"type\":\"scatterternary\"}],\"surface\":[{\"colorbar\":{\"outlinewidth\":0,\"ticks\":\"\"},\"colorscale\":[[0.0,\"#0d0887\"],[0.1111111111111111,\"#46039f\"],[0.2222222222222222,\"#7201a8\"],[0.3333333333333333,\"#9c179e\"],[0.4444444444444444,\"#bd3786\"],[0.5555555555555556,\"#d8576b\"],[0.6666666666666666,\"#ed7953\"],[0.7777777777777778,\"#fb9f3a\"],[0.8888888888888888,\"#fdca26\"],[1.0,\"#f0f921\"]],\"type\":\"surface\"}],\"table\":[{\"cells\":{\"fill\":{\"color\":\"#EBF0F8\"},\"line\":{\"color\":\"white\"}},\"header\":{\"fill\":{\"color\":\"#C8D4E3\"},\"line\":{\"color\":\"white\"}},\"type\":\"table\"}]},\"layout\":{\"annotationdefaults\":{\"arrowcolor\":\"#2a3f5f\",\"arrowhead\":0,\"arrowwidth\":1},\"autotypenumbers\":\"strict\",\"coloraxis\":{\"colorbar\":{\"outlinewidth\":0,\"ticks\":\"\"}},\"colorscale\":{\"diverging\":[[0,\"#8e0152\"],[0.1,\"#c51b7d\"],[0.2,\"#de77ae\"],[0.3,\"#f1b6da\"],[0.4,\"#fde0ef\"],[0.5,\"#f7f7f7\"],[0.6,\"#e6f5d0\"],[0.7,\"#b8e186\"],[0.8,\"#7fbc41\"],[0.9,\"#4d9221\"],[1,\"#276419\"]],\"sequential\":[[0.0,\"#0d0887\"],[0.1111111111111111,\"#46039f\"],[0.2222222222222222,\"#7201a8\"],[0.3333333333333333,\"#9c179e\"],[0.4444444444444444,\"#bd3786\"],[0.5555555555555556,\"#d8576b\"],[0.6666666666666666,\"#ed7953\"],[0.7777777777777778,\"#fb9f3a\"],[0.8888888888888888,\"#fdca26\"],[1.0,\"#f0f921\"]],\"sequentialminus\":[[0.0,\"#0d0887\"],[0.1111111111111111,\"#46039f\"],[0.2222222222222222,\"#7201a8\"],[0.3333333333333333,\"#9c179e\"],[0.4444444444444444,\"#bd3786\"],[0.5555555555555556,\"#d8576b\"],[0.6666666666666666,\"#ed7953\"],[0.7777777777777778,\"#fb9f3a\"],[0.8888888888888888,\"#fdca26\"],[1.0,\"#f0f921\"]]},\"colorway\":[\"#636efa\",\"#EF553B\",\"#00cc96\",\"#ab63fa\",\"#FFA15A\",\"#19d3f3\",\"#FF6692\",\"#B6E880\",\"#FF97FF\",\"#FECB52\"],\"font\":{\"color\":\"#2a3f5f\"},\"geo\":{\"bgcolor\":\"white\",\"lakecolor\":\"white\",\"landcolor\":\"#E5ECF6\",\"showlakes\":true,\"showland\":true,\"subunitcolor\":\"white\"},\"hoverlabel\":{\"align\":\"left\"},\"hovermode\":\"closest\",\"mapbox\":{\"style\":\"light\"},\"paper_bgcolor\":\"white\",\"plot_bgcolor\":\"#E5ECF6\",\"polar\":{\"angularaxis\":{\"gridcolor\":\"white\",\"linecolor\":\"white\",\"ticks\":\"\"},\"bgcolor\":\"#E5ECF6\",\"radialaxis\":{\"gridcolor\":\"white\",\"linecolor\":\"white\",\"ticks\":\"\"}},\"scene\":{\"xaxis\":{\"backgroundcolor\":\"#E5ECF6\",\"gridcolor\":\"white\",\"gridwidth\":2,\"linecolor\":\"white\",\"showbackground\":true,\"ticks\":\"\",\"zerolinecolor\":\"white\"},\"yaxis\":{\"backgroundcolor\":\"#E5ECF6\",\"gridcolor\":\"white\",\"gridwidth\":2,\"linecolor\":\"white\",\"showbackground\":true,\"ticks\":\"\",\"zerolinecolor\":\"white\"},\"zaxis\":{\"backgroundcolor\":\"#E5ECF6\",\"gridcolor\":\"white\",\"gridwidth\":2,\"linecolor\":\"white\",\"showbackground\":true,\"ticks\":\"\",\"zerolinecolor\":\"white\"}},\"shapedefaults\":{\"line\":{\"color\":\"#2a3f5f\"}},\"ternary\":{\"aaxis\":{\"gridcolor\":\"white\",\"linecolor\":\"white\",\"ticks\":\"\"},\"baxis\":{\"gridcolor\":\"white\",\"linecolor\":\"white\",\"ticks\":\"\"},\"bgcolor\":\"#E5ECF6\",\"caxis\":{\"gridcolor\":\"white\",\"linecolor\":\"white\",\"ticks\":\"\"}},\"title\":{\"x\":0.05},\"xaxis\":{\"automargin\":true,\"gridcolor\":\"white\",\"linecolor\":\"white\",\"ticks\":\"\",\"title\":{\"standoff\":15},\"zerolinecolor\":\"white\",\"zerolinewidth\":2},\"yaxis\":{\"automargin\":true,\"gridcolor\":\"white\",\"linecolor\":\"white\",\"ticks\":\"\",\"title\":{\"standoff\":15},\"zerolinecolor\":\"white\",\"zerolinewidth\":2}}},\"xaxis\":{\"anchor\":\"y\",\"domain\":[0.0,1.0],\"title\":{\"text\":\"From Affiliation\"}},\"yaxis\":{\"anchor\":\"x\",\"domain\":[0.0,1.0],\"title\":{\"text\":\"Percentage\"}},\"legend\":{\"title\":{\"text\":\"Affiliation To\"},\"tracegroupgap\":0},\"title\":{\"text\":\"Percent of Referrals to Affiliations\",\"x\":0.5},\"barmode\":\"relative\"},                        {\"responsive\": true}                    ).then(function(){\n",
       "                            \n",
       "var gd = document.getElementById('cc563814-f6f6-418e-bdb0-813eeba4660e');\n",
       "var x = new MutationObserver(function (mutations, observer) {{\n",
       "        var display = window.getComputedStyle(gd).display;\n",
       "        if (!display || display === 'none') {{\n",
       "            console.log([gd, 'removed!']);\n",
       "            Plotly.purge(gd);\n",
       "            observer.disconnect();\n",
       "        }}\n",
       "}});\n",
       "\n",
       "// Listen for the removal of the full notebook cells\n",
       "var notebookContainer = gd.closest('#notebook-container');\n",
       "if (notebookContainer) {{\n",
       "    x.observe(notebookContainer, {childList: true});\n",
       "}}\n",
       "\n",
       "// Listen for the clearing of the current output cell\n",
       "var outputEl = gd.closest('.output');\n",
       "if (outputEl) {{\n",
       "    x.observe(outputEl, {childList: true});\n",
       "}}\n",
       "\n",
       "                        })                };                });            </script>        </div>"
      ]
     },
     "metadata": {},
     "output_type": "display_data"
    }
   ],
   "source": [
    "fig = px.bar(crosstab, labels={\n",
    "                     \"affiliation_from\": \"From Affiliation\",\n",
    "                     \"value\": \"Percentage\",\n",
    "                     \"affiliation_to\": \"Affiliation To\"\n",
    "                 },\n",
    "                title=\"Percent of Referrals to Affiliations\")\n",
    "fig.update_layout(title_x = 0.5)\n",
    "fig.show()"
   ]
  },
  {
   "cell_type": "code",
   "execution_count": 17,
   "id": "ad625885",
   "metadata": {},
   "outputs": [
    {
     "data": {
      "text/plain": [
       "'https://plotly.com/~James.a.gilbert/1/'"
      ]
     },
     "execution_count": 17,
     "metadata": {},
     "output_type": "execute_result"
    }
   ],
   "source": [
    "py.plot(fig, filename = 'affiliation_to', auto_open=True)"
   ]
  },
  {
   "cell_type": "code",
   "execution_count": 35,
   "id": "dbe5e755",
   "metadata": {
    "scrolled": true
   },
   "outputs": [
    {
     "data": {
      "text/plain": [
       "'<iframe id=\"igraph\" scrolling=\"no\" style=\"border:none;\" seamless=\"seamless\" src=\"https://plotly.com/~James.a.gilbert/1.embed\" height=\"525\" width=\"100%\"></iframe>'"
      ]
     },
     "execution_count": 35,
     "metadata": {},
     "output_type": "execute_result"
    }
   ],
   "source": [
    "#username = 'james.a.gilbert' # your username\n",
    "#api_key = 'ojmzhFB4ylYBMMQwepbZ' # your api key - go to profile > settings > regenerate keychart_studio.tools.set_credentials_file(username=username, api_key=api_key)\n",
    "chart_studio.tools.get_embed('https://plotly.com/~James.a.gilbert/1/')"
   ]
  },
  {
   "cell_type": "code",
   "execution_count": 11,
   "id": "05c7699c",
   "metadata": {},
   "outputs": [],
   "source": [
    "crosstab2 = pd.crosstab(filtered_fields['affiliation_from'], \n",
    "            filtered_fields['affiliation_to'])"
   ]
  },
  {
   "cell_type": "code",
   "execution_count": 13,
   "id": "1a989098",
   "metadata": {},
   "outputs": [],
   "source": [
    "order = {'NOT IN NASHVILLE': [1],\n",
    "         'HCA': [2],\n",
    "         'SAINT THOMAS ASCENSION': [3],\n",
    "         'VANDERBILT':[4],\n",
    "         'NO MAJOR AFFILIATION/OTHER': [5],\n",
    "         'LIFEPOINT': [6],\n",
    "         'CHS': [7],\n",
    "         'SURGERY CENTER': [8]}"
   ]
  },
  {
   "cell_type": "code",
   "execution_count": 15,
   "id": "4f21d0a2",
   "metadata": {
    "scrolled": false
   },
   "outputs": [
    {
     "data": {
      "application/vnd.plotly.v1+json": {
       "config": {
        "plotlyServerURL": "https://plotly.com"
       },
       "data": [
        {
         "alignmentgroup": "True",
         "hovertemplate": "Affiliation To=CHS<br>From Affiliation=%{x}<br>Total Patient Referrals=%{y}<extra></extra>",
         "legendgroup": "CHS",
         "marker": {
          "color": "#636efa",
          "pattern": {
           "shape": ""
          }
         },
         "name": "CHS",
         "offsetgroup": "CHS",
         "orientation": "v",
         "showlegend": true,
         "textposition": "auto",
         "type": "bar",
         "x": [
          "CHS",
          "HCA",
          "LIFEPOINT",
          "NO MAJOR AFFILIATION/OTHER",
          "NOT IN NASHVILLE",
          "SAINT THOMAS ASCENSION",
          "SURGERY CENTER",
          "VANDERBILT"
         ],
         "xaxis": "x",
         "y": [
          39,
          358,
          11,
          18,
          301,
          66,
          1,
          20
         ],
         "yaxis": "y"
        },
        {
         "alignmentgroup": "True",
         "hovertemplate": "Affiliation To=HCA<br>From Affiliation=%{x}<br>Total Patient Referrals=%{y}<extra></extra>",
         "legendgroup": "HCA",
         "marker": {
          "color": "#EF553B",
          "pattern": {
           "shape": ""
          }
         },
         "name": "HCA",
         "offsetgroup": "HCA",
         "orientation": "v",
         "showlegend": true,
         "textposition": "auto",
         "type": "bar",
         "x": [
          "CHS",
          "HCA",
          "LIFEPOINT",
          "NO MAJOR AFFILIATION/OTHER",
          "NOT IN NASHVILLE",
          "SAINT THOMAS ASCENSION",
          "SURGERY CENTER",
          "VANDERBILT"
         ],
         "xaxis": "x",
         "y": [
          226,
          12759,
          724,
          1107,
          10158,
          3993,
          59,
          2286
         ],
         "yaxis": "y"
        },
        {
         "alignmentgroup": "True",
         "hovertemplate": "Affiliation To=LIFEPOINT<br>From Affiliation=%{x}<br>Total Patient Referrals=%{y}<extra></extra>",
         "legendgroup": "LIFEPOINT",
         "marker": {
          "color": "#00cc96",
          "pattern": {
           "shape": ""
          }
         },
         "name": "LIFEPOINT",
         "offsetgroup": "LIFEPOINT",
         "orientation": "v",
         "showlegend": true,
         "textposition": "auto",
         "type": "bar",
         "x": [
          "CHS",
          "HCA",
          "LIFEPOINT",
          "NO MAJOR AFFILIATION/OTHER",
          "NOT IN NASHVILLE",
          "SAINT THOMAS ASCENSION",
          "SURGERY CENTER",
          "VANDERBILT"
         ],
         "xaxis": "x",
         "y": [
          18,
          724,
          660,
          151,
          806,
          223,
          1,
          499
         ],
         "yaxis": "y"
        },
        {
         "alignmentgroup": "True",
         "hovertemplate": "Affiliation To=NO MAJOR AFFILIATION/OTHER<br>From Affiliation=%{x}<br>Total Patient Referrals=%{y}<extra></extra>",
         "legendgroup": "NO MAJOR AFFILIATION/OTHER",
         "marker": {
          "color": "#ab63fa",
          "pattern": {
           "shape": ""
          }
         },
         "name": "NO MAJOR AFFILIATION/OTHER",
         "offsetgroup": "NO MAJOR AFFILIATION/OTHER",
         "orientation": "v",
         "showlegend": true,
         "textposition": "auto",
         "type": "bar",
         "x": [
          "CHS",
          "HCA",
          "LIFEPOINT",
          "NO MAJOR AFFILIATION/OTHER",
          "NOT IN NASHVILLE",
          "SAINT THOMAS ASCENSION",
          "SURGERY CENTER",
          "VANDERBILT"
         ],
         "xaxis": "x",
         "y": [
          64,
          2317,
          274,
          979,
          3928,
          1059,
          12,
          790
         ],
         "yaxis": "y"
        },
        {
         "alignmentgroup": "True",
         "hovertemplate": "Affiliation To=NOT IN NASHVILLE<br>From Affiliation=%{x}<br>Total Patient Referrals=%{y}<extra></extra>",
         "legendgroup": "NOT IN NASHVILLE",
         "marker": {
          "color": "#FFA15A",
          "pattern": {
           "shape": ""
          }
         },
         "name": "NOT IN NASHVILLE",
         "offsetgroup": "NOT IN NASHVILLE",
         "orientation": "v",
         "showlegend": true,
         "textposition": "auto",
         "type": "bar",
         "x": [
          "CHS",
          "HCA",
          "LIFEPOINT",
          "NO MAJOR AFFILIATION/OTHER",
          "NOT IN NASHVILLE",
          "SAINT THOMAS ASCENSION",
          "SURGERY CENTER",
          "VANDERBILT"
         ],
         "xaxis": "x",
         "y": [
          36,
          1264,
          118,
          288,
          7173,
          523,
          5,
          661
         ],
         "yaxis": "y"
        },
        {
         "alignmentgroup": "True",
         "hovertemplate": "Affiliation To=SAINT THOMAS ASCENSION<br>From Affiliation=%{x}<br>Total Patient Referrals=%{y}<extra></extra>",
         "legendgroup": "SAINT THOMAS ASCENSION",
         "marker": {
          "color": "#19d3f3",
          "pattern": {
           "shape": ""
          }
         },
         "name": "SAINT THOMAS ASCENSION",
         "offsetgroup": "SAINT THOMAS ASCENSION",
         "orientation": "v",
         "showlegend": true,
         "textposition": "auto",
         "type": "bar",
         "x": [
          "CHS",
          "HCA",
          "LIFEPOINT",
          "NO MAJOR AFFILIATION/OTHER",
          "NOT IN NASHVILLE",
          "SAINT THOMAS ASCENSION",
          "SURGERY CENTER",
          "VANDERBILT"
         ],
         "xaxis": "x",
         "y": [
          85,
          2340,
          364,
          444,
          3385,
          7567,
          27,
          1044
         ],
         "yaxis": "y"
        },
        {
         "alignmentgroup": "True",
         "hovertemplate": "Affiliation To=SURGERY CENTER<br>From Affiliation=%{x}<br>Total Patient Referrals=%{y}<extra></extra>",
         "legendgroup": "SURGERY CENTER",
         "marker": {
          "color": "#FF6692",
          "pattern": {
           "shape": ""
          }
         },
         "name": "SURGERY CENTER",
         "offsetgroup": "SURGERY CENTER",
         "orientation": "v",
         "showlegend": true,
         "textposition": "auto",
         "type": "bar",
         "x": [
          "CHS",
          "HCA",
          "LIFEPOINT",
          "NO MAJOR AFFILIATION/OTHER",
          "NOT IN NASHVILLE",
          "SAINT THOMAS ASCENSION",
          "SURGERY CENTER",
          "VANDERBILT"
         ],
         "xaxis": "x",
         "y": [
          21,
          185,
          25,
          40,
          82,
          119,
          40,
          61
         ],
         "yaxis": "y"
        },
        {
         "alignmentgroup": "True",
         "hovertemplate": "Affiliation To=VANDERBILT<br>From Affiliation=%{x}<br>Total Patient Referrals=%{y}<extra></extra>",
         "legendgroup": "VANDERBILT",
         "marker": {
          "color": "#B6E880",
          "pattern": {
           "shape": ""
          }
         },
         "name": "VANDERBILT",
         "offsetgroup": "VANDERBILT",
         "orientation": "v",
         "showlegend": true,
         "textposition": "auto",
         "type": "bar",
         "x": [
          "CHS",
          "HCA",
          "LIFEPOINT",
          "NO MAJOR AFFILIATION/OTHER",
          "NOT IN NASHVILLE",
          "SAINT THOMAS ASCENSION",
          "SURGERY CENTER",
          "VANDERBILT"
         ],
         "xaxis": "x",
         "y": [
          79,
          3021,
          874,
          727,
          5845,
          1824,
          34,
          7417
         ],
         "yaxis": "y"
        }
       ],
       "layout": {
        "barmode": "stack",
        "legend": {
         "title": {
          "text": "Affiliation To"
         },
         "tracegroupgap": 0
        },
        "template": {
         "data": {
          "bar": [
           {
            "error_x": {
             "color": "#2a3f5f"
            },
            "error_y": {
             "color": "#2a3f5f"
            },
            "marker": {
             "line": {
              "color": "#E5ECF6",
              "width": 0.5
             },
             "pattern": {
              "fillmode": "overlay",
              "size": 10,
              "solidity": 0.2
             }
            },
            "type": "bar"
           }
          ],
          "barpolar": [
           {
            "marker": {
             "line": {
              "color": "#E5ECF6",
              "width": 0.5
             },
             "pattern": {
              "fillmode": "overlay",
              "size": 10,
              "solidity": 0.2
             }
            },
            "type": "barpolar"
           }
          ],
          "carpet": [
           {
            "aaxis": {
             "endlinecolor": "#2a3f5f",
             "gridcolor": "white",
             "linecolor": "white",
             "minorgridcolor": "white",
             "startlinecolor": "#2a3f5f"
            },
            "baxis": {
             "endlinecolor": "#2a3f5f",
             "gridcolor": "white",
             "linecolor": "white",
             "minorgridcolor": "white",
             "startlinecolor": "#2a3f5f"
            },
            "type": "carpet"
           }
          ],
          "choropleth": [
           {
            "colorbar": {
             "outlinewidth": 0,
             "ticks": ""
            },
            "type": "choropleth"
           }
          ],
          "contour": [
           {
            "colorbar": {
             "outlinewidth": 0,
             "ticks": ""
            },
            "colorscale": [
             [
              0,
              "#0d0887"
             ],
             [
              0.1111111111111111,
              "#46039f"
             ],
             [
              0.2222222222222222,
              "#7201a8"
             ],
             [
              0.3333333333333333,
              "#9c179e"
             ],
             [
              0.4444444444444444,
              "#bd3786"
             ],
             [
              0.5555555555555556,
              "#d8576b"
             ],
             [
              0.6666666666666666,
              "#ed7953"
             ],
             [
              0.7777777777777778,
              "#fb9f3a"
             ],
             [
              0.8888888888888888,
              "#fdca26"
             ],
             [
              1,
              "#f0f921"
             ]
            ],
            "type": "contour"
           }
          ],
          "contourcarpet": [
           {
            "colorbar": {
             "outlinewidth": 0,
             "ticks": ""
            },
            "type": "contourcarpet"
           }
          ],
          "heatmap": [
           {
            "colorbar": {
             "outlinewidth": 0,
             "ticks": ""
            },
            "colorscale": [
             [
              0,
              "#0d0887"
             ],
             [
              0.1111111111111111,
              "#46039f"
             ],
             [
              0.2222222222222222,
              "#7201a8"
             ],
             [
              0.3333333333333333,
              "#9c179e"
             ],
             [
              0.4444444444444444,
              "#bd3786"
             ],
             [
              0.5555555555555556,
              "#d8576b"
             ],
             [
              0.6666666666666666,
              "#ed7953"
             ],
             [
              0.7777777777777778,
              "#fb9f3a"
             ],
             [
              0.8888888888888888,
              "#fdca26"
             ],
             [
              1,
              "#f0f921"
             ]
            ],
            "type": "heatmap"
           }
          ],
          "heatmapgl": [
           {
            "colorbar": {
             "outlinewidth": 0,
             "ticks": ""
            },
            "colorscale": [
             [
              0,
              "#0d0887"
             ],
             [
              0.1111111111111111,
              "#46039f"
             ],
             [
              0.2222222222222222,
              "#7201a8"
             ],
             [
              0.3333333333333333,
              "#9c179e"
             ],
             [
              0.4444444444444444,
              "#bd3786"
             ],
             [
              0.5555555555555556,
              "#d8576b"
             ],
             [
              0.6666666666666666,
              "#ed7953"
             ],
             [
              0.7777777777777778,
              "#fb9f3a"
             ],
             [
              0.8888888888888888,
              "#fdca26"
             ],
             [
              1,
              "#f0f921"
             ]
            ],
            "type": "heatmapgl"
           }
          ],
          "histogram": [
           {
            "marker": {
             "pattern": {
              "fillmode": "overlay",
              "size": 10,
              "solidity": 0.2
             }
            },
            "type": "histogram"
           }
          ],
          "histogram2d": [
           {
            "colorbar": {
             "outlinewidth": 0,
             "ticks": ""
            },
            "colorscale": [
             [
              0,
              "#0d0887"
             ],
             [
              0.1111111111111111,
              "#46039f"
             ],
             [
              0.2222222222222222,
              "#7201a8"
             ],
             [
              0.3333333333333333,
              "#9c179e"
             ],
             [
              0.4444444444444444,
              "#bd3786"
             ],
             [
              0.5555555555555556,
              "#d8576b"
             ],
             [
              0.6666666666666666,
              "#ed7953"
             ],
             [
              0.7777777777777778,
              "#fb9f3a"
             ],
             [
              0.8888888888888888,
              "#fdca26"
             ],
             [
              1,
              "#f0f921"
             ]
            ],
            "type": "histogram2d"
           }
          ],
          "histogram2dcontour": [
           {
            "colorbar": {
             "outlinewidth": 0,
             "ticks": ""
            },
            "colorscale": [
             [
              0,
              "#0d0887"
             ],
             [
              0.1111111111111111,
              "#46039f"
             ],
             [
              0.2222222222222222,
              "#7201a8"
             ],
             [
              0.3333333333333333,
              "#9c179e"
             ],
             [
              0.4444444444444444,
              "#bd3786"
             ],
             [
              0.5555555555555556,
              "#d8576b"
             ],
             [
              0.6666666666666666,
              "#ed7953"
             ],
             [
              0.7777777777777778,
              "#fb9f3a"
             ],
             [
              0.8888888888888888,
              "#fdca26"
             ],
             [
              1,
              "#f0f921"
             ]
            ],
            "type": "histogram2dcontour"
           }
          ],
          "mesh3d": [
           {
            "colorbar": {
             "outlinewidth": 0,
             "ticks": ""
            },
            "type": "mesh3d"
           }
          ],
          "parcoords": [
           {
            "line": {
             "colorbar": {
              "outlinewidth": 0,
              "ticks": ""
             }
            },
            "type": "parcoords"
           }
          ],
          "pie": [
           {
            "automargin": true,
            "type": "pie"
           }
          ],
          "scatter": [
           {
            "marker": {
             "colorbar": {
              "outlinewidth": 0,
              "ticks": ""
             }
            },
            "type": "scatter"
           }
          ],
          "scatter3d": [
           {
            "line": {
             "colorbar": {
              "outlinewidth": 0,
              "ticks": ""
             }
            },
            "marker": {
             "colorbar": {
              "outlinewidth": 0,
              "ticks": ""
             }
            },
            "type": "scatter3d"
           }
          ],
          "scattercarpet": [
           {
            "marker": {
             "colorbar": {
              "outlinewidth": 0,
              "ticks": ""
             }
            },
            "type": "scattercarpet"
           }
          ],
          "scattergeo": [
           {
            "marker": {
             "colorbar": {
              "outlinewidth": 0,
              "ticks": ""
             }
            },
            "type": "scattergeo"
           }
          ],
          "scattergl": [
           {
            "marker": {
             "colorbar": {
              "outlinewidth": 0,
              "ticks": ""
             }
            },
            "type": "scattergl"
           }
          ],
          "scattermapbox": [
           {
            "marker": {
             "colorbar": {
              "outlinewidth": 0,
              "ticks": ""
             }
            },
            "type": "scattermapbox"
           }
          ],
          "scatterpolar": [
           {
            "marker": {
             "colorbar": {
              "outlinewidth": 0,
              "ticks": ""
             }
            },
            "type": "scatterpolar"
           }
          ],
          "scatterpolargl": [
           {
            "marker": {
             "colorbar": {
              "outlinewidth": 0,
              "ticks": ""
             }
            },
            "type": "scatterpolargl"
           }
          ],
          "scatterternary": [
           {
            "marker": {
             "colorbar": {
              "outlinewidth": 0,
              "ticks": ""
             }
            },
            "type": "scatterternary"
           }
          ],
          "surface": [
           {
            "colorbar": {
             "outlinewidth": 0,
             "ticks": ""
            },
            "colorscale": [
             [
              0,
              "#0d0887"
             ],
             [
              0.1111111111111111,
              "#46039f"
             ],
             [
              0.2222222222222222,
              "#7201a8"
             ],
             [
              0.3333333333333333,
              "#9c179e"
             ],
             [
              0.4444444444444444,
              "#bd3786"
             ],
             [
              0.5555555555555556,
              "#d8576b"
             ],
             [
              0.6666666666666666,
              "#ed7953"
             ],
             [
              0.7777777777777778,
              "#fb9f3a"
             ],
             [
              0.8888888888888888,
              "#fdca26"
             ],
             [
              1,
              "#f0f921"
             ]
            ],
            "type": "surface"
           }
          ],
          "table": [
           {
            "cells": {
             "fill": {
              "color": "#EBF0F8"
             },
             "line": {
              "color": "white"
             }
            },
            "header": {
             "fill": {
              "color": "#C8D4E3"
             },
             "line": {
              "color": "white"
             }
            },
            "type": "table"
           }
          ]
         },
         "layout": {
          "annotationdefaults": {
           "arrowcolor": "#2a3f5f",
           "arrowhead": 0,
           "arrowwidth": 1
          },
          "autotypenumbers": "strict",
          "coloraxis": {
           "colorbar": {
            "outlinewidth": 0,
            "ticks": ""
           }
          },
          "colorscale": {
           "diverging": [
            [
             0,
             "#8e0152"
            ],
            [
             0.1,
             "#c51b7d"
            ],
            [
             0.2,
             "#de77ae"
            ],
            [
             0.3,
             "#f1b6da"
            ],
            [
             0.4,
             "#fde0ef"
            ],
            [
             0.5,
             "#f7f7f7"
            ],
            [
             0.6,
             "#e6f5d0"
            ],
            [
             0.7,
             "#b8e186"
            ],
            [
             0.8,
             "#7fbc41"
            ],
            [
             0.9,
             "#4d9221"
            ],
            [
             1,
             "#276419"
            ]
           ],
           "sequential": [
            [
             0,
             "#0d0887"
            ],
            [
             0.1111111111111111,
             "#46039f"
            ],
            [
             0.2222222222222222,
             "#7201a8"
            ],
            [
             0.3333333333333333,
             "#9c179e"
            ],
            [
             0.4444444444444444,
             "#bd3786"
            ],
            [
             0.5555555555555556,
             "#d8576b"
            ],
            [
             0.6666666666666666,
             "#ed7953"
            ],
            [
             0.7777777777777778,
             "#fb9f3a"
            ],
            [
             0.8888888888888888,
             "#fdca26"
            ],
            [
             1,
             "#f0f921"
            ]
           ],
           "sequentialminus": [
            [
             0,
             "#0d0887"
            ],
            [
             0.1111111111111111,
             "#46039f"
            ],
            [
             0.2222222222222222,
             "#7201a8"
            ],
            [
             0.3333333333333333,
             "#9c179e"
            ],
            [
             0.4444444444444444,
             "#bd3786"
            ],
            [
             0.5555555555555556,
             "#d8576b"
            ],
            [
             0.6666666666666666,
             "#ed7953"
            ],
            [
             0.7777777777777778,
             "#fb9f3a"
            ],
            [
             0.8888888888888888,
             "#fdca26"
            ],
            [
             1,
             "#f0f921"
            ]
           ]
          },
          "colorway": [
           "#636efa",
           "#EF553B",
           "#00cc96",
           "#ab63fa",
           "#FFA15A",
           "#19d3f3",
           "#FF6692",
           "#B6E880",
           "#FF97FF",
           "#FECB52"
          ],
          "font": {
           "color": "#2a3f5f"
          },
          "geo": {
           "bgcolor": "white",
           "lakecolor": "white",
           "landcolor": "#E5ECF6",
           "showlakes": true,
           "showland": true,
           "subunitcolor": "white"
          },
          "hoverlabel": {
           "align": "left"
          },
          "hovermode": "closest",
          "mapbox": {
           "style": "light"
          },
          "paper_bgcolor": "white",
          "plot_bgcolor": "#E5ECF6",
          "polar": {
           "angularaxis": {
            "gridcolor": "white",
            "linecolor": "white",
            "ticks": ""
           },
           "bgcolor": "#E5ECF6",
           "radialaxis": {
            "gridcolor": "white",
            "linecolor": "white",
            "ticks": ""
           }
          },
          "scene": {
           "xaxis": {
            "backgroundcolor": "#E5ECF6",
            "gridcolor": "white",
            "gridwidth": 2,
            "linecolor": "white",
            "showbackground": true,
            "ticks": "",
            "zerolinecolor": "white"
           },
           "yaxis": {
            "backgroundcolor": "#E5ECF6",
            "gridcolor": "white",
            "gridwidth": 2,
            "linecolor": "white",
            "showbackground": true,
            "ticks": "",
            "zerolinecolor": "white"
           },
           "zaxis": {
            "backgroundcolor": "#E5ECF6",
            "gridcolor": "white",
            "gridwidth": 2,
            "linecolor": "white",
            "showbackground": true,
            "ticks": "",
            "zerolinecolor": "white"
           }
          },
          "shapedefaults": {
           "line": {
            "color": "#2a3f5f"
           }
          },
          "ternary": {
           "aaxis": {
            "gridcolor": "white",
            "linecolor": "white",
            "ticks": ""
           },
           "baxis": {
            "gridcolor": "white",
            "linecolor": "white",
            "ticks": ""
           },
           "bgcolor": "#E5ECF6",
           "caxis": {
            "gridcolor": "white",
            "linecolor": "white",
            "ticks": ""
           }
          },
          "title": {
           "x": 0.05
          },
          "xaxis": {
           "automargin": true,
           "gridcolor": "white",
           "linecolor": "white",
           "ticks": "",
           "title": {
            "standoff": 15
           },
           "zerolinecolor": "white",
           "zerolinewidth": 2
          },
          "yaxis": {
           "automargin": true,
           "gridcolor": "white",
           "linecolor": "white",
           "ticks": "",
           "title": {
            "standoff": 15
           },
           "zerolinecolor": "white",
           "zerolinewidth": 2
          }
         }
        },
        "title": {
         "text": "Total Volume of Referrals to Affiliations",
         "x": 0.5
        },
        "xaxis": {
         "anchor": "y",
         "categoryorder": "total descending",
         "domain": [
          0,
          1
         ],
         "title": {
          "text": "From Affiliation"
         }
        },
        "yaxis": {
         "anchor": "x",
         "domain": [
          0,
          1
         ],
         "title": {
          "text": "Total Patient Referrals"
         }
        }
       }
      },
      "text/html": [
       "<div>                            <div id=\"97353784-f83b-4a8d-ab54-ba18df0a7e09\" class=\"plotly-graph-div\" style=\"height:525px; width:100%;\"></div>            <script type=\"text/javascript\">                require([\"plotly\"], function(Plotly) {                    window.PLOTLYENV=window.PLOTLYENV || {};                                    if (document.getElementById(\"97353784-f83b-4a8d-ab54-ba18df0a7e09\")) {                    Plotly.newPlot(                        \"97353784-f83b-4a8d-ab54-ba18df0a7e09\",                        [{\"alignmentgroup\":\"True\",\"hovertemplate\":\"Affiliation To=CHS<br>From Affiliation=%{x}<br>Total Patient Referrals=%{y}<extra></extra>\",\"legendgroup\":\"CHS\",\"marker\":{\"color\":\"#636efa\",\"pattern\":{\"shape\":\"\"}},\"name\":\"CHS\",\"offsetgroup\":\"CHS\",\"orientation\":\"v\",\"showlegend\":true,\"textposition\":\"auto\",\"x\":[\"CHS\",\"HCA\",\"LIFEPOINT\",\"NO MAJOR AFFILIATION/OTHER\",\"NOT IN NASHVILLE\",\"SAINT THOMAS ASCENSION\",\"SURGERY CENTER\",\"VANDERBILT\"],\"xaxis\":\"x\",\"y\":[39,358,11,18,301,66,1,20],\"yaxis\":\"y\",\"type\":\"bar\"},{\"alignmentgroup\":\"True\",\"hovertemplate\":\"Affiliation To=HCA<br>From Affiliation=%{x}<br>Total Patient Referrals=%{y}<extra></extra>\",\"legendgroup\":\"HCA\",\"marker\":{\"color\":\"#EF553B\",\"pattern\":{\"shape\":\"\"}},\"name\":\"HCA\",\"offsetgroup\":\"HCA\",\"orientation\":\"v\",\"showlegend\":true,\"textposition\":\"auto\",\"x\":[\"CHS\",\"HCA\",\"LIFEPOINT\",\"NO MAJOR AFFILIATION/OTHER\",\"NOT IN NASHVILLE\",\"SAINT THOMAS ASCENSION\",\"SURGERY CENTER\",\"VANDERBILT\"],\"xaxis\":\"x\",\"y\":[226,12759,724,1107,10158,3993,59,2286],\"yaxis\":\"y\",\"type\":\"bar\"},{\"alignmentgroup\":\"True\",\"hovertemplate\":\"Affiliation To=LIFEPOINT<br>From Affiliation=%{x}<br>Total Patient Referrals=%{y}<extra></extra>\",\"legendgroup\":\"LIFEPOINT\",\"marker\":{\"color\":\"#00cc96\",\"pattern\":{\"shape\":\"\"}},\"name\":\"LIFEPOINT\",\"offsetgroup\":\"LIFEPOINT\",\"orientation\":\"v\",\"showlegend\":true,\"textposition\":\"auto\",\"x\":[\"CHS\",\"HCA\",\"LIFEPOINT\",\"NO MAJOR AFFILIATION/OTHER\",\"NOT IN NASHVILLE\",\"SAINT THOMAS ASCENSION\",\"SURGERY CENTER\",\"VANDERBILT\"],\"xaxis\":\"x\",\"y\":[18,724,660,151,806,223,1,499],\"yaxis\":\"y\",\"type\":\"bar\"},{\"alignmentgroup\":\"True\",\"hovertemplate\":\"Affiliation To=NO MAJOR AFFILIATION/OTHER<br>From Affiliation=%{x}<br>Total Patient Referrals=%{y}<extra></extra>\",\"legendgroup\":\"NO MAJOR AFFILIATION/OTHER\",\"marker\":{\"color\":\"#ab63fa\",\"pattern\":{\"shape\":\"\"}},\"name\":\"NO MAJOR AFFILIATION/OTHER\",\"offsetgroup\":\"NO MAJOR AFFILIATION/OTHER\",\"orientation\":\"v\",\"showlegend\":true,\"textposition\":\"auto\",\"x\":[\"CHS\",\"HCA\",\"LIFEPOINT\",\"NO MAJOR AFFILIATION/OTHER\",\"NOT IN NASHVILLE\",\"SAINT THOMAS ASCENSION\",\"SURGERY CENTER\",\"VANDERBILT\"],\"xaxis\":\"x\",\"y\":[64,2317,274,979,3928,1059,12,790],\"yaxis\":\"y\",\"type\":\"bar\"},{\"alignmentgroup\":\"True\",\"hovertemplate\":\"Affiliation To=NOT IN NASHVILLE<br>From Affiliation=%{x}<br>Total Patient Referrals=%{y}<extra></extra>\",\"legendgroup\":\"NOT IN NASHVILLE\",\"marker\":{\"color\":\"#FFA15A\",\"pattern\":{\"shape\":\"\"}},\"name\":\"NOT IN NASHVILLE\",\"offsetgroup\":\"NOT IN NASHVILLE\",\"orientation\":\"v\",\"showlegend\":true,\"textposition\":\"auto\",\"x\":[\"CHS\",\"HCA\",\"LIFEPOINT\",\"NO MAJOR AFFILIATION/OTHER\",\"NOT IN NASHVILLE\",\"SAINT THOMAS ASCENSION\",\"SURGERY CENTER\",\"VANDERBILT\"],\"xaxis\":\"x\",\"y\":[36,1264,118,288,7173,523,5,661],\"yaxis\":\"y\",\"type\":\"bar\"},{\"alignmentgroup\":\"True\",\"hovertemplate\":\"Affiliation To=SAINT THOMAS ASCENSION<br>From Affiliation=%{x}<br>Total Patient Referrals=%{y}<extra></extra>\",\"legendgroup\":\"SAINT THOMAS ASCENSION\",\"marker\":{\"color\":\"#19d3f3\",\"pattern\":{\"shape\":\"\"}},\"name\":\"SAINT THOMAS ASCENSION\",\"offsetgroup\":\"SAINT THOMAS ASCENSION\",\"orientation\":\"v\",\"showlegend\":true,\"textposition\":\"auto\",\"x\":[\"CHS\",\"HCA\",\"LIFEPOINT\",\"NO MAJOR AFFILIATION/OTHER\",\"NOT IN NASHVILLE\",\"SAINT THOMAS ASCENSION\",\"SURGERY CENTER\",\"VANDERBILT\"],\"xaxis\":\"x\",\"y\":[85,2340,364,444,3385,7567,27,1044],\"yaxis\":\"y\",\"type\":\"bar\"},{\"alignmentgroup\":\"True\",\"hovertemplate\":\"Affiliation To=SURGERY CENTER<br>From Affiliation=%{x}<br>Total Patient Referrals=%{y}<extra></extra>\",\"legendgroup\":\"SURGERY CENTER\",\"marker\":{\"color\":\"#FF6692\",\"pattern\":{\"shape\":\"\"}},\"name\":\"SURGERY CENTER\",\"offsetgroup\":\"SURGERY CENTER\",\"orientation\":\"v\",\"showlegend\":true,\"textposition\":\"auto\",\"x\":[\"CHS\",\"HCA\",\"LIFEPOINT\",\"NO MAJOR AFFILIATION/OTHER\",\"NOT IN NASHVILLE\",\"SAINT THOMAS ASCENSION\",\"SURGERY CENTER\",\"VANDERBILT\"],\"xaxis\":\"x\",\"y\":[21,185,25,40,82,119,40,61],\"yaxis\":\"y\",\"type\":\"bar\"},{\"alignmentgroup\":\"True\",\"hovertemplate\":\"Affiliation To=VANDERBILT<br>From Affiliation=%{x}<br>Total Patient Referrals=%{y}<extra></extra>\",\"legendgroup\":\"VANDERBILT\",\"marker\":{\"color\":\"#B6E880\",\"pattern\":{\"shape\":\"\"}},\"name\":\"VANDERBILT\",\"offsetgroup\":\"VANDERBILT\",\"orientation\":\"v\",\"showlegend\":true,\"textposition\":\"auto\",\"x\":[\"CHS\",\"HCA\",\"LIFEPOINT\",\"NO MAJOR AFFILIATION/OTHER\",\"NOT IN NASHVILLE\",\"SAINT THOMAS ASCENSION\",\"SURGERY CENTER\",\"VANDERBILT\"],\"xaxis\":\"x\",\"y\":[79,3021,874,727,5845,1824,34,7417],\"yaxis\":\"y\",\"type\":\"bar\"}],                        {\"template\":{\"data\":{\"bar\":[{\"error_x\":{\"color\":\"#2a3f5f\"},\"error_y\":{\"color\":\"#2a3f5f\"},\"marker\":{\"line\":{\"color\":\"#E5ECF6\",\"width\":0.5},\"pattern\":{\"fillmode\":\"overlay\",\"size\":10,\"solidity\":0.2}},\"type\":\"bar\"}],\"barpolar\":[{\"marker\":{\"line\":{\"color\":\"#E5ECF6\",\"width\":0.5},\"pattern\":{\"fillmode\":\"overlay\",\"size\":10,\"solidity\":0.2}},\"type\":\"barpolar\"}],\"carpet\":[{\"aaxis\":{\"endlinecolor\":\"#2a3f5f\",\"gridcolor\":\"white\",\"linecolor\":\"white\",\"minorgridcolor\":\"white\",\"startlinecolor\":\"#2a3f5f\"},\"baxis\":{\"endlinecolor\":\"#2a3f5f\",\"gridcolor\":\"white\",\"linecolor\":\"white\",\"minorgridcolor\":\"white\",\"startlinecolor\":\"#2a3f5f\"},\"type\":\"carpet\"}],\"choropleth\":[{\"colorbar\":{\"outlinewidth\":0,\"ticks\":\"\"},\"type\":\"choropleth\"}],\"contour\":[{\"colorbar\":{\"outlinewidth\":0,\"ticks\":\"\"},\"colorscale\":[[0.0,\"#0d0887\"],[0.1111111111111111,\"#46039f\"],[0.2222222222222222,\"#7201a8\"],[0.3333333333333333,\"#9c179e\"],[0.4444444444444444,\"#bd3786\"],[0.5555555555555556,\"#d8576b\"],[0.6666666666666666,\"#ed7953\"],[0.7777777777777778,\"#fb9f3a\"],[0.8888888888888888,\"#fdca26\"],[1.0,\"#f0f921\"]],\"type\":\"contour\"}],\"contourcarpet\":[{\"colorbar\":{\"outlinewidth\":0,\"ticks\":\"\"},\"type\":\"contourcarpet\"}],\"heatmap\":[{\"colorbar\":{\"outlinewidth\":0,\"ticks\":\"\"},\"colorscale\":[[0.0,\"#0d0887\"],[0.1111111111111111,\"#46039f\"],[0.2222222222222222,\"#7201a8\"],[0.3333333333333333,\"#9c179e\"],[0.4444444444444444,\"#bd3786\"],[0.5555555555555556,\"#d8576b\"],[0.6666666666666666,\"#ed7953\"],[0.7777777777777778,\"#fb9f3a\"],[0.8888888888888888,\"#fdca26\"],[1.0,\"#f0f921\"]],\"type\":\"heatmap\"}],\"heatmapgl\":[{\"colorbar\":{\"outlinewidth\":0,\"ticks\":\"\"},\"colorscale\":[[0.0,\"#0d0887\"],[0.1111111111111111,\"#46039f\"],[0.2222222222222222,\"#7201a8\"],[0.3333333333333333,\"#9c179e\"],[0.4444444444444444,\"#bd3786\"],[0.5555555555555556,\"#d8576b\"],[0.6666666666666666,\"#ed7953\"],[0.7777777777777778,\"#fb9f3a\"],[0.8888888888888888,\"#fdca26\"],[1.0,\"#f0f921\"]],\"type\":\"heatmapgl\"}],\"histogram\":[{\"marker\":{\"pattern\":{\"fillmode\":\"overlay\",\"size\":10,\"solidity\":0.2}},\"type\":\"histogram\"}],\"histogram2d\":[{\"colorbar\":{\"outlinewidth\":0,\"ticks\":\"\"},\"colorscale\":[[0.0,\"#0d0887\"],[0.1111111111111111,\"#46039f\"],[0.2222222222222222,\"#7201a8\"],[0.3333333333333333,\"#9c179e\"],[0.4444444444444444,\"#bd3786\"],[0.5555555555555556,\"#d8576b\"],[0.6666666666666666,\"#ed7953\"],[0.7777777777777778,\"#fb9f3a\"],[0.8888888888888888,\"#fdca26\"],[1.0,\"#f0f921\"]],\"type\":\"histogram2d\"}],\"histogram2dcontour\":[{\"colorbar\":{\"outlinewidth\":0,\"ticks\":\"\"},\"colorscale\":[[0.0,\"#0d0887\"],[0.1111111111111111,\"#46039f\"],[0.2222222222222222,\"#7201a8\"],[0.3333333333333333,\"#9c179e\"],[0.4444444444444444,\"#bd3786\"],[0.5555555555555556,\"#d8576b\"],[0.6666666666666666,\"#ed7953\"],[0.7777777777777778,\"#fb9f3a\"],[0.8888888888888888,\"#fdca26\"],[1.0,\"#f0f921\"]],\"type\":\"histogram2dcontour\"}],\"mesh3d\":[{\"colorbar\":{\"outlinewidth\":0,\"ticks\":\"\"},\"type\":\"mesh3d\"}],\"parcoords\":[{\"line\":{\"colorbar\":{\"outlinewidth\":0,\"ticks\":\"\"}},\"type\":\"parcoords\"}],\"pie\":[{\"automargin\":true,\"type\":\"pie\"}],\"scatter\":[{\"marker\":{\"colorbar\":{\"outlinewidth\":0,\"ticks\":\"\"}},\"type\":\"scatter\"}],\"scatter3d\":[{\"line\":{\"colorbar\":{\"outlinewidth\":0,\"ticks\":\"\"}},\"marker\":{\"colorbar\":{\"outlinewidth\":0,\"ticks\":\"\"}},\"type\":\"scatter3d\"}],\"scattercarpet\":[{\"marker\":{\"colorbar\":{\"outlinewidth\":0,\"ticks\":\"\"}},\"type\":\"scattercarpet\"}],\"scattergeo\":[{\"marker\":{\"colorbar\":{\"outlinewidth\":0,\"ticks\":\"\"}},\"type\":\"scattergeo\"}],\"scattergl\":[{\"marker\":{\"colorbar\":{\"outlinewidth\":0,\"ticks\":\"\"}},\"type\":\"scattergl\"}],\"scattermapbox\":[{\"marker\":{\"colorbar\":{\"outlinewidth\":0,\"ticks\":\"\"}},\"type\":\"scattermapbox\"}],\"scatterpolar\":[{\"marker\":{\"colorbar\":{\"outlinewidth\":0,\"ticks\":\"\"}},\"type\":\"scatterpolar\"}],\"scatterpolargl\":[{\"marker\":{\"colorbar\":{\"outlinewidth\":0,\"ticks\":\"\"}},\"type\":\"scatterpolargl\"}],\"scatterternary\":[{\"marker\":{\"colorbar\":{\"outlinewidth\":0,\"ticks\":\"\"}},\"type\":\"scatterternary\"}],\"surface\":[{\"colorbar\":{\"outlinewidth\":0,\"ticks\":\"\"},\"colorscale\":[[0.0,\"#0d0887\"],[0.1111111111111111,\"#46039f\"],[0.2222222222222222,\"#7201a8\"],[0.3333333333333333,\"#9c179e\"],[0.4444444444444444,\"#bd3786\"],[0.5555555555555556,\"#d8576b\"],[0.6666666666666666,\"#ed7953\"],[0.7777777777777778,\"#fb9f3a\"],[0.8888888888888888,\"#fdca26\"],[1.0,\"#f0f921\"]],\"type\":\"surface\"}],\"table\":[{\"cells\":{\"fill\":{\"color\":\"#EBF0F8\"},\"line\":{\"color\":\"white\"}},\"header\":{\"fill\":{\"color\":\"#C8D4E3\"},\"line\":{\"color\":\"white\"}},\"type\":\"table\"}]},\"layout\":{\"annotationdefaults\":{\"arrowcolor\":\"#2a3f5f\",\"arrowhead\":0,\"arrowwidth\":1},\"autotypenumbers\":\"strict\",\"coloraxis\":{\"colorbar\":{\"outlinewidth\":0,\"ticks\":\"\"}},\"colorscale\":{\"diverging\":[[0,\"#8e0152\"],[0.1,\"#c51b7d\"],[0.2,\"#de77ae\"],[0.3,\"#f1b6da\"],[0.4,\"#fde0ef\"],[0.5,\"#f7f7f7\"],[0.6,\"#e6f5d0\"],[0.7,\"#b8e186\"],[0.8,\"#7fbc41\"],[0.9,\"#4d9221\"],[1,\"#276419\"]],\"sequential\":[[0.0,\"#0d0887\"],[0.1111111111111111,\"#46039f\"],[0.2222222222222222,\"#7201a8\"],[0.3333333333333333,\"#9c179e\"],[0.4444444444444444,\"#bd3786\"],[0.5555555555555556,\"#d8576b\"],[0.6666666666666666,\"#ed7953\"],[0.7777777777777778,\"#fb9f3a\"],[0.8888888888888888,\"#fdca26\"],[1.0,\"#f0f921\"]],\"sequentialminus\":[[0.0,\"#0d0887\"],[0.1111111111111111,\"#46039f\"],[0.2222222222222222,\"#7201a8\"],[0.3333333333333333,\"#9c179e\"],[0.4444444444444444,\"#bd3786\"],[0.5555555555555556,\"#d8576b\"],[0.6666666666666666,\"#ed7953\"],[0.7777777777777778,\"#fb9f3a\"],[0.8888888888888888,\"#fdca26\"],[1.0,\"#f0f921\"]]},\"colorway\":[\"#636efa\",\"#EF553B\",\"#00cc96\",\"#ab63fa\",\"#FFA15A\",\"#19d3f3\",\"#FF6692\",\"#B6E880\",\"#FF97FF\",\"#FECB52\"],\"font\":{\"color\":\"#2a3f5f\"},\"geo\":{\"bgcolor\":\"white\",\"lakecolor\":\"white\",\"landcolor\":\"#E5ECF6\",\"showlakes\":true,\"showland\":true,\"subunitcolor\":\"white\"},\"hoverlabel\":{\"align\":\"left\"},\"hovermode\":\"closest\",\"mapbox\":{\"style\":\"light\"},\"paper_bgcolor\":\"white\",\"plot_bgcolor\":\"#E5ECF6\",\"polar\":{\"angularaxis\":{\"gridcolor\":\"white\",\"linecolor\":\"white\",\"ticks\":\"\"},\"bgcolor\":\"#E5ECF6\",\"radialaxis\":{\"gridcolor\":\"white\",\"linecolor\":\"white\",\"ticks\":\"\"}},\"scene\":{\"xaxis\":{\"backgroundcolor\":\"#E5ECF6\",\"gridcolor\":\"white\",\"gridwidth\":2,\"linecolor\":\"white\",\"showbackground\":true,\"ticks\":\"\",\"zerolinecolor\":\"white\"},\"yaxis\":{\"backgroundcolor\":\"#E5ECF6\",\"gridcolor\":\"white\",\"gridwidth\":2,\"linecolor\":\"white\",\"showbackground\":true,\"ticks\":\"\",\"zerolinecolor\":\"white\"},\"zaxis\":{\"backgroundcolor\":\"#E5ECF6\",\"gridcolor\":\"white\",\"gridwidth\":2,\"linecolor\":\"white\",\"showbackground\":true,\"ticks\":\"\",\"zerolinecolor\":\"white\"}},\"shapedefaults\":{\"line\":{\"color\":\"#2a3f5f\"}},\"ternary\":{\"aaxis\":{\"gridcolor\":\"white\",\"linecolor\":\"white\",\"ticks\":\"\"},\"baxis\":{\"gridcolor\":\"white\",\"linecolor\":\"white\",\"ticks\":\"\"},\"bgcolor\":\"#E5ECF6\",\"caxis\":{\"gridcolor\":\"white\",\"linecolor\":\"white\",\"ticks\":\"\"}},\"title\":{\"x\":0.05},\"xaxis\":{\"automargin\":true,\"gridcolor\":\"white\",\"linecolor\":\"white\",\"ticks\":\"\",\"title\":{\"standoff\":15},\"zerolinecolor\":\"white\",\"zerolinewidth\":2},\"yaxis\":{\"automargin\":true,\"gridcolor\":\"white\",\"linecolor\":\"white\",\"ticks\":\"\",\"title\":{\"standoff\":15},\"zerolinecolor\":\"white\",\"zerolinewidth\":2}}},\"xaxis\":{\"anchor\":\"y\",\"domain\":[0.0,1.0],\"title\":{\"text\":\"From Affiliation\"},\"categoryorder\":\"total descending\"},\"yaxis\":{\"anchor\":\"x\",\"domain\":[0.0,1.0],\"title\":{\"text\":\"Total Patient Referrals\"}},\"legend\":{\"title\":{\"text\":\"Affiliation To\"},\"tracegroupgap\":0},\"title\":{\"text\":\"Total Volume of Referrals to Affiliations\",\"x\":0.5},\"barmode\":\"stack\"},                        {\"responsive\": true}                    ).then(function(){\n",
       "                            \n",
       "var gd = document.getElementById('97353784-f83b-4a8d-ab54-ba18df0a7e09');\n",
       "var x = new MutationObserver(function (mutations, observer) {{\n",
       "        var display = window.getComputedStyle(gd).display;\n",
       "        if (!display || display === 'none') {{\n",
       "            console.log([gd, 'removed!']);\n",
       "            Plotly.purge(gd);\n",
       "            observer.disconnect();\n",
       "        }}\n",
       "}});\n",
       "\n",
       "// Listen for the removal of the full notebook cells\n",
       "var notebookContainer = gd.closest('#notebook-container');\n",
       "if (notebookContainer) {{\n",
       "    x.observe(notebookContainer, {childList: true});\n",
       "}}\n",
       "\n",
       "// Listen for the clearing of the current output cell\n",
       "var outputEl = gd.closest('.output');\n",
       "if (outputEl) {{\n",
       "    x.observe(outputEl, {childList: true});\n",
       "}}\n",
       "\n",
       "                        })                };                });            </script>        </div>"
      ]
     },
     "metadata": {},
     "output_type": "display_data"
    }
   ],
   "source": [
    "fig2 = px.bar(crosstab2,labels={\n",
    "                     \"affiliation_from\": \"From Affiliation\",\n",
    "                     \"value\": \"Total Patient Referrals\",\n",
    "                     \"affiliation_to\": \"Affiliation To\"\n",
    "                 },\n",
    "                title=\"Total Volume of Referrals to Affiliations\", category_orders= order)\n",
    "fig2.update_layout(barmode='stack', xaxis={'categoryorder':'total descending'}, title_x = 0.5)\n",
    "fig2.show()"
   ]
  },
  {
   "cell_type": "code",
   "execution_count": 16,
   "id": "fb6c88c6",
   "metadata": {},
   "outputs": [
    {
     "data": {
      "text/plain": [
       "'https://plotly.com/~James.a.gilbert/3/'"
      ]
     },
     "execution_count": 16,
     "metadata": {},
     "output_type": "execute_result"
    }
   ],
   "source": [
    "py.plot(fig2, filename = 'affiliation_to_counts', auto_open=True)"
   ]
  },
  {
   "cell_type": "code",
   "execution_count": 55,
   "id": "a50505e3",
   "metadata": {
    "scrolled": true
   },
   "outputs": [
    {
     "data": {
      "text/plain": [
       "'<iframe id=\"igraph\" scrolling=\"no\" style=\"border:none;\" seamless=\"seamless\" src=\"https://plotly.com/~James.a.gilbert/3.embed\" height=\"525\" width=\"100%\"></iframe>'"
      ]
     },
     "execution_count": 55,
     "metadata": {},
     "output_type": "execute_result"
    }
   ],
   "source": [
    "chart_studio.tools.get_embed('https://plotly.com/~James.a.gilbert/3/')"
   ]
  },
  {
   "cell_type": "code",
   "execution_count": null,
   "id": "75d2127b",
   "metadata": {},
   "outputs": [],
   "source": [
    "plt.figure(figsize=(20,10))\n",
    "c= filtered_fields.corr() \n",
    "sns.heatmap(c, cmap= 'BrBG' , annot=True)\n",
    "c"
   ]
  },
  {
   "cell_type": "code",
   "execution_count": null,
   "id": "6e1430be",
   "metadata": {
    "scrolled": true
   },
   "outputs": [],
   "source": [
    "filtered_fields['communityid'].value_counts().nlargest(10)"
   ]
  },
  {
   "cell_type": "code",
   "execution_count": null,
   "id": "be1b59ad",
   "metadata": {
    "scrolled": false
   },
   "outputs": [],
   "source": [
    "filtered_fields.groupby(['communityid']).sum().sort_values(by ='patient_count', ascending = False )"
   ]
  }
 ],
 "metadata": {
  "kernelspec": {
   "display_name": "Python 3",
   "language": "python",
   "name": "python3"
  },
  "language_info": {
   "codemirror_mode": {
    "name": "ipython",
    "version": 3
   },
   "file_extension": ".py",
   "mimetype": "text/x-python",
   "name": "python",
   "nbconvert_exporter": "python",
   "pygments_lexer": "ipython3",
   "version": "3.8.8"
  }
 },
 "nbformat": 4,
 "nbformat_minor": 5
}
